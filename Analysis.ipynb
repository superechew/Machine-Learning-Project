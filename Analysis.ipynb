{
 "cells": [
  {
   "cell_type": "markdown",
   "metadata": {},
   "source": [
    "### Cleaning data and Prep"
   ]
  },
  {
   "cell_type": "markdown",
   "metadata": {},
   "source": [
    "#### Import Packages and Files"
   ]
  },
  {
   "cell_type": "code",
   "execution_count": 1,
   "metadata": {},
   "outputs": [
    {
     "data": {
      "text/html": [
       "<div>\n",
       "<style scoped>\n",
       "    .dataframe tbody tr th:only-of-type {\n",
       "        vertical-align: middle;\n",
       "    }\n",
       "\n",
       "    .dataframe tbody tr th {\n",
       "        vertical-align: top;\n",
       "    }\n",
       "\n",
       "    .dataframe thead th {\n",
       "        text-align: right;\n",
       "    }\n",
       "</style>\n",
       "<table border=\"1\" class=\"dataframe\">\n",
       "  <thead>\n",
       "    <tr style=\"text-align: right;\">\n",
       "      <th></th>\n",
       "      <th>TIME_STAMP</th>\n",
       "      <th>DATA_VALUE</th>\n",
       "      <th>CAPAB_NAME</th>\n",
       "    </tr>\n",
       "  </thead>\n",
       "  <tbody>\n",
       "    <tr>\n",
       "      <th>0</th>\n",
       "      <td>09-28-22 11:43:46</td>\n",
       "      <td>39.776</td>\n",
       "      <td>Cycle Time</td>\n",
       "    </tr>\n",
       "    <tr>\n",
       "      <th>1</th>\n",
       "      <td>09-28-22 11:44:06</td>\n",
       "      <td>39.776</td>\n",
       "      <td>Cycle Time</td>\n",
       "    </tr>\n",
       "    <tr>\n",
       "      <th>2</th>\n",
       "      <td>09-28-22 11:44:26</td>\n",
       "      <td>39.776</td>\n",
       "      <td>Cycle Time</td>\n",
       "    </tr>\n",
       "    <tr>\n",
       "      <th>3</th>\n",
       "      <td>09-28-22 11:44:46</td>\n",
       "      <td>39.776</td>\n",
       "      <td>Cycle Time</td>\n",
       "    </tr>\n",
       "    <tr>\n",
       "      <th>4</th>\n",
       "      <td>09-28-22 11:45:06</td>\n",
       "      <td>39.776</td>\n",
       "      <td>Cycle Time</td>\n",
       "    </tr>\n",
       "  </tbody>\n",
       "</table>\n",
       "</div>"
      ],
      "text/plain": [
       "          TIME_STAMP  DATA_VALUE  CAPAB_NAME\n",
       "0  09-28-22 11:43:46      39.776  Cycle Time\n",
       "1  09-28-22 11:44:06      39.776  Cycle Time\n",
       "2  09-28-22 11:44:26      39.776  Cycle Time\n",
       "3  09-28-22 11:44:46      39.776  Cycle Time\n",
       "4  09-28-22 11:45:06      39.776  Cycle Time"
      ]
     },
     "execution_count": 1,
     "metadata": {},
     "output_type": "execute_result"
    }
   ],
   "source": [
    "import numpy as np\n",
    "import pandas as pd\n",
    "from matplotlib import pyplot as plt \n",
    "%matplotlib inline\n",
    "import matplotlib.pyplot as plt\n",
    "\n",
    "usable_columns = ['TIME_STAMP', 'DATA_VALUE', 'CAPAB_NAME'] # these are the only columns we care about\n",
    "\n",
    "df_leak = pd.read_csv(r'/Users/everett//BRI_ML_Project/MM10 Nozzle Leak.csv', usecols=usable_columns, skip_blank_lines=True)\n",
    "df_good = pd.read_csv(r'/Users/everett/BRI_ML_Project/MM10 Good Run.csv', usecols=usable_columns, skip_blank_lines=True)\n",
    "df_leak.head()"
   ]
  },
  {
   "cell_type": "markdown",
   "metadata": {},
   "source": [
    "##### Define Transformer"
   ]
  },
  {
   "cell_type": "code",
   "execution_count": 2,
   "metadata": {},
   "outputs": [],
   "source": [
    "from sklearn.base import BaseEstimator, TransformerMixin\n",
    "\n",
    "# Defines transformer pipeline for leak data.\n",
    "class LeakTransformer(BaseEstimator, TransformerMixin):\n",
    "    def __init__(self) -> None:\n",
    "        self\n",
    "    def fit(self, X,y=None):\n",
    "        return self\n",
    "    def transform(self, X):\n",
    "        X = X.drop(X[pd.isna(X[\"TIME_STAMP\"])].index) # Eliminates NaN rows\n",
    "        X = X.pivot(index=\"TIME_STAMP\", columns=\"CAPAB_NAME\", values=\"DATA_VALUE\") \n",
    "        X = X.drop(columns=['Mold Close Position (Mold Protect)', 'Mold Load Detect Monitor Mode','Mold Load Detect Status',\n",
    "        'Mold Open Limit Position', 'Mold Protect Monitor Status (By Time)', 'Mold Protect Monitor Time'], axis=1) # drops unusable columns\n",
    "        X['Flag'] = 1 #this \"Flag\" column indicates that the data in the row is from the leak data set.\n",
    "        return X\n",
    "\n",
    "# Define transformer pipeline for good run data. Same as above except here we set Flag = 0.\n",
    "class GoodTransformer(BaseEstimator, TransformerMixin):\n",
    "    def __init__(self) -> None:\n",
    "        self\n",
    "    def fit(self, X,y=None):\n",
    "        return self\n",
    "    def transform(self, X):\n",
    "        X = X.drop(X[pd.isna(X[\"TIME_STAMP\"])].index)\n",
    "        X = X.pivot(index=\"TIME_STAMP\", columns=\"CAPAB_NAME\", values=\"DATA_VALUE\")\n",
    "        X = X.drop(columns=['Mold Close Position (Mold Protect)', 'Mold Load Detect Monitor Mode','Mold Load Detect Status',\n",
    "        'Mold Open Limit Position', 'Mold Protect Monitor Status (By Time)', 'Mold Protect Monitor Time'], axis=1)\n",
    "        X['Flag'] = 0\n",
    "        return X"
   ]
  },
  {
   "cell_type": "code",
   "execution_count": 3,
   "metadata": {},
   "outputs": [
    {
     "data": {
      "text/html": [
       "<div>\n",
       "<style scoped>\n",
       "    .dataframe tbody tr th:only-of-type {\n",
       "        vertical-align: middle;\n",
       "    }\n",
       "\n",
       "    .dataframe tbody tr th {\n",
       "        vertical-align: top;\n",
       "    }\n",
       "\n",
       "    .dataframe thead th {\n",
       "        text-align: right;\n",
       "    }\n",
       "</style>\n",
       "<table border=\"1\" class=\"dataframe\">\n",
       "  <thead>\n",
       "    <tr style=\"text-align: right;\">\n",
       "      <th>CAPAB_NAME</th>\n",
       "      <th>Barrel Temp Zone 1</th>\n",
       "      <th>Barrel Temp Zone 2</th>\n",
       "      <th>Barrel Temp Zone 3</th>\n",
       "      <th>Barrel Temp Zone 4</th>\n",
       "      <th>Barrel Temp Zone 5</th>\n",
       "      <th>Clamp Tonnage After Hold</th>\n",
       "      <th>Cooling Time</th>\n",
       "      <th>Cycle Time</th>\n",
       "      <th>Dose Time</th>\n",
       "      <th>Ejector Ejection Position</th>\n",
       "      <th>Ejector Ejection Speed</th>\n",
       "      <th>Filling Peak Pressure</th>\n",
       "      <th>Filling Time</th>\n",
       "      <th>Injection Speed</th>\n",
       "      <th>Min Cushion Position</th>\n",
       "      <th>Pack Pressure</th>\n",
       "      <th>Flag</th>\n",
       "    </tr>\n",
       "    <tr>\n",
       "      <th>TIME_STAMP</th>\n",
       "      <th></th>\n",
       "      <th></th>\n",
       "      <th></th>\n",
       "      <th></th>\n",
       "      <th></th>\n",
       "      <th></th>\n",
       "      <th></th>\n",
       "      <th></th>\n",
       "      <th></th>\n",
       "      <th></th>\n",
       "      <th></th>\n",
       "      <th></th>\n",
       "      <th></th>\n",
       "      <th></th>\n",
       "      <th></th>\n",
       "      <th></th>\n",
       "      <th></th>\n",
       "    </tr>\n",
       "  </thead>\n",
       "  <tbody>\n",
       "    <tr>\n",
       "      <th>09-28-22 11:43:46</th>\n",
       "      <td>281.66</td>\n",
       "      <td>399.92</td>\n",
       "      <td>399.92</td>\n",
       "      <td>399.92</td>\n",
       "      <td>399.56</td>\n",
       "      <td>-0.088998</td>\n",
       "      <td>20.0</td>\n",
       "      <td>39.776</td>\n",
       "      <td>7.312</td>\n",
       "      <td>2.599996</td>\n",
       "      <td>15.0</td>\n",
       "      <td>1143.474392</td>\n",
       "      <td>0.761</td>\n",
       "      <td>1.2</td>\n",
       "      <td>0.0</td>\n",
       "      <td>7863.406449</td>\n",
       "      <td>1</td>\n",
       "    </tr>\n",
       "    <tr>\n",
       "      <th>09-28-22 11:44:06</th>\n",
       "      <td>281.66</td>\n",
       "      <td>399.92</td>\n",
       "      <td>399.92</td>\n",
       "      <td>399.92</td>\n",
       "      <td>399.92</td>\n",
       "      <td>-0.088998</td>\n",
       "      <td>20.0</td>\n",
       "      <td>39.776</td>\n",
       "      <td>7.312</td>\n",
       "      <td>2.599996</td>\n",
       "      <td>15.0</td>\n",
       "      <td>1143.474392</td>\n",
       "      <td>0.761</td>\n",
       "      <td>1.2</td>\n",
       "      <td>0.0</td>\n",
       "      <td>7863.406449</td>\n",
       "      <td>1</td>\n",
       "    </tr>\n",
       "    <tr>\n",
       "      <th>09-28-22 11:44:26</th>\n",
       "      <td>281.66</td>\n",
       "      <td>399.92</td>\n",
       "      <td>399.92</td>\n",
       "      <td>399.92</td>\n",
       "      <td>399.92</td>\n",
       "      <td>-0.088998</td>\n",
       "      <td>20.0</td>\n",
       "      <td>39.776</td>\n",
       "      <td>7.312</td>\n",
       "      <td>2.599996</td>\n",
       "      <td>15.0</td>\n",
       "      <td>1143.474392</td>\n",
       "      <td>0.761</td>\n",
       "      <td>1.2</td>\n",
       "      <td>0.0</td>\n",
       "      <td>7863.406449</td>\n",
       "      <td>1</td>\n",
       "    </tr>\n",
       "    <tr>\n",
       "      <th>09-28-22 11:44:46</th>\n",
       "      <td>281.66</td>\n",
       "      <td>399.92</td>\n",
       "      <td>399.92</td>\n",
       "      <td>399.92</td>\n",
       "      <td>399.92</td>\n",
       "      <td>-0.088998</td>\n",
       "      <td>20.0</td>\n",
       "      <td>39.776</td>\n",
       "      <td>7.312</td>\n",
       "      <td>2.599996</td>\n",
       "      <td>15.0</td>\n",
       "      <td>1143.474392</td>\n",
       "      <td>0.761</td>\n",
       "      <td>1.2</td>\n",
       "      <td>0.0</td>\n",
       "      <td>7863.406449</td>\n",
       "      <td>1</td>\n",
       "    </tr>\n",
       "    <tr>\n",
       "      <th>09-28-22 11:45:06</th>\n",
       "      <td>281.84</td>\n",
       "      <td>399.92</td>\n",
       "      <td>399.92</td>\n",
       "      <td>399.92</td>\n",
       "      <td>399.74</td>\n",
       "      <td>-0.088998</td>\n",
       "      <td>20.0</td>\n",
       "      <td>39.776</td>\n",
       "      <td>7.312</td>\n",
       "      <td>2.599996</td>\n",
       "      <td>15.0</td>\n",
       "      <td>1143.474392</td>\n",
       "      <td>0.761</td>\n",
       "      <td>1.2</td>\n",
       "      <td>0.0</td>\n",
       "      <td>7863.406449</td>\n",
       "      <td>1</td>\n",
       "    </tr>\n",
       "  </tbody>\n",
       "</table>\n",
       "</div>"
      ],
      "text/plain": [
       "CAPAB_NAME         Barrel Temp Zone 1  Barrel Temp Zone 2  Barrel Temp Zone 3  \\\n",
       "TIME_STAMP                                                                      \n",
       "09-28-22 11:43:46              281.66              399.92              399.92   \n",
       "09-28-22 11:44:06              281.66              399.92              399.92   \n",
       "09-28-22 11:44:26              281.66              399.92              399.92   \n",
       "09-28-22 11:44:46              281.66              399.92              399.92   \n",
       "09-28-22 11:45:06              281.84              399.92              399.92   \n",
       "\n",
       "CAPAB_NAME         Barrel Temp Zone 4  Barrel Temp Zone 5  \\\n",
       "TIME_STAMP                                                  \n",
       "09-28-22 11:43:46              399.92              399.56   \n",
       "09-28-22 11:44:06              399.92              399.92   \n",
       "09-28-22 11:44:26              399.92              399.92   \n",
       "09-28-22 11:44:46              399.92              399.92   \n",
       "09-28-22 11:45:06              399.92              399.74   \n",
       "\n",
       "CAPAB_NAME         Clamp Tonnage After Hold  Cooling Time  Cycle Time  \\\n",
       "TIME_STAMP                                                              \n",
       "09-28-22 11:43:46                 -0.088998          20.0      39.776   \n",
       "09-28-22 11:44:06                 -0.088998          20.0      39.776   \n",
       "09-28-22 11:44:26                 -0.088998          20.0      39.776   \n",
       "09-28-22 11:44:46                 -0.088998          20.0      39.776   \n",
       "09-28-22 11:45:06                 -0.088998          20.0      39.776   \n",
       "\n",
       "CAPAB_NAME         Dose Time  Ejector Ejection Position  \\\n",
       "TIME_STAMP                                                \n",
       "09-28-22 11:43:46      7.312                   2.599996   \n",
       "09-28-22 11:44:06      7.312                   2.599996   \n",
       "09-28-22 11:44:26      7.312                   2.599996   \n",
       "09-28-22 11:44:46      7.312                   2.599996   \n",
       "09-28-22 11:45:06      7.312                   2.599996   \n",
       "\n",
       "CAPAB_NAME         Ejector Ejection Speed  Filling Peak Pressure  \\\n",
       "TIME_STAMP                                                         \n",
       "09-28-22 11:43:46                    15.0            1143.474392   \n",
       "09-28-22 11:44:06                    15.0            1143.474392   \n",
       "09-28-22 11:44:26                    15.0            1143.474392   \n",
       "09-28-22 11:44:46                    15.0            1143.474392   \n",
       "09-28-22 11:45:06                    15.0            1143.474392   \n",
       "\n",
       "CAPAB_NAME         Filling Time  Injection Speed  Min Cushion Position  \\\n",
       "TIME_STAMP                                                               \n",
       "09-28-22 11:43:46         0.761              1.2                   0.0   \n",
       "09-28-22 11:44:06         0.761              1.2                   0.0   \n",
       "09-28-22 11:44:26         0.761              1.2                   0.0   \n",
       "09-28-22 11:44:46         0.761              1.2                   0.0   \n",
       "09-28-22 11:45:06         0.761              1.2                   0.0   \n",
       "\n",
       "CAPAB_NAME         Pack Pressure  Flag  \n",
       "TIME_STAMP                              \n",
       "09-28-22 11:43:46    7863.406449     1  \n",
       "09-28-22 11:44:06    7863.406449     1  \n",
       "09-28-22 11:44:26    7863.406449     1  \n",
       "09-28-22 11:44:46    7863.406449     1  \n",
       "09-28-22 11:45:06    7863.406449     1  "
      ]
     },
     "execution_count": 3,
     "metadata": {},
     "output_type": "execute_result"
    }
   ],
   "source": [
    "# Apply transformer to leak data\n",
    "leak_transformer = LeakTransformer()\n",
    "df_leak_clean = leak_transformer.transform(df_leak)\n",
    "df_leak_clean.head()"
   ]
  },
  {
   "cell_type": "code",
   "execution_count": 4,
   "metadata": {},
   "outputs": [
    {
     "data": {
      "text/html": [
       "<div>\n",
       "<style scoped>\n",
       "    .dataframe tbody tr th:only-of-type {\n",
       "        vertical-align: middle;\n",
       "    }\n",
       "\n",
       "    .dataframe tbody tr th {\n",
       "        vertical-align: top;\n",
       "    }\n",
       "\n",
       "    .dataframe thead th {\n",
       "        text-align: right;\n",
       "    }\n",
       "</style>\n",
       "<table border=\"1\" class=\"dataframe\">\n",
       "  <thead>\n",
       "    <tr style=\"text-align: right;\">\n",
       "      <th>CAPAB_NAME</th>\n",
       "      <th>Barrel Temp Zone 1</th>\n",
       "      <th>Barrel Temp Zone 2</th>\n",
       "      <th>Barrel Temp Zone 3</th>\n",
       "      <th>Barrel Temp Zone 4</th>\n",
       "      <th>Barrel Temp Zone 5</th>\n",
       "      <th>Clamp Tonnage After Hold</th>\n",
       "      <th>Cooling Time</th>\n",
       "      <th>Cycle Time</th>\n",
       "      <th>Dose Time</th>\n",
       "      <th>Ejector Ejection Position</th>\n",
       "      <th>Ejector Ejection Speed</th>\n",
       "      <th>Filling Peak Pressure</th>\n",
       "      <th>Filling Time</th>\n",
       "      <th>Injection Speed</th>\n",
       "      <th>Min Cushion Position</th>\n",
       "      <th>Pack Pressure</th>\n",
       "      <th>Flag</th>\n",
       "    </tr>\n",
       "    <tr>\n",
       "      <th>TIME_STAMP</th>\n",
       "      <th></th>\n",
       "      <th></th>\n",
       "      <th></th>\n",
       "      <th></th>\n",
       "      <th></th>\n",
       "      <th></th>\n",
       "      <th></th>\n",
       "      <th></th>\n",
       "      <th></th>\n",
       "      <th></th>\n",
       "      <th></th>\n",
       "      <th></th>\n",
       "      <th></th>\n",
       "      <th></th>\n",
       "      <th></th>\n",
       "      <th></th>\n",
       "      <th></th>\n",
       "    </tr>\n",
       "  </thead>\n",
       "  <tbody>\n",
       "    <tr>\n",
       "      <th>10-05-22 0:00:04</th>\n",
       "      <td>500.18</td>\n",
       "      <td>500.18</td>\n",
       "      <td>509.9</td>\n",
       "      <td>519.80</td>\n",
       "      <td>510.62</td>\n",
       "      <td>78.010727</td>\n",
       "      <td>6.5</td>\n",
       "      <td>22.928</td>\n",
       "      <td>5.360</td>\n",
       "      <td>1.9</td>\n",
       "      <td>25.0</td>\n",
       "      <td>10579.58244</td>\n",
       "      <td>1.716</td>\n",
       "      <td>1.5</td>\n",
       "      <td>0.206846</td>\n",
       "      <td>10404.49128</td>\n",
       "      <td>0</td>\n",
       "    </tr>\n",
       "    <tr>\n",
       "      <th>10-05-22 0:00:24</th>\n",
       "      <td>500.00</td>\n",
       "      <td>500.00</td>\n",
       "      <td>509.9</td>\n",
       "      <td>519.98</td>\n",
       "      <td>510.26</td>\n",
       "      <td>77.954094</td>\n",
       "      <td>6.5</td>\n",
       "      <td>22.928</td>\n",
       "      <td>5.360</td>\n",
       "      <td>1.9</td>\n",
       "      <td>25.0</td>\n",
       "      <td>10579.58244</td>\n",
       "      <td>1.716</td>\n",
       "      <td>1.5</td>\n",
       "      <td>0.206846</td>\n",
       "      <td>10585.77663</td>\n",
       "      <td>0</td>\n",
       "    </tr>\n",
       "    <tr>\n",
       "      <th>10-05-22 0:00:44</th>\n",
       "      <td>500.00</td>\n",
       "      <td>500.00</td>\n",
       "      <td>509.9</td>\n",
       "      <td>519.98</td>\n",
       "      <td>510.26</td>\n",
       "      <td>77.954094</td>\n",
       "      <td>6.5</td>\n",
       "      <td>22.928</td>\n",
       "      <td>5.360</td>\n",
       "      <td>1.9</td>\n",
       "      <td>25.0</td>\n",
       "      <td>10579.58244</td>\n",
       "      <td>1.716</td>\n",
       "      <td>1.5</td>\n",
       "      <td>0.206846</td>\n",
       "      <td>10585.77663</td>\n",
       "      <td>0</td>\n",
       "    </tr>\n",
       "    <tr>\n",
       "      <th>10-05-22 0:01:04</th>\n",
       "      <td>500.00</td>\n",
       "      <td>500.00</td>\n",
       "      <td>509.9</td>\n",
       "      <td>519.98</td>\n",
       "      <td>510.26</td>\n",
       "      <td>77.954094</td>\n",
       "      <td>6.5</td>\n",
       "      <td>22.968</td>\n",
       "      <td>5.408</td>\n",
       "      <td>1.9</td>\n",
       "      <td>25.0</td>\n",
       "      <td>10495.91004</td>\n",
       "      <td>1.716</td>\n",
       "      <td>1.5</td>\n",
       "      <td>0.203000</td>\n",
       "      <td>10585.77663</td>\n",
       "      <td>0</td>\n",
       "    </tr>\n",
       "    <tr>\n",
       "      <th>10-05-22 0:01:24</th>\n",
       "      <td>499.64</td>\n",
       "      <td>499.82</td>\n",
       "      <td>509.9</td>\n",
       "      <td>520.16</td>\n",
       "      <td>509.54</td>\n",
       "      <td>77.994555</td>\n",
       "      <td>6.5</td>\n",
       "      <td>22.968</td>\n",
       "      <td>5.408</td>\n",
       "      <td>1.9</td>\n",
       "      <td>25.0</td>\n",
       "      <td>10495.91004</td>\n",
       "      <td>1.716</td>\n",
       "      <td>1.5</td>\n",
       "      <td>0.203000</td>\n",
       "      <td>10406.04345</td>\n",
       "      <td>0</td>\n",
       "    </tr>\n",
       "  </tbody>\n",
       "</table>\n",
       "</div>"
      ],
      "text/plain": [
       "CAPAB_NAME        Barrel Temp Zone 1  Barrel Temp Zone 2  Barrel Temp Zone 3  \\\n",
       "TIME_STAMP                                                                     \n",
       "10-05-22 0:00:04              500.18              500.18               509.9   \n",
       "10-05-22 0:00:24              500.00              500.00               509.9   \n",
       "10-05-22 0:00:44              500.00              500.00               509.9   \n",
       "10-05-22 0:01:04              500.00              500.00               509.9   \n",
       "10-05-22 0:01:24              499.64              499.82               509.9   \n",
       "\n",
       "CAPAB_NAME        Barrel Temp Zone 4  Barrel Temp Zone 5  \\\n",
       "TIME_STAMP                                                 \n",
       "10-05-22 0:00:04              519.80              510.62   \n",
       "10-05-22 0:00:24              519.98              510.26   \n",
       "10-05-22 0:00:44              519.98              510.26   \n",
       "10-05-22 0:01:04              519.98              510.26   \n",
       "10-05-22 0:01:24              520.16              509.54   \n",
       "\n",
       "CAPAB_NAME        Clamp Tonnage After Hold  Cooling Time  Cycle Time  \\\n",
       "TIME_STAMP                                                             \n",
       "10-05-22 0:00:04                 78.010727           6.5      22.928   \n",
       "10-05-22 0:00:24                 77.954094           6.5      22.928   \n",
       "10-05-22 0:00:44                 77.954094           6.5      22.928   \n",
       "10-05-22 0:01:04                 77.954094           6.5      22.968   \n",
       "10-05-22 0:01:24                 77.994555           6.5      22.968   \n",
       "\n",
       "CAPAB_NAME        Dose Time  Ejector Ejection Position  \\\n",
       "TIME_STAMP                                               \n",
       "10-05-22 0:00:04      5.360                        1.9   \n",
       "10-05-22 0:00:24      5.360                        1.9   \n",
       "10-05-22 0:00:44      5.360                        1.9   \n",
       "10-05-22 0:01:04      5.408                        1.9   \n",
       "10-05-22 0:01:24      5.408                        1.9   \n",
       "\n",
       "CAPAB_NAME        Ejector Ejection Speed  Filling Peak Pressure  Filling Time  \\\n",
       "TIME_STAMP                                                                      \n",
       "10-05-22 0:00:04                    25.0            10579.58244         1.716   \n",
       "10-05-22 0:00:24                    25.0            10579.58244         1.716   \n",
       "10-05-22 0:00:44                    25.0            10579.58244         1.716   \n",
       "10-05-22 0:01:04                    25.0            10495.91004         1.716   \n",
       "10-05-22 0:01:24                    25.0            10495.91004         1.716   \n",
       "\n",
       "CAPAB_NAME        Injection Speed  Min Cushion Position  Pack Pressure  Flag  \n",
       "TIME_STAMP                                                                    \n",
       "10-05-22 0:00:04              1.5              0.206846    10404.49128     0  \n",
       "10-05-22 0:00:24              1.5              0.206846    10585.77663     0  \n",
       "10-05-22 0:00:44              1.5              0.206846    10585.77663     0  \n",
       "10-05-22 0:01:04              1.5              0.203000    10585.77663     0  \n",
       "10-05-22 0:01:24              1.5              0.203000    10406.04345     0  "
      ]
     },
     "execution_count": 4,
     "metadata": {},
     "output_type": "execute_result"
    }
   ],
   "source": [
    "# Apply transformer to good run data\n",
    "good_transformer = GoodTransformer()\n",
    "df_good_clean = good_transformer.transform(df_good)\n",
    "df_good_clean.head()"
   ]
  },
  {
   "cell_type": "markdown",
   "metadata": {},
   "source": [
    "##### Combine Datasets"
   ]
  },
  {
   "cell_type": "code",
   "execution_count": 5,
   "metadata": {},
   "outputs": [
    {
     "data": {
      "text/html": [
       "<div>\n",
       "<style scoped>\n",
       "    .dataframe tbody tr th:only-of-type {\n",
       "        vertical-align: middle;\n",
       "    }\n",
       "\n",
       "    .dataframe tbody tr th {\n",
       "        vertical-align: top;\n",
       "    }\n",
       "\n",
       "    .dataframe thead th {\n",
       "        text-align: right;\n",
       "    }\n",
       "</style>\n",
       "<table border=\"1\" class=\"dataframe\">\n",
       "  <thead>\n",
       "    <tr style=\"text-align: right;\">\n",
       "      <th>CAPAB_NAME</th>\n",
       "      <th>Barrel Temp Zone 1</th>\n",
       "      <th>Barrel Temp Zone 2</th>\n",
       "      <th>Barrel Temp Zone 3</th>\n",
       "      <th>Barrel Temp Zone 4</th>\n",
       "      <th>Barrel Temp Zone 5</th>\n",
       "      <th>Clamp Tonnage After Hold</th>\n",
       "      <th>Cooling Time</th>\n",
       "      <th>Cycle Time</th>\n",
       "      <th>Dose Time</th>\n",
       "      <th>Ejector Ejection Position</th>\n",
       "      <th>Ejector Ejection Speed</th>\n",
       "      <th>Filling Peak Pressure</th>\n",
       "      <th>Filling Time</th>\n",
       "      <th>Injection Speed</th>\n",
       "      <th>Min Cushion Position</th>\n",
       "      <th>Pack Pressure</th>\n",
       "      <th>Flag</th>\n",
       "    </tr>\n",
       "    <tr>\n",
       "      <th>TIME_STAMP</th>\n",
       "      <th></th>\n",
       "      <th></th>\n",
       "      <th></th>\n",
       "      <th></th>\n",
       "      <th></th>\n",
       "      <th></th>\n",
       "      <th></th>\n",
       "      <th></th>\n",
       "      <th></th>\n",
       "      <th></th>\n",
       "      <th></th>\n",
       "      <th></th>\n",
       "      <th></th>\n",
       "      <th></th>\n",
       "      <th></th>\n",
       "      <th></th>\n",
       "      <th></th>\n",
       "    </tr>\n",
       "  </thead>\n",
       "  <tbody>\n",
       "    <tr>\n",
       "      <th>09-28-22 11:43:46</th>\n",
       "      <td>281.66</td>\n",
       "      <td>399.92</td>\n",
       "      <td>399.92</td>\n",
       "      <td>399.92</td>\n",
       "      <td>399.56</td>\n",
       "      <td>-0.088998</td>\n",
       "      <td>20.0</td>\n",
       "      <td>39.776</td>\n",
       "      <td>7.312</td>\n",
       "      <td>2.599996</td>\n",
       "      <td>15.0</td>\n",
       "      <td>1143.474392</td>\n",
       "      <td>0.761</td>\n",
       "      <td>1.2</td>\n",
       "      <td>0.000000</td>\n",
       "      <td>7863.406449</td>\n",
       "      <td>1</td>\n",
       "    </tr>\n",
       "    <tr>\n",
       "      <th>09-28-22 11:44:06</th>\n",
       "      <td>281.66</td>\n",
       "      <td>399.92</td>\n",
       "      <td>399.92</td>\n",
       "      <td>399.92</td>\n",
       "      <td>399.92</td>\n",
       "      <td>-0.088998</td>\n",
       "      <td>20.0</td>\n",
       "      <td>39.776</td>\n",
       "      <td>7.312</td>\n",
       "      <td>2.599996</td>\n",
       "      <td>15.0</td>\n",
       "      <td>1143.474392</td>\n",
       "      <td>0.761</td>\n",
       "      <td>1.2</td>\n",
       "      <td>0.000000</td>\n",
       "      <td>7863.406449</td>\n",
       "      <td>1</td>\n",
       "    </tr>\n",
       "    <tr>\n",
       "      <th>09-28-22 11:44:26</th>\n",
       "      <td>281.66</td>\n",
       "      <td>399.92</td>\n",
       "      <td>399.92</td>\n",
       "      <td>399.92</td>\n",
       "      <td>399.92</td>\n",
       "      <td>-0.088998</td>\n",
       "      <td>20.0</td>\n",
       "      <td>39.776</td>\n",
       "      <td>7.312</td>\n",
       "      <td>2.599996</td>\n",
       "      <td>15.0</td>\n",
       "      <td>1143.474392</td>\n",
       "      <td>0.761</td>\n",
       "      <td>1.2</td>\n",
       "      <td>0.000000</td>\n",
       "      <td>7863.406449</td>\n",
       "      <td>1</td>\n",
       "    </tr>\n",
       "    <tr>\n",
       "      <th>09-28-22 11:44:46</th>\n",
       "      <td>281.66</td>\n",
       "      <td>399.92</td>\n",
       "      <td>399.92</td>\n",
       "      <td>399.92</td>\n",
       "      <td>399.92</td>\n",
       "      <td>-0.088998</td>\n",
       "      <td>20.0</td>\n",
       "      <td>39.776</td>\n",
       "      <td>7.312</td>\n",
       "      <td>2.599996</td>\n",
       "      <td>15.0</td>\n",
       "      <td>1143.474392</td>\n",
       "      <td>0.761</td>\n",
       "      <td>1.2</td>\n",
       "      <td>0.000000</td>\n",
       "      <td>7863.406449</td>\n",
       "      <td>1</td>\n",
       "    </tr>\n",
       "    <tr>\n",
       "      <th>09-28-22 11:45:06</th>\n",
       "      <td>281.84</td>\n",
       "      <td>399.92</td>\n",
       "      <td>399.92</td>\n",
       "      <td>399.92</td>\n",
       "      <td>399.74</td>\n",
       "      <td>-0.088998</td>\n",
       "      <td>20.0</td>\n",
       "      <td>39.776</td>\n",
       "      <td>7.312</td>\n",
       "      <td>2.599996</td>\n",
       "      <td>15.0</td>\n",
       "      <td>1143.474392</td>\n",
       "      <td>0.761</td>\n",
       "      <td>1.2</td>\n",
       "      <td>0.000000</td>\n",
       "      <td>7863.406449</td>\n",
       "      <td>1</td>\n",
       "    </tr>\n",
       "    <tr>\n",
       "      <th>...</th>\n",
       "      <td>...</td>\n",
       "      <td>...</td>\n",
       "      <td>...</td>\n",
       "      <td>...</td>\n",
       "      <td>...</td>\n",
       "      <td>...</td>\n",
       "      <td>...</td>\n",
       "      <td>...</td>\n",
       "      <td>...</td>\n",
       "      <td>...</td>\n",
       "      <td>...</td>\n",
       "      <td>...</td>\n",
       "      <td>...</td>\n",
       "      <td>...</td>\n",
       "      <td>...</td>\n",
       "      <td>...</td>\n",
       "      <td>...</td>\n",
       "    </tr>\n",
       "    <tr>\n",
       "      <th>10-07-22 9:58:29</th>\n",
       "      <td>499.46</td>\n",
       "      <td>499.82</td>\n",
       "      <td>509.72</td>\n",
       "      <td>519.98</td>\n",
       "      <td>509.72</td>\n",
       "      <td>76.522035</td>\n",
       "      <td>6.5</td>\n",
       "      <td>22.968</td>\n",
       "      <td>5.464</td>\n",
       "      <td>1.900000</td>\n",
       "      <td>25.0</td>\n",
       "      <td>9817.246837</td>\n",
       "      <td>1.715</td>\n",
       "      <td>1.5</td>\n",
       "      <td>0.193772</td>\n",
       "      <td>9820.351187</td>\n",
       "      <td>0</td>\n",
       "    </tr>\n",
       "    <tr>\n",
       "      <th>10-07-22 9:58:49</th>\n",
       "      <td>500.18</td>\n",
       "      <td>499.82</td>\n",
       "      <td>509.72</td>\n",
       "      <td>519.98</td>\n",
       "      <td>509.72</td>\n",
       "      <td>76.433038</td>\n",
       "      <td>6.5</td>\n",
       "      <td>22.968</td>\n",
       "      <td>5.464</td>\n",
       "      <td>1.900000</td>\n",
       "      <td>25.0</td>\n",
       "      <td>9823.455537</td>\n",
       "      <td>1.714</td>\n",
       "      <td>1.5</td>\n",
       "      <td>0.194157</td>\n",
       "      <td>9823.455537</td>\n",
       "      <td>0</td>\n",
       "    </tr>\n",
       "    <tr>\n",
       "      <th>10-07-22 9:59:09</th>\n",
       "      <td>500.18</td>\n",
       "      <td>499.82</td>\n",
       "      <td>509.90</td>\n",
       "      <td>519.98</td>\n",
       "      <td>510.08</td>\n",
       "      <td>76.433038</td>\n",
       "      <td>6.5</td>\n",
       "      <td>22.968</td>\n",
       "      <td>5.464</td>\n",
       "      <td>1.900000</td>\n",
       "      <td>25.0</td>\n",
       "      <td>9823.455537</td>\n",
       "      <td>1.714</td>\n",
       "      <td>1.5</td>\n",
       "      <td>0.194157</td>\n",
       "      <td>9823.455537</td>\n",
       "      <td>0</td>\n",
       "    </tr>\n",
       "    <tr>\n",
       "      <th>10-07-22 9:59:29</th>\n",
       "      <td>500.18</td>\n",
       "      <td>499.82</td>\n",
       "      <td>509.90</td>\n",
       "      <td>519.98</td>\n",
       "      <td>510.08</td>\n",
       "      <td>76.433038</td>\n",
       "      <td>6.5</td>\n",
       "      <td>22.968</td>\n",
       "      <td>5.448</td>\n",
       "      <td>1.900000</td>\n",
       "      <td>25.0</td>\n",
       "      <td>9823.455537</td>\n",
       "      <td>1.714</td>\n",
       "      <td>1.5</td>\n",
       "      <td>0.194157</td>\n",
       "      <td>9823.455537</td>\n",
       "      <td>0</td>\n",
       "    </tr>\n",
       "    <tr>\n",
       "      <th>10-07-22 9:59:49</th>\n",
       "      <td>500.00</td>\n",
       "      <td>500.00</td>\n",
       "      <td>509.90</td>\n",
       "      <td>519.98</td>\n",
       "      <td>510.08</td>\n",
       "      <td>76.505853</td>\n",
       "      <td>6.5</td>\n",
       "      <td>22.968</td>\n",
       "      <td>5.448</td>\n",
       "      <td>1.900000</td>\n",
       "      <td>25.0</td>\n",
       "      <td>9938.113412</td>\n",
       "      <td>1.715</td>\n",
       "      <td>1.5</td>\n",
       "      <td>0.194543</td>\n",
       "      <td>9942.755431</td>\n",
       "      <td>0</td>\n",
       "    </tr>\n",
       "  </tbody>\n",
       "</table>\n",
       "<p>19773 rows × 17 columns</p>\n",
       "</div>"
      ],
      "text/plain": [
       "CAPAB_NAME         Barrel Temp Zone 1  Barrel Temp Zone 2  Barrel Temp Zone 3  \\\n",
       "TIME_STAMP                                                                      \n",
       "09-28-22 11:43:46              281.66              399.92              399.92   \n",
       "09-28-22 11:44:06              281.66              399.92              399.92   \n",
       "09-28-22 11:44:26              281.66              399.92              399.92   \n",
       "09-28-22 11:44:46              281.66              399.92              399.92   \n",
       "09-28-22 11:45:06              281.84              399.92              399.92   \n",
       "...                               ...                 ...                 ...   \n",
       "10-07-22 9:58:29               499.46              499.82              509.72   \n",
       "10-07-22 9:58:49               500.18              499.82              509.72   \n",
       "10-07-22 9:59:09               500.18              499.82              509.90   \n",
       "10-07-22 9:59:29               500.18              499.82              509.90   \n",
       "10-07-22 9:59:49               500.00              500.00              509.90   \n",
       "\n",
       "CAPAB_NAME         Barrel Temp Zone 4  Barrel Temp Zone 5  \\\n",
       "TIME_STAMP                                                  \n",
       "09-28-22 11:43:46              399.92              399.56   \n",
       "09-28-22 11:44:06              399.92              399.92   \n",
       "09-28-22 11:44:26              399.92              399.92   \n",
       "09-28-22 11:44:46              399.92              399.92   \n",
       "09-28-22 11:45:06              399.92              399.74   \n",
       "...                               ...                 ...   \n",
       "10-07-22 9:58:29               519.98              509.72   \n",
       "10-07-22 9:58:49               519.98              509.72   \n",
       "10-07-22 9:59:09               519.98              510.08   \n",
       "10-07-22 9:59:29               519.98              510.08   \n",
       "10-07-22 9:59:49               519.98              510.08   \n",
       "\n",
       "CAPAB_NAME         Clamp Tonnage After Hold  Cooling Time  Cycle Time  \\\n",
       "TIME_STAMP                                                              \n",
       "09-28-22 11:43:46                 -0.088998          20.0      39.776   \n",
       "09-28-22 11:44:06                 -0.088998          20.0      39.776   \n",
       "09-28-22 11:44:26                 -0.088998          20.0      39.776   \n",
       "09-28-22 11:44:46                 -0.088998          20.0      39.776   \n",
       "09-28-22 11:45:06                 -0.088998          20.0      39.776   \n",
       "...                                     ...           ...         ...   \n",
       "10-07-22 9:58:29                  76.522035           6.5      22.968   \n",
       "10-07-22 9:58:49                  76.433038           6.5      22.968   \n",
       "10-07-22 9:59:09                  76.433038           6.5      22.968   \n",
       "10-07-22 9:59:29                  76.433038           6.5      22.968   \n",
       "10-07-22 9:59:49                  76.505853           6.5      22.968   \n",
       "\n",
       "CAPAB_NAME         Dose Time  Ejector Ejection Position  \\\n",
       "TIME_STAMP                                                \n",
       "09-28-22 11:43:46      7.312                   2.599996   \n",
       "09-28-22 11:44:06      7.312                   2.599996   \n",
       "09-28-22 11:44:26      7.312                   2.599996   \n",
       "09-28-22 11:44:46      7.312                   2.599996   \n",
       "09-28-22 11:45:06      7.312                   2.599996   \n",
       "...                      ...                        ...   \n",
       "10-07-22 9:58:29       5.464                   1.900000   \n",
       "10-07-22 9:58:49       5.464                   1.900000   \n",
       "10-07-22 9:59:09       5.464                   1.900000   \n",
       "10-07-22 9:59:29       5.448                   1.900000   \n",
       "10-07-22 9:59:49       5.448                   1.900000   \n",
       "\n",
       "CAPAB_NAME         Ejector Ejection Speed  Filling Peak Pressure  \\\n",
       "TIME_STAMP                                                         \n",
       "09-28-22 11:43:46                    15.0            1143.474392   \n",
       "09-28-22 11:44:06                    15.0            1143.474392   \n",
       "09-28-22 11:44:26                    15.0            1143.474392   \n",
       "09-28-22 11:44:46                    15.0            1143.474392   \n",
       "09-28-22 11:45:06                    15.0            1143.474392   \n",
       "...                                   ...                    ...   \n",
       "10-07-22 9:58:29                     25.0            9817.246837   \n",
       "10-07-22 9:58:49                     25.0            9823.455537   \n",
       "10-07-22 9:59:09                     25.0            9823.455537   \n",
       "10-07-22 9:59:29                     25.0            9823.455537   \n",
       "10-07-22 9:59:49                     25.0            9938.113412   \n",
       "\n",
       "CAPAB_NAME         Filling Time  Injection Speed  Min Cushion Position  \\\n",
       "TIME_STAMP                                                               \n",
       "09-28-22 11:43:46         0.761              1.2              0.000000   \n",
       "09-28-22 11:44:06         0.761              1.2              0.000000   \n",
       "09-28-22 11:44:26         0.761              1.2              0.000000   \n",
       "09-28-22 11:44:46         0.761              1.2              0.000000   \n",
       "09-28-22 11:45:06         0.761              1.2              0.000000   \n",
       "...                         ...              ...                   ...   \n",
       "10-07-22 9:58:29          1.715              1.5              0.193772   \n",
       "10-07-22 9:58:49          1.714              1.5              0.194157   \n",
       "10-07-22 9:59:09          1.714              1.5              0.194157   \n",
       "10-07-22 9:59:29          1.714              1.5              0.194157   \n",
       "10-07-22 9:59:49          1.715              1.5              0.194543   \n",
       "\n",
       "CAPAB_NAME         Pack Pressure  Flag  \n",
       "TIME_STAMP                              \n",
       "09-28-22 11:43:46    7863.406449     1  \n",
       "09-28-22 11:44:06    7863.406449     1  \n",
       "09-28-22 11:44:26    7863.406449     1  \n",
       "09-28-22 11:44:46    7863.406449     1  \n",
       "09-28-22 11:45:06    7863.406449     1  \n",
       "...                          ...   ...  \n",
       "10-07-22 9:58:29     9820.351187     0  \n",
       "10-07-22 9:58:49     9823.455537     0  \n",
       "10-07-22 9:59:09     9823.455537     0  \n",
       "10-07-22 9:59:29     9823.455537     0  \n",
       "10-07-22 9:59:49     9942.755431     0  \n",
       "\n",
       "[19773 rows x 17 columns]"
      ]
     },
     "execution_count": 5,
     "metadata": {},
     "output_type": "execute_result"
    }
   ],
   "source": [
    "df_combined = pd.concat([df_leak_clean, df_good_clean], axis=0)\n",
    "df_combined"
   ]
  },
  {
   "cell_type": "markdown",
   "metadata": {},
   "source": [
    "### Initial Exploratory Analysis"
   ]
  },
  {
   "cell_type": "markdown",
   "metadata": {},
   "source": [
    "##### Collinearity Analysis"
   ]
  },
  {
   "cell_type": "code",
   "execution_count": 6,
   "metadata": {},
   "outputs": [
    {
     "data": {
      "text/html": [
       "<div>\n",
       "<style scoped>\n",
       "    .dataframe tbody tr th:only-of-type {\n",
       "        vertical-align: middle;\n",
       "    }\n",
       "\n",
       "    .dataframe tbody tr th {\n",
       "        vertical-align: top;\n",
       "    }\n",
       "\n",
       "    .dataframe thead th {\n",
       "        text-align: right;\n",
       "    }\n",
       "</style>\n",
       "<table border=\"1\" class=\"dataframe\">\n",
       "  <thead>\n",
       "    <tr style=\"text-align: right;\">\n",
       "      <th>CAPAB_NAME</th>\n",
       "      <th>Barrel Temp Zone 1</th>\n",
       "      <th>Barrel Temp Zone 2</th>\n",
       "      <th>Barrel Temp Zone 3</th>\n",
       "      <th>Barrel Temp Zone 4</th>\n",
       "      <th>Barrel Temp Zone 5</th>\n",
       "      <th>Clamp Tonnage After Hold</th>\n",
       "      <th>Cooling Time</th>\n",
       "      <th>Cycle Time</th>\n",
       "      <th>Dose Time</th>\n",
       "      <th>Ejector Ejection Position</th>\n",
       "      <th>Ejector Ejection Speed</th>\n",
       "      <th>Filling Peak Pressure</th>\n",
       "      <th>Filling Time</th>\n",
       "      <th>Injection Speed</th>\n",
       "      <th>Min Cushion Position</th>\n",
       "      <th>Pack Pressure</th>\n",
       "      <th>Flag</th>\n",
       "    </tr>\n",
       "    <tr>\n",
       "      <th>CAPAB_NAME</th>\n",
       "      <th></th>\n",
       "      <th></th>\n",
       "      <th></th>\n",
       "      <th></th>\n",
       "      <th></th>\n",
       "      <th></th>\n",
       "      <th></th>\n",
       "      <th></th>\n",
       "      <th></th>\n",
       "      <th></th>\n",
       "      <th></th>\n",
       "      <th></th>\n",
       "      <th></th>\n",
       "      <th></th>\n",
       "      <th></th>\n",
       "      <th></th>\n",
       "      <th></th>\n",
       "    </tr>\n",
       "  </thead>\n",
       "  <tbody>\n",
       "    <tr>\n",
       "      <th>Barrel Temp Zone 1</th>\n",
       "      <td>1.000000</td>\n",
       "      <td>0.966405</td>\n",
       "      <td>0.848297</td>\n",
       "      <td>0.746144</td>\n",
       "      <td>0.811655</td>\n",
       "      <td>0.411588</td>\n",
       "      <td>-0.634696</td>\n",
       "      <td>0.001514</td>\n",
       "      <td>-0.291434</td>\n",
       "      <td>-0.635346</td>\n",
       "      <td>0.417107</td>\n",
       "      <td>-0.324953</td>\n",
       "      <td>0.748327</td>\n",
       "      <td>0.425245</td>\n",
       "      <td>0.282982</td>\n",
       "      <td>0.110949</td>\n",
       "      <td>-0.202517</td>\n",
       "    </tr>\n",
       "    <tr>\n",
       "      <th>Barrel Temp Zone 2</th>\n",
       "      <td>0.966405</td>\n",
       "      <td>1.000000</td>\n",
       "      <td>0.917343</td>\n",
       "      <td>0.823006</td>\n",
       "      <td>0.743999</td>\n",
       "      <td>0.297996</td>\n",
       "      <td>-0.626663</td>\n",
       "      <td>0.009776</td>\n",
       "      <td>-0.183883</td>\n",
       "      <td>-0.612985</td>\n",
       "      <td>0.308866</td>\n",
       "      <td>-0.331514</td>\n",
       "      <td>0.647224</td>\n",
       "      <td>0.321884</td>\n",
       "      <td>0.190142</td>\n",
       "      <td>0.031852</td>\n",
       "      <td>-0.159590</td>\n",
       "    </tr>\n",
       "    <tr>\n",
       "      <th>Barrel Temp Zone 3</th>\n",
       "      <td>0.848297</td>\n",
       "      <td>0.917343</td>\n",
       "      <td>1.000000</td>\n",
       "      <td>0.978299</td>\n",
       "      <td>0.435851</td>\n",
       "      <td>0.383802</td>\n",
       "      <td>-0.810991</td>\n",
       "      <td>0.011406</td>\n",
       "      <td>-0.241112</td>\n",
       "      <td>-0.788064</td>\n",
       "      <td>0.390784</td>\n",
       "      <td>-0.020541</td>\n",
       "      <td>0.446439</td>\n",
       "      <td>0.410732</td>\n",
       "      <td>0.278950</td>\n",
       "      <td>0.127948</td>\n",
       "      <td>-0.114472</td>\n",
       "    </tr>\n",
       "    <tr>\n",
       "      <th>Barrel Temp Zone 4</th>\n",
       "      <td>0.746144</td>\n",
       "      <td>0.823006</td>\n",
       "      <td>0.978299</td>\n",
       "      <td>1.000000</td>\n",
       "      <td>0.256436</td>\n",
       "      <td>0.427799</td>\n",
       "      <td>-0.852751</td>\n",
       "      <td>0.009473</td>\n",
       "      <td>-0.277906</td>\n",
       "      <td>-0.833330</td>\n",
       "      <td>0.434028</td>\n",
       "      <td>0.156937</td>\n",
       "      <td>0.325577</td>\n",
       "      <td>0.453551</td>\n",
       "      <td>0.326655</td>\n",
       "      <td>0.186332</td>\n",
       "      <td>-0.089287</td>\n",
       "    </tr>\n",
       "    <tr>\n",
       "      <th>Barrel Temp Zone 5</th>\n",
       "      <td>0.811655</td>\n",
       "      <td>0.743999</td>\n",
       "      <td>0.435851</td>\n",
       "      <td>0.256436</td>\n",
       "      <td>1.000000</td>\n",
       "      <td>0.052825</td>\n",
       "      <td>-0.169734</td>\n",
       "      <td>0.007155</td>\n",
       "      <td>-0.021620</td>\n",
       "      <td>-0.167388</td>\n",
       "      <td>0.052171</td>\n",
       "      <td>-0.715085</td>\n",
       "      <td>0.734212</td>\n",
       "      <td>0.058555</td>\n",
       "      <td>-0.022867</td>\n",
       "      <td>-0.118709</td>\n",
       "      <td>-0.176815</td>\n",
       "    </tr>\n",
       "    <tr>\n",
       "      <th>Clamp Tonnage After Hold</th>\n",
       "      <td>0.411588</td>\n",
       "      <td>0.297996</td>\n",
       "      <td>0.383802</td>\n",
       "      <td>0.427799</td>\n",
       "      <td>0.052825</td>\n",
       "      <td>1.000000</td>\n",
       "      <td>-0.531809</td>\n",
       "      <td>-0.069420</td>\n",
       "      <td>-0.772947</td>\n",
       "      <td>-0.561954</td>\n",
       "      <td>0.917483</td>\n",
       "      <td>0.511282</td>\n",
       "      <td>0.505113</td>\n",
       "      <td>0.852442</td>\n",
       "      <td>0.781745</td>\n",
       "      <td>0.561967</td>\n",
       "      <td>-0.157995</td>\n",
       "    </tr>\n",
       "    <tr>\n",
       "      <th>Cooling Time</th>\n",
       "      <td>-0.634696</td>\n",
       "      <td>-0.626663</td>\n",
       "      <td>-0.810991</td>\n",
       "      <td>-0.852751</td>\n",
       "      <td>-0.169734</td>\n",
       "      <td>-0.531809</td>\n",
       "      <td>1.000000</td>\n",
       "      <td>-0.000492</td>\n",
       "      <td>0.382415</td>\n",
       "      <td>0.946357</td>\n",
       "      <td>-0.544382</td>\n",
       "      <td>-0.275783</td>\n",
       "      <td>-0.315965</td>\n",
       "      <td>-0.572297</td>\n",
       "      <td>-0.423710</td>\n",
       "      <td>-0.271599</td>\n",
       "      <td>0.103054</td>\n",
       "    </tr>\n",
       "    <tr>\n",
       "      <th>Cycle Time</th>\n",
       "      <td>0.001514</td>\n",
       "      <td>0.009776</td>\n",
       "      <td>0.011406</td>\n",
       "      <td>0.009473</td>\n",
       "      <td>0.007155</td>\n",
       "      <td>-0.069420</td>\n",
       "      <td>-0.000492</td>\n",
       "      <td>1.000000</td>\n",
       "      <td>0.142392</td>\n",
       "      <td>-0.000520</td>\n",
       "      <td>-0.070785</td>\n",
       "      <td>-0.021377</td>\n",
       "      <td>-0.002180</td>\n",
       "      <td>-0.061718</td>\n",
       "      <td>-0.055429</td>\n",
       "      <td>-0.035773</td>\n",
       "      <td>0.013476</td>\n",
       "    </tr>\n",
       "    <tr>\n",
       "      <th>Dose Time</th>\n",
       "      <td>-0.291434</td>\n",
       "      <td>-0.183883</td>\n",
       "      <td>-0.241112</td>\n",
       "      <td>-0.277906</td>\n",
       "      <td>-0.021620</td>\n",
       "      <td>-0.772947</td>\n",
       "      <td>0.382415</td>\n",
       "      <td>0.142392</td>\n",
       "      <td>1.000000</td>\n",
       "      <td>0.404091</td>\n",
       "      <td>-0.844002</td>\n",
       "      <td>-0.412650</td>\n",
       "      <td>-0.370026</td>\n",
       "      <td>-0.801267</td>\n",
       "      <td>-0.729297</td>\n",
       "      <td>-0.463836</td>\n",
       "      <td>0.288644</td>\n",
       "    </tr>\n",
       "    <tr>\n",
       "      <th>Ejector Ejection Position</th>\n",
       "      <td>-0.635346</td>\n",
       "      <td>-0.612985</td>\n",
       "      <td>-0.788064</td>\n",
       "      <td>-0.833330</td>\n",
       "      <td>-0.167388</td>\n",
       "      <td>-0.561954</td>\n",
       "      <td>0.946357</td>\n",
       "      <td>-0.000520</td>\n",
       "      <td>0.404091</td>\n",
       "      <td>1.000000</td>\n",
       "      <td>-0.575240</td>\n",
       "      <td>-0.291416</td>\n",
       "      <td>-0.333875</td>\n",
       "      <td>-0.595533</td>\n",
       "      <td>-0.447727</td>\n",
       "      <td>-0.286994</td>\n",
       "      <td>0.108896</td>\n",
       "    </tr>\n",
       "    <tr>\n",
       "      <th>Ejector Ejection Speed</th>\n",
       "      <td>0.417107</td>\n",
       "      <td>0.308866</td>\n",
       "      <td>0.390784</td>\n",
       "      <td>0.434028</td>\n",
       "      <td>0.052171</td>\n",
       "      <td>0.917483</td>\n",
       "      <td>-0.544382</td>\n",
       "      <td>-0.070785</td>\n",
       "      <td>-0.844002</td>\n",
       "      <td>-0.575240</td>\n",
       "      <td>1.000000</td>\n",
       "      <td>0.474844</td>\n",
       "      <td>0.495155</td>\n",
       "      <td>0.926382</td>\n",
       "      <td>0.741271</td>\n",
       "      <td>0.425969</td>\n",
       "      <td>-0.189305</td>\n",
       "    </tr>\n",
       "    <tr>\n",
       "      <th>Filling Peak Pressure</th>\n",
       "      <td>-0.324953</td>\n",
       "      <td>-0.331514</td>\n",
       "      <td>-0.020541</td>\n",
       "      <td>0.156937</td>\n",
       "      <td>-0.715085</td>\n",
       "      <td>0.511282</td>\n",
       "      <td>-0.275783</td>\n",
       "      <td>-0.021377</td>\n",
       "      <td>-0.412650</td>\n",
       "      <td>-0.291416</td>\n",
       "      <td>0.474844</td>\n",
       "      <td>1.000000</td>\n",
       "      <td>-0.404138</td>\n",
       "      <td>0.453808</td>\n",
       "      <td>0.499596</td>\n",
       "      <td>0.489952</td>\n",
       "      <td>0.036589</td>\n",
       "    </tr>\n",
       "    <tr>\n",
       "      <th>Filling Time</th>\n",
       "      <td>0.748327</td>\n",
       "      <td>0.647224</td>\n",
       "      <td>0.446439</td>\n",
       "      <td>0.325577</td>\n",
       "      <td>0.734212</td>\n",
       "      <td>0.505113</td>\n",
       "      <td>-0.315965</td>\n",
       "      <td>-0.002180</td>\n",
       "      <td>-0.370026</td>\n",
       "      <td>-0.333875</td>\n",
       "      <td>0.495155</td>\n",
       "      <td>-0.404138</td>\n",
       "      <td>1.000000</td>\n",
       "      <td>0.425942</td>\n",
       "      <td>0.371692</td>\n",
       "      <td>0.169150</td>\n",
       "      <td>-0.378035</td>\n",
       "    </tr>\n",
       "    <tr>\n",
       "      <th>Injection Speed</th>\n",
       "      <td>0.425245</td>\n",
       "      <td>0.321884</td>\n",
       "      <td>0.410732</td>\n",
       "      <td>0.453551</td>\n",
       "      <td>0.058555</td>\n",
       "      <td>0.852442</td>\n",
       "      <td>-0.572297</td>\n",
       "      <td>-0.061718</td>\n",
       "      <td>-0.801267</td>\n",
       "      <td>-0.595533</td>\n",
       "      <td>0.926382</td>\n",
       "      <td>0.453808</td>\n",
       "      <td>0.425942</td>\n",
       "      <td>1.000000</td>\n",
       "      <td>0.682215</td>\n",
       "      <td>0.481491</td>\n",
       "      <td>-0.189293</td>\n",
       "    </tr>\n",
       "    <tr>\n",
       "      <th>Min Cushion Position</th>\n",
       "      <td>0.282982</td>\n",
       "      <td>0.190142</td>\n",
       "      <td>0.278950</td>\n",
       "      <td>0.326655</td>\n",
       "      <td>-0.022867</td>\n",
       "      <td>0.781745</td>\n",
       "      <td>-0.423710</td>\n",
       "      <td>-0.055429</td>\n",
       "      <td>-0.729297</td>\n",
       "      <td>-0.447727</td>\n",
       "      <td>0.741271</td>\n",
       "      <td>0.499596</td>\n",
       "      <td>0.371692</td>\n",
       "      <td>0.682215</td>\n",
       "      <td>1.000000</td>\n",
       "      <td>0.633753</td>\n",
       "      <td>-0.412178</td>\n",
       "    </tr>\n",
       "    <tr>\n",
       "      <th>Pack Pressure</th>\n",
       "      <td>0.110949</td>\n",
       "      <td>0.031852</td>\n",
       "      <td>0.127948</td>\n",
       "      <td>0.186332</td>\n",
       "      <td>-0.118709</td>\n",
       "      <td>0.561967</td>\n",
       "      <td>-0.271599</td>\n",
       "      <td>-0.035773</td>\n",
       "      <td>-0.463836</td>\n",
       "      <td>-0.286994</td>\n",
       "      <td>0.425969</td>\n",
       "      <td>0.489952</td>\n",
       "      <td>0.169150</td>\n",
       "      <td>0.481491</td>\n",
       "      <td>0.633753</td>\n",
       "      <td>1.000000</td>\n",
       "      <td>-0.302368</td>\n",
       "    </tr>\n",
       "    <tr>\n",
       "      <th>Flag</th>\n",
       "      <td>-0.202517</td>\n",
       "      <td>-0.159590</td>\n",
       "      <td>-0.114472</td>\n",
       "      <td>-0.089287</td>\n",
       "      <td>-0.176815</td>\n",
       "      <td>-0.157995</td>\n",
       "      <td>0.103054</td>\n",
       "      <td>0.013476</td>\n",
       "      <td>0.288644</td>\n",
       "      <td>0.108896</td>\n",
       "      <td>-0.189305</td>\n",
       "      <td>0.036589</td>\n",
       "      <td>-0.378035</td>\n",
       "      <td>-0.189293</td>\n",
       "      <td>-0.412178</td>\n",
       "      <td>-0.302368</td>\n",
       "      <td>1.000000</td>\n",
       "    </tr>\n",
       "  </tbody>\n",
       "</table>\n",
       "</div>"
      ],
      "text/plain": [
       "CAPAB_NAME                 Barrel Temp Zone 1  Barrel Temp Zone 2  \\\n",
       "CAPAB_NAME                                                          \n",
       "Barrel Temp Zone 1                   1.000000            0.966405   \n",
       "Barrel Temp Zone 2                   0.966405            1.000000   \n",
       "Barrel Temp Zone 3                   0.848297            0.917343   \n",
       "Barrel Temp Zone 4                   0.746144            0.823006   \n",
       "Barrel Temp Zone 5                   0.811655            0.743999   \n",
       "Clamp Tonnage After Hold             0.411588            0.297996   \n",
       "Cooling Time                        -0.634696           -0.626663   \n",
       "Cycle Time                           0.001514            0.009776   \n",
       "Dose Time                           -0.291434           -0.183883   \n",
       "Ejector Ejection Position           -0.635346           -0.612985   \n",
       "Ejector Ejection Speed               0.417107            0.308866   \n",
       "Filling Peak Pressure               -0.324953           -0.331514   \n",
       "Filling Time                         0.748327            0.647224   \n",
       "Injection Speed                      0.425245            0.321884   \n",
       "Min Cushion Position                 0.282982            0.190142   \n",
       "Pack Pressure                        0.110949            0.031852   \n",
       "Flag                                -0.202517           -0.159590   \n",
       "\n",
       "CAPAB_NAME                 Barrel Temp Zone 3  Barrel Temp Zone 4  \\\n",
       "CAPAB_NAME                                                          \n",
       "Barrel Temp Zone 1                   0.848297            0.746144   \n",
       "Barrel Temp Zone 2                   0.917343            0.823006   \n",
       "Barrel Temp Zone 3                   1.000000            0.978299   \n",
       "Barrel Temp Zone 4                   0.978299            1.000000   \n",
       "Barrel Temp Zone 5                   0.435851            0.256436   \n",
       "Clamp Tonnage After Hold             0.383802            0.427799   \n",
       "Cooling Time                        -0.810991           -0.852751   \n",
       "Cycle Time                           0.011406            0.009473   \n",
       "Dose Time                           -0.241112           -0.277906   \n",
       "Ejector Ejection Position           -0.788064           -0.833330   \n",
       "Ejector Ejection Speed               0.390784            0.434028   \n",
       "Filling Peak Pressure               -0.020541            0.156937   \n",
       "Filling Time                         0.446439            0.325577   \n",
       "Injection Speed                      0.410732            0.453551   \n",
       "Min Cushion Position                 0.278950            0.326655   \n",
       "Pack Pressure                        0.127948            0.186332   \n",
       "Flag                                -0.114472           -0.089287   \n",
       "\n",
       "CAPAB_NAME                 Barrel Temp Zone 5  Clamp Tonnage After Hold  \\\n",
       "CAPAB_NAME                                                                \n",
       "Barrel Temp Zone 1                   0.811655                  0.411588   \n",
       "Barrel Temp Zone 2                   0.743999                  0.297996   \n",
       "Barrel Temp Zone 3                   0.435851                  0.383802   \n",
       "Barrel Temp Zone 4                   0.256436                  0.427799   \n",
       "Barrel Temp Zone 5                   1.000000                  0.052825   \n",
       "Clamp Tonnage After Hold             0.052825                  1.000000   \n",
       "Cooling Time                        -0.169734                 -0.531809   \n",
       "Cycle Time                           0.007155                 -0.069420   \n",
       "Dose Time                           -0.021620                 -0.772947   \n",
       "Ejector Ejection Position           -0.167388                 -0.561954   \n",
       "Ejector Ejection Speed               0.052171                  0.917483   \n",
       "Filling Peak Pressure               -0.715085                  0.511282   \n",
       "Filling Time                         0.734212                  0.505113   \n",
       "Injection Speed                      0.058555                  0.852442   \n",
       "Min Cushion Position                -0.022867                  0.781745   \n",
       "Pack Pressure                       -0.118709                  0.561967   \n",
       "Flag                                -0.176815                 -0.157995   \n",
       "\n",
       "CAPAB_NAME                 Cooling Time  Cycle Time  Dose Time  \\\n",
       "CAPAB_NAME                                                       \n",
       "Barrel Temp Zone 1            -0.634696    0.001514  -0.291434   \n",
       "Barrel Temp Zone 2            -0.626663    0.009776  -0.183883   \n",
       "Barrel Temp Zone 3            -0.810991    0.011406  -0.241112   \n",
       "Barrel Temp Zone 4            -0.852751    0.009473  -0.277906   \n",
       "Barrel Temp Zone 5            -0.169734    0.007155  -0.021620   \n",
       "Clamp Tonnage After Hold      -0.531809   -0.069420  -0.772947   \n",
       "Cooling Time                   1.000000   -0.000492   0.382415   \n",
       "Cycle Time                    -0.000492    1.000000   0.142392   \n",
       "Dose Time                      0.382415    0.142392   1.000000   \n",
       "Ejector Ejection Position      0.946357   -0.000520   0.404091   \n",
       "Ejector Ejection Speed        -0.544382   -0.070785  -0.844002   \n",
       "Filling Peak Pressure         -0.275783   -0.021377  -0.412650   \n",
       "Filling Time                  -0.315965   -0.002180  -0.370026   \n",
       "Injection Speed               -0.572297   -0.061718  -0.801267   \n",
       "Min Cushion Position          -0.423710   -0.055429  -0.729297   \n",
       "Pack Pressure                 -0.271599   -0.035773  -0.463836   \n",
       "Flag                           0.103054    0.013476   0.288644   \n",
       "\n",
       "CAPAB_NAME                 Ejector Ejection Position  Ejector Ejection Speed  \\\n",
       "CAPAB_NAME                                                                     \n",
       "Barrel Temp Zone 1                         -0.635346                0.417107   \n",
       "Barrel Temp Zone 2                         -0.612985                0.308866   \n",
       "Barrel Temp Zone 3                         -0.788064                0.390784   \n",
       "Barrel Temp Zone 4                         -0.833330                0.434028   \n",
       "Barrel Temp Zone 5                         -0.167388                0.052171   \n",
       "Clamp Tonnage After Hold                   -0.561954                0.917483   \n",
       "Cooling Time                                0.946357               -0.544382   \n",
       "Cycle Time                                 -0.000520               -0.070785   \n",
       "Dose Time                                   0.404091               -0.844002   \n",
       "Ejector Ejection Position                   1.000000               -0.575240   \n",
       "Ejector Ejection Speed                     -0.575240                1.000000   \n",
       "Filling Peak Pressure                      -0.291416                0.474844   \n",
       "Filling Time                               -0.333875                0.495155   \n",
       "Injection Speed                            -0.595533                0.926382   \n",
       "Min Cushion Position                       -0.447727                0.741271   \n",
       "Pack Pressure                              -0.286994                0.425969   \n",
       "Flag                                        0.108896               -0.189305   \n",
       "\n",
       "CAPAB_NAME                 Filling Peak Pressure  Filling Time  \\\n",
       "CAPAB_NAME                                                       \n",
       "Barrel Temp Zone 1                     -0.324953      0.748327   \n",
       "Barrel Temp Zone 2                     -0.331514      0.647224   \n",
       "Barrel Temp Zone 3                     -0.020541      0.446439   \n",
       "Barrel Temp Zone 4                      0.156937      0.325577   \n",
       "Barrel Temp Zone 5                     -0.715085      0.734212   \n",
       "Clamp Tonnage After Hold                0.511282      0.505113   \n",
       "Cooling Time                           -0.275783     -0.315965   \n",
       "Cycle Time                             -0.021377     -0.002180   \n",
       "Dose Time                              -0.412650     -0.370026   \n",
       "Ejector Ejection Position              -0.291416     -0.333875   \n",
       "Ejector Ejection Speed                  0.474844      0.495155   \n",
       "Filling Peak Pressure                   1.000000     -0.404138   \n",
       "Filling Time                           -0.404138      1.000000   \n",
       "Injection Speed                         0.453808      0.425942   \n",
       "Min Cushion Position                    0.499596      0.371692   \n",
       "Pack Pressure                           0.489952      0.169150   \n",
       "Flag                                    0.036589     -0.378035   \n",
       "\n",
       "CAPAB_NAME                 Injection Speed  Min Cushion Position  \\\n",
       "CAPAB_NAME                                                         \n",
       "Barrel Temp Zone 1                0.425245              0.282982   \n",
       "Barrel Temp Zone 2                0.321884              0.190142   \n",
       "Barrel Temp Zone 3                0.410732              0.278950   \n",
       "Barrel Temp Zone 4                0.453551              0.326655   \n",
       "Barrel Temp Zone 5                0.058555             -0.022867   \n",
       "Clamp Tonnage After Hold          0.852442              0.781745   \n",
       "Cooling Time                     -0.572297             -0.423710   \n",
       "Cycle Time                       -0.061718             -0.055429   \n",
       "Dose Time                        -0.801267             -0.729297   \n",
       "Ejector Ejection Position        -0.595533             -0.447727   \n",
       "Ejector Ejection Speed            0.926382              0.741271   \n",
       "Filling Peak Pressure             0.453808              0.499596   \n",
       "Filling Time                      0.425942              0.371692   \n",
       "Injection Speed                   1.000000              0.682215   \n",
       "Min Cushion Position              0.682215              1.000000   \n",
       "Pack Pressure                     0.481491              0.633753   \n",
       "Flag                             -0.189293             -0.412178   \n",
       "\n",
       "CAPAB_NAME                 Pack Pressure      Flag  \n",
       "CAPAB_NAME                                          \n",
       "Barrel Temp Zone 1              0.110949 -0.202517  \n",
       "Barrel Temp Zone 2              0.031852 -0.159590  \n",
       "Barrel Temp Zone 3              0.127948 -0.114472  \n",
       "Barrel Temp Zone 4              0.186332 -0.089287  \n",
       "Barrel Temp Zone 5             -0.118709 -0.176815  \n",
       "Clamp Tonnage After Hold        0.561967 -0.157995  \n",
       "Cooling Time                   -0.271599  0.103054  \n",
       "Cycle Time                     -0.035773  0.013476  \n",
       "Dose Time                      -0.463836  0.288644  \n",
       "Ejector Ejection Position      -0.286994  0.108896  \n",
       "Ejector Ejection Speed          0.425969 -0.189305  \n",
       "Filling Peak Pressure           0.489952  0.036589  \n",
       "Filling Time                    0.169150 -0.378035  \n",
       "Injection Speed                 0.481491 -0.189293  \n",
       "Min Cushion Position            0.633753 -0.412178  \n",
       "Pack Pressure                   1.000000 -0.302368  \n",
       "Flag                           -0.302368  1.000000  "
      ]
     },
     "execution_count": 6,
     "metadata": {},
     "output_type": "execute_result"
    }
   ],
   "source": [
    "corr_matrix = df_combined.corr()\n",
    "corr_matrix"
   ]
  },
  {
   "cell_type": "markdown",
   "metadata": {},
   "source": [
    "Found out later that correlation analysis isn't super important for predictive modeling... But still helpful to see what variables are contributing the most\n"
   ]
  },
  {
   "cell_type": "code",
   "execution_count": 7,
   "metadata": {},
   "outputs": [
    {
     "data": {
      "text/plain": [
       "CAPAB_NAME\n",
       "Flag                         1.000000\n",
       "Min Cushion Position        -0.412178\n",
       "Filling Time                -0.378035\n",
       "Pack Pressure               -0.302368\n",
       "Dose Time                    0.288644\n",
       "Barrel Temp Zone 1          -0.202517\n",
       "Ejector Ejection Speed      -0.189305\n",
       "Injection Speed             -0.189293\n",
       "Barrel Temp Zone 5          -0.176815\n",
       "Barrel Temp Zone 2          -0.159590\n",
       "Clamp Tonnage After Hold    -0.157995\n",
       "Barrel Temp Zone 3          -0.114472\n",
       "Ejector Ejection Position    0.108896\n",
       "Cooling Time                 0.103054\n",
       "Barrel Temp Zone 4          -0.089287\n",
       "Filling Peak Pressure        0.036589\n",
       "Cycle Time                   0.013476\n",
       "Name: Flag, dtype: float64"
      ]
     },
     "execution_count": 7,
     "metadata": {},
     "output_type": "execute_result"
    }
   ],
   "source": [
    "corr_matrix['Flag'].sort_values(key=abs,ascending=False)"
   ]
  },
  {
   "cell_type": "code",
   "execution_count": 8,
   "metadata": {},
   "outputs": [
    {
     "data": {
      "text/plain": [
       "array([[<AxesSubplot:xlabel='Flag', ylabel='Flag'>,\n",
       "        <AxesSubplot:xlabel='Min Cushion Position', ylabel='Flag'>,\n",
       "        <AxesSubplot:xlabel='Filling Time', ylabel='Flag'>,\n",
       "        <AxesSubplot:xlabel='Pack Pressure', ylabel='Flag'>],\n",
       "       [<AxesSubplot:xlabel='Flag', ylabel='Min Cushion Position'>,\n",
       "        <AxesSubplot:xlabel='Min Cushion Position', ylabel='Min Cushion Position'>,\n",
       "        <AxesSubplot:xlabel='Filling Time', ylabel='Min Cushion Position'>,\n",
       "        <AxesSubplot:xlabel='Pack Pressure', ylabel='Min Cushion Position'>],\n",
       "       [<AxesSubplot:xlabel='Flag', ylabel='Filling Time'>,\n",
       "        <AxesSubplot:xlabel='Min Cushion Position', ylabel='Filling Time'>,\n",
       "        <AxesSubplot:xlabel='Filling Time', ylabel='Filling Time'>,\n",
       "        <AxesSubplot:xlabel='Pack Pressure', ylabel='Filling Time'>],\n",
       "       [<AxesSubplot:xlabel='Flag', ylabel='Pack Pressure'>,\n",
       "        <AxesSubplot:xlabel='Min Cushion Position', ylabel='Pack Pressure'>,\n",
       "        <AxesSubplot:xlabel='Filling Time', ylabel='Pack Pressure'>,\n",
       "        <AxesSubplot:xlabel='Pack Pressure', ylabel='Pack Pressure'>]],\n",
       "      dtype=object)"
      ]
     },
     "execution_count": 8,
     "metadata": {},
     "output_type": "execute_result"
    },
    {
     "data": {
      "image/png": "[encoded data removed]",
      "text/plain": [
       "<Figure size 1200x800 with 16 Axes>"
      ]
     },
     "metadata": {},
     "output_type": "display_data"
    }
   ],
   "source": [
    "from pandas.plotting import scatter_matrix\n",
    "\n",
    "attributes = [\"Flag\", \"Min Cushion Position\", \"Filling Time\", \"Pack Pressure\"]\n",
    "\n",
    "scatter_matrix(df_combined[attributes], figsize = (12,8))"
   ]
  },
  {
   "cell_type": "code",
   "execution_count": 9,
   "metadata": {},
   "outputs": [
    {
     "data": {
      "text/plain": [
       "0    10547\n",
       "1     9226\n",
       "Name: Flag, dtype: int64"
      ]
     },
     "execution_count": 9,
     "metadata": {},
     "output_type": "execute_result"
    }
   ],
   "source": [
    "df_combined['Flag'].value_counts()"
   ]
  },
  {
   "cell_type": "markdown",
   "metadata": {},
   "source": [
    "#### VIF Analysis"
   ]
  },
  {
   "cell_type": "markdown",
   "metadata": {},
   "source": [
    "More correlation analysis... not too applicable for ML"
   ]
  },
  {
   "cell_type": "code",
   "execution_count": 10,
   "metadata": {},
   "outputs": [],
   "source": [
    "from statsmodels.stats.outliers_influence import variance_inflation_factor\n",
    "\n",
    "set1 = df_combined.drop(['Flag'], axis=1)"
   ]
  },
  {
   "cell_type": "code",
   "execution_count": 11,
   "metadata": {},
   "outputs": [
    {
     "data": {
      "text/html": [
       "<div>\n",
       "<style scoped>\n",
       "    .dataframe tbody tr th:only-of-type {\n",
       "        vertical-align: middle;\n",
       "    }\n",
       "\n",
       "    .dataframe tbody tr th {\n",
       "        vertical-align: top;\n",
       "    }\n",
       "\n",
       "    .dataframe thead th {\n",
       "        text-align: right;\n",
       "    }\n",
       "</style>\n",
       "<table border=\"1\" class=\"dataframe\">\n",
       "  <thead>\n",
       "    <tr style=\"text-align: right;\">\n",
       "      <th></th>\n",
       "      <th>column</th>\n",
       "      <th>VIF Value</th>\n",
       "    </tr>\n",
       "  </thead>\n",
       "  <tbody>\n",
       "    <tr>\n",
       "      <th>0</th>\n",
       "      <td>Barrel Temp Zone 1</td>\n",
       "      <td>28039.394766</td>\n",
       "    </tr>\n",
       "    <tr>\n",
       "      <th>1</th>\n",
       "      <td>Barrel Temp Zone 2</td>\n",
       "      <td>202978.275563</td>\n",
       "    </tr>\n",
       "    <tr>\n",
       "      <th>2</th>\n",
       "      <td>Barrel Temp Zone 3</td>\n",
       "      <td>554409.731665</td>\n",
       "    </tr>\n",
       "    <tr>\n",
       "      <th>3</th>\n",
       "      <td>Barrel Temp Zone 4</td>\n",
       "      <td>370606.499816</td>\n",
       "    </tr>\n",
       "    <tr>\n",
       "      <th>4</th>\n",
       "      <td>Barrel Temp Zone 5</td>\n",
       "      <td>3481.499159</td>\n",
       "    </tr>\n",
       "    <tr>\n",
       "      <th>5</th>\n",
       "      <td>Clamp Tonnage After Hold</td>\n",
       "      <td>386.516420</td>\n",
       "    </tr>\n",
       "    <tr>\n",
       "      <th>6</th>\n",
       "      <td>Cooling Time</td>\n",
       "      <td>383.314030</td>\n",
       "    </tr>\n",
       "    <tr>\n",
       "      <th>7</th>\n",
       "      <td>Cycle Time</td>\n",
       "      <td>1.046524</td>\n",
       "    </tr>\n",
       "    <tr>\n",
       "      <th>8</th>\n",
       "      <td>Dose Time</td>\n",
       "      <td>630.904390</td>\n",
       "    </tr>\n",
       "    <tr>\n",
       "      <th>9</th>\n",
       "      <td>Ejector Ejection Position</td>\n",
       "      <td>7735.130043</td>\n",
       "    </tr>\n",
       "    <tr>\n",
       "      <th>10</th>\n",
       "      <td>Ejector Ejection Speed</td>\n",
       "      <td>4775.523287</td>\n",
       "    </tr>\n",
       "    <tr>\n",
       "      <th>11</th>\n",
       "      <td>Filling Peak Pressure</td>\n",
       "      <td>176.000234</td>\n",
       "    </tr>\n",
       "    <tr>\n",
       "      <th>12</th>\n",
       "      <td>Filling Time</td>\n",
       "      <td>395.344240</td>\n",
       "    </tr>\n",
       "    <tr>\n",
       "      <th>13</th>\n",
       "      <td>Injection Speed</td>\n",
       "      <td>7620.888614</td>\n",
       "    </tr>\n",
       "    <tr>\n",
       "      <th>14</th>\n",
       "      <td>Min Cushion Position</td>\n",
       "      <td>74.356472</td>\n",
       "    </tr>\n",
       "    <tr>\n",
       "      <th>15</th>\n",
       "      <td>Pack Pressure</td>\n",
       "      <td>519.477289</td>\n",
       "    </tr>\n",
       "  </tbody>\n",
       "</table>\n",
       "</div>"
      ],
      "text/plain": [
       "                       column      VIF Value\n",
       "0          Barrel Temp Zone 1   28039.394766\n",
       "1          Barrel Temp Zone 2  202978.275563\n",
       "2          Barrel Temp Zone 3  554409.731665\n",
       "3          Barrel Temp Zone 4  370606.499816\n",
       "4          Barrel Temp Zone 5    3481.499159\n",
       "5    Clamp Tonnage After Hold     386.516420\n",
       "6                Cooling Time     383.314030\n",
       "7                  Cycle Time       1.046524\n",
       "8                   Dose Time     630.904390\n",
       "9   Ejector Ejection Position    7735.130043\n",
       "10     Ejector Ejection Speed    4775.523287\n",
       "11      Filling Peak Pressure     176.000234\n",
       "12               Filling Time     395.344240\n",
       "13            Injection Speed    7620.888614\n",
       "14       Min Cushion Position      74.356472\n",
       "15              Pack Pressure     519.477289"
      ]
     },
     "execution_count": 11,
     "metadata": {},
     "output_type": "execute_result"
    }
   ],
   "source": [
    "vif_data = pd.DataFrame()\n",
    "vif_data[\"column\"] = set1.columns\n",
    "vif_data[\"VIF Value\"] = [variance_inflation_factor(set1.values, i)\n",
    "    for i in range(len(set1.columns))]\n",
    "vif_data"
   ]
  },
  {
   "cell_type": "code",
   "execution_count": 12,
   "metadata": {},
   "outputs": [
    {
     "data": {
      "text/html": [
       "<div>\n",
       "<style scoped>\n",
       "    .dataframe tbody tr th:only-of-type {\n",
       "        vertical-align: middle;\n",
       "    }\n",
       "\n",
       "    .dataframe tbody tr th {\n",
       "        vertical-align: top;\n",
       "    }\n",
       "\n",
       "    .dataframe thead th {\n",
       "        text-align: right;\n",
       "    }\n",
       "</style>\n",
       "<table border=\"1\" class=\"dataframe\">\n",
       "  <thead>\n",
       "    <tr style=\"text-align: right;\">\n",
       "      <th>CAPAB_NAME</th>\n",
       "      <th>Barrel Temp Zone 1</th>\n",
       "      <th>Barrel Temp Zone 2</th>\n",
       "      <th>Barrel Temp Zone 3</th>\n",
       "      <th>Barrel Temp Zone 4</th>\n",
       "      <th>Barrel Temp Zone 5</th>\n",
       "    </tr>\n",
       "    <tr>\n",
       "      <th>CAPAB_NAME</th>\n",
       "      <th></th>\n",
       "      <th></th>\n",
       "      <th></th>\n",
       "      <th></th>\n",
       "      <th></th>\n",
       "    </tr>\n",
       "  </thead>\n",
       "  <tbody>\n",
       "    <tr>\n",
       "      <th>Barrel Temp Zone 1</th>\n",
       "      <td>1.000000</td>\n",
       "      <td>0.966405</td>\n",
       "      <td>0.848297</td>\n",
       "      <td>0.746144</td>\n",
       "      <td>0.811655</td>\n",
       "    </tr>\n",
       "    <tr>\n",
       "      <th>Barrel Temp Zone 2</th>\n",
       "      <td>0.966405</td>\n",
       "      <td>1.000000</td>\n",
       "      <td>0.917343</td>\n",
       "      <td>0.823006</td>\n",
       "      <td>0.743999</td>\n",
       "    </tr>\n",
       "    <tr>\n",
       "      <th>Barrel Temp Zone 3</th>\n",
       "      <td>0.848297</td>\n",
       "      <td>0.917343</td>\n",
       "      <td>1.000000</td>\n",
       "      <td>0.978299</td>\n",
       "      <td>0.435851</td>\n",
       "    </tr>\n",
       "    <tr>\n",
       "      <th>Barrel Temp Zone 4</th>\n",
       "      <td>0.746144</td>\n",
       "      <td>0.823006</td>\n",
       "      <td>0.978299</td>\n",
       "      <td>1.000000</td>\n",
       "      <td>0.256436</td>\n",
       "    </tr>\n",
       "    <tr>\n",
       "      <th>Barrel Temp Zone 5</th>\n",
       "      <td>0.811655</td>\n",
       "      <td>0.743999</td>\n",
       "      <td>0.435851</td>\n",
       "      <td>0.256436</td>\n",
       "      <td>1.000000</td>\n",
       "    </tr>\n",
       "  </tbody>\n",
       "</table>\n",
       "</div>"
      ],
      "text/plain": [
       "CAPAB_NAME          Barrel Temp Zone 1  Barrel Temp Zone 2  \\\n",
       "CAPAB_NAME                                                   \n",
       "Barrel Temp Zone 1            1.000000            0.966405   \n",
       "Barrel Temp Zone 2            0.966405            1.000000   \n",
       "Barrel Temp Zone 3            0.848297            0.917343   \n",
       "Barrel Temp Zone 4            0.746144            0.823006   \n",
       "Barrel Temp Zone 5            0.811655            0.743999   \n",
       "\n",
       "CAPAB_NAME          Barrel Temp Zone 3  Barrel Temp Zone 4  Barrel Temp Zone 5  \n",
       "CAPAB_NAME                                                                      \n",
       "Barrel Temp Zone 1            0.848297            0.746144            0.811655  \n",
       "Barrel Temp Zone 2            0.917343            0.823006            0.743999  \n",
       "Barrel Temp Zone 3            1.000000            0.978299            0.435851  \n",
       "Barrel Temp Zone 4            0.978299            1.000000            0.256436  \n",
       "Barrel Temp Zone 5            0.435851            0.256436            1.000000  "
      ]
     },
     "execution_count": 12,
     "metadata": {},
     "output_type": "execute_result"
    }
   ],
   "source": [
    "temperature_columns = df_combined.filter(['Barrel Temp Zone 1', 'Barrel Temp Zone 2', 'Barrel Temp Zone 3',\n",
    " 'Barrel Temp Zone 4', 'Barrel Temp Zone 5'])\n",
    "temperature_columns.corr()"
   ]
  },
  {
   "cell_type": "code",
   "execution_count": 13,
   "metadata": {},
   "outputs": [
    {
     "data": {
      "text/plain": [
       "<matplotlib.collections.PathCollection at 0x29937f6a0>"
      ]
     },
     "execution_count": 13,
     "metadata": {},
     "output_type": "execute_result"
    },
    {
     "data": {
      "image/png": "[encoded data removed]",
      "text/plain": [
       "<Figure size 640x480 with 1 Axes>"
      ]
     },
     "metadata": {},
     "output_type": "display_data"
    }
   ],
   "source": [
    "plt.scatter(df_combined['Min Cushion Position'], df_combined['Flag'], marker='+', color='red')"
   ]
  },
  {
   "cell_type": "markdown",
   "metadata": {},
   "source": [
    "Interesting that there seems to be a certain range around 0.2 where the cushion position is centered around during a good run. When a leak occurs, the value can really be anywhere."
   ]
  },
  {
   "cell_type": "code",
   "execution_count": 14,
   "metadata": {},
   "outputs": [
    {
     "data": {
      "text/plain": [
       "(array([6.430e+02, 6.000e+00, 9.000e+00, 1.100e+01, 9.000e+00, 9.000e+00,\n",
       "        3.000e+00, 0.000e+00, 0.000e+00, 6.000e+00, 6.000e+00, 9.000e+00,\n",
       "        9.000e+00, 3.000e+00, 3.000e+00, 1.370e+02, 2.530e+02, 8.120e+02,\n",
       "        3.200e+02, 2.420e+02, 2.280e+02, 3.390e+02, 4.560e+02, 9.600e+02,\n",
       "        3.136e+03, 8.281e+03, 3.733e+03, 5.900e+01, 0.000e+00, 0.000e+00,\n",
       "        6.000e+00, 2.000e+01, 2.900e+01, 9.000e+00, 0.000e+00, 0.000e+00,\n",
       "        0.000e+00, 3.000e+00, 3.000e+00, 0.000e+00, 0.000e+00, 0.000e+00,\n",
       "        3.000e+00, 0.000e+00, 0.000e+00, 0.000e+00, 0.000e+00, 0.000e+00,\n",
       "        0.000e+00, 0.000e+00, 0.000e+00, 3.000e+00, 0.000e+00, 0.000e+00,\n",
       "        0.000e+00, 0.000e+00, 0.000e+00, 0.000e+00, 0.000e+00, 0.000e+00,\n",
       "        0.000e+00, 0.000e+00, 0.000e+00, 3.000e+00, 0.000e+00, 0.000e+00,\n",
       "        0.000e+00, 0.000e+00, 0.000e+00, 0.000e+00, 3.000e+00, 0.000e+00,\n",
       "        0.000e+00, 3.000e+00, 0.000e+00, 0.000e+00, 0.000e+00, 0.000e+00,\n",
       "        0.000e+00, 0.000e+00, 0.000e+00, 0.000e+00, 0.000e+00, 0.000e+00,\n",
       "        0.000e+00, 0.000e+00, 0.000e+00, 0.000e+00, 0.000e+00, 0.000e+00,\n",
       "        0.000e+00, 0.000e+00, 0.000e+00, 0.000e+00, 0.000e+00, 0.000e+00,\n",
       "        0.000e+00, 0.000e+00, 3.000e+00, 3.000e+00]),\n",
       " array([0.        , 0.00765484, 0.01530968, 0.02296452, 0.03061936,\n",
       "        0.0382742 , 0.04592904, 0.05358388, 0.06123872, 0.06889356,\n",
       "        0.0765484 , 0.08420324, 0.09185808, 0.09951292, 0.10716776,\n",
       "        0.1148226 , 0.12247744, 0.13013228, 0.13778712, 0.14544196,\n",
       "        0.1530968 , 0.16075164, 0.16840648, 0.17606132, 0.18371616,\n",
       "        0.191371  , 0.19902584, 0.20668068, 0.21433552, 0.22199036,\n",
       "        0.2296452 , 0.23730004, 0.24495488, 0.25260972, 0.26026456,\n",
       "        0.2679194 , 0.27557424, 0.28322908, 0.29088392, 0.29853876,\n",
       "        0.3061936 , 0.31384844, 0.32150328, 0.32915812, 0.33681296,\n",
       "        0.3444678 , 0.35212264, 0.35977748, 0.36743232, 0.37508716,\n",
       "        0.382742  , 0.39039684, 0.39805168, 0.40570652, 0.41336136,\n",
       "        0.4210162 , 0.42867104, 0.43632588, 0.44398072, 0.45163556,\n",
       "        0.4592904 , 0.46694524, 0.47460008, 0.48225492, 0.48990976,\n",
       "        0.4975646 , 0.50521944, 0.51287428, 0.52052912, 0.52818396,\n",
       "        0.5358388 , 0.54349364, 0.55114848, 0.55880332, 0.56645816,\n",
       "        0.574113  , 0.58176784, 0.58942268, 0.59707752, 0.60473236,\n",
       "        0.6123872 , 0.62004204, 0.62769688, 0.63535172, 0.64300656,\n",
       "        0.6506614 , 0.65831624, 0.66597108, 0.67362592, 0.68128076,\n",
       "        0.6889356 , 0.69659044, 0.70424528, 0.71190012, 0.71955496,\n",
       "        0.7272098 , 0.73486464, 0.74251948, 0.75017432, 0.75782916,\n",
       "        0.765484  ]),\n",
       " <BarContainer object of 100 artists>)"
      ]
     },
     "execution_count": 14,
     "metadata": {},
     "output_type": "execute_result"
    },
    {
     "data": {
      "image/png": "[encoded data removed]",
      "text/plain": [
       "<Figure size 640x480 with 1 Axes>"
      ]
     },
     "metadata": {},
     "output_type": "display_data"
    }
   ],
   "source": [
    "plt.hist(df_combined['Min Cushion Position'], color='blue', bins=100)"
   ]
  },
  {
   "cell_type": "code",
   "execution_count": 15,
   "metadata": {},
   "outputs": [
    {
     "data": {
      "text/plain": [
       "(array([3.0000e+00, 0.0000e+00, 0.0000e+00, 0.0000e+00, 9.0000e+00,\n",
       "        0.0000e+00, 0.0000e+00, 0.0000e+00, 0.0000e+00, 0.0000e+00,\n",
       "        0.0000e+00, 0.0000e+00, 0.0000e+00, 0.0000e+00, 0.0000e+00,\n",
       "        5.8600e+02, 3.0000e+00, 3.0000e+00, 3.0000e+00, 0.0000e+00,\n",
       "        0.0000e+00, 0.0000e+00, 5.0000e+00, 0.0000e+00, 3.0000e+00,\n",
       "        5.0200e+02, 0.0000e+00, 0.0000e+00, 0.0000e+00, 0.0000e+00,\n",
       "        0.0000e+00, 6.0000e+00, 3.0000e+00, 0.0000e+00, 0.0000e+00,\n",
       "        3.0000e+00, 0.0000e+00, 0.0000e+00, 0.0000e+00, 0.0000e+00,\n",
       "        0.0000e+00, 0.0000e+00, 0.0000e+00, 0.0000e+00, 0.0000e+00,\n",
       "        0.0000e+00, 3.0000e+00, 0.0000e+00, 0.0000e+00, 0.0000e+00,\n",
       "        0.0000e+00, 2.6000e+01, 0.0000e+00, 0.0000e+00, 2.7000e+01,\n",
       "        5.5470e+03, 1.2800e+02, 1.5370e+03, 1.1223e+04, 1.1000e+01,\n",
       "        3.0000e+00, 3.0000e+00, 0.0000e+00, 0.0000e+00, 0.0000e+00,\n",
       "        0.0000e+00, 2.4000e+01, 3.0000e+00, 6.0000e+00, 2.0000e+01,\n",
       "        3.0000e+00, 3.0000e+00, 2.9000e+01, 1.8000e+01, 3.0000e+00,\n",
       "        1.5000e+01, 0.0000e+00, 6.0000e+00, 0.0000e+00, 0.0000e+00,\n",
       "        0.0000e+00, 0.0000e+00, 0.0000e+00, 0.0000e+00, 0.0000e+00,\n",
       "        0.0000e+00, 0.0000e+00, 0.0000e+00, 0.0000e+00, 0.0000e+00,\n",
       "        0.0000e+00, 0.0000e+00, 0.0000e+00, 0.0000e+00, 0.0000e+00,\n",
       "        0.0000e+00, 0.0000e+00, 0.0000e+00, 0.0000e+00, 6.0000e+00]),\n",
       " array([0.009  , 0.03812, 0.06724, 0.09636, 0.12548, 0.1546 , 0.18372,\n",
       "        0.21284, 0.24196, 0.27108, 0.3002 , 0.32932, 0.35844, 0.38756,\n",
       "        0.41668, 0.4458 , 0.47492, 0.50404, 0.53316, 0.56228, 0.5914 ,\n",
       "        0.62052, 0.64964, 0.67876, 0.70788, 0.737  , 0.76612, 0.79524,\n",
       "        0.82436, 0.85348, 0.8826 , 0.91172, 0.94084, 0.96996, 0.99908,\n",
       "        1.0282 , 1.05732, 1.08644, 1.11556, 1.14468, 1.1738 , 1.20292,\n",
       "        1.23204, 1.26116, 1.29028, 1.3194 , 1.34852, 1.37764, 1.40676,\n",
       "        1.43588, 1.465  , 1.49412, 1.52324, 1.55236, 1.58148, 1.6106 ,\n",
       "        1.63972, 1.66884, 1.69796, 1.72708, 1.7562 , 1.78532, 1.81444,\n",
       "        1.84356, 1.87268, 1.9018 , 1.93092, 1.96004, 1.98916, 2.01828,\n",
       "        2.0474 , 2.07652, 2.10564, 2.13476, 2.16388, 2.193  , 2.22212,\n",
       "        2.25124, 2.28036, 2.30948, 2.3386 , 2.36772, 2.39684, 2.42596,\n",
       "        2.45508, 2.4842 , 2.51332, 2.54244, 2.57156, 2.60068, 2.6298 ,\n",
       "        2.65892, 2.68804, 2.71716, 2.74628, 2.7754 , 2.80452, 2.83364,\n",
       "        2.86276, 2.89188, 2.921  ]),\n",
       " <BarContainer object of 100 artists>)"
      ]
     },
     "execution_count": 15,
     "metadata": {},
     "output_type": "execute_result"
    },
    {
     "data": {
      "image/png": "[encoded data removed]",
      "text/plain": [
       "<Figure size 640x480 with 1 Axes>"
      ]
     },
     "metadata": {},
     "output_type": "display_data"
    }
   ],
   "source": [
    "plt.hist(df_combined['Filling Time'], color='blue', bins=100)"
   ]
  },
  {
   "cell_type": "markdown",
   "metadata": {},
   "source": [
    "### Split Training and Test Sets"
   ]
  },
  {
   "cell_type": "code",
   "execution_count": 16,
   "metadata": {},
   "outputs": [
    {
     "data": {
      "text/plain": [
       "TIME_STAMP\n",
       "09-28-22 11:43:46    1\n",
       "09-28-22 11:44:06    1\n",
       "09-28-22 11:44:26    1\n",
       "09-28-22 11:44:46    1\n",
       "09-28-22 11:45:06    1\n",
       "                    ..\n",
       "10-07-22 9:58:29     0\n",
       "10-07-22 9:58:49     0\n",
       "10-07-22 9:59:09     0\n",
       "10-07-22 9:59:29     0\n",
       "10-07-22 9:59:49     0\n",
       "Name: Flag, Length: 19773, dtype: int64"
      ]
     },
     "execution_count": 16,
     "metadata": {},
     "output_type": "execute_result"
    }
   ],
   "source": [
    "Y_set = df_combined['Flag']\n",
    "Y_set"
   ]
  },
  {
   "cell_type": "code",
   "execution_count": 17,
   "metadata": {},
   "outputs": [
    {
     "data": {
      "text/html": [
       "<div>\n",
       "<style scoped>\n",
       "    .dataframe tbody tr th:only-of-type {\n",
       "        vertical-align: middle;\n",
       "    }\n",
       "\n",
       "    .dataframe tbody tr th {\n",
       "        vertical-align: top;\n",
       "    }\n",
       "\n",
       "    .dataframe thead th {\n",
       "        text-align: right;\n",
       "    }\n",
       "</style>\n",
       "<table border=\"1\" class=\"dataframe\">\n",
       "  <thead>\n",
       "    <tr style=\"text-align: right;\">\n",
       "      <th>CAPAB_NAME</th>\n",
       "      <th>Barrel Temp Zone 1</th>\n",
       "      <th>Barrel Temp Zone 2</th>\n",
       "      <th>Barrel Temp Zone 3</th>\n",
       "      <th>Barrel Temp Zone 4</th>\n",
       "      <th>Barrel Temp Zone 5</th>\n",
       "      <th>Clamp Tonnage After Hold</th>\n",
       "      <th>Cooling Time</th>\n",
       "      <th>Cycle Time</th>\n",
       "      <th>Dose Time</th>\n",
       "      <th>Ejector Ejection Position</th>\n",
       "      <th>Ejector Ejection Speed</th>\n",
       "      <th>Filling Peak Pressure</th>\n",
       "      <th>Filling Time</th>\n",
       "      <th>Injection Speed</th>\n",
       "      <th>Min Cushion Position</th>\n",
       "      <th>Pack Pressure</th>\n",
       "    </tr>\n",
       "    <tr>\n",
       "      <th>TIME_STAMP</th>\n",
       "      <th></th>\n",
       "      <th></th>\n",
       "      <th></th>\n",
       "      <th></th>\n",
       "      <th></th>\n",
       "      <th></th>\n",
       "      <th></th>\n",
       "      <th></th>\n",
       "      <th></th>\n",
       "      <th></th>\n",
       "      <th></th>\n",
       "      <th></th>\n",
       "      <th></th>\n",
       "      <th></th>\n",
       "      <th></th>\n",
       "      <th></th>\n",
       "    </tr>\n",
       "  </thead>\n",
       "  <tbody>\n",
       "    <tr>\n",
       "      <th>09-28-22 11:43:46</th>\n",
       "      <td>281.66</td>\n",
       "      <td>399.92</td>\n",
       "      <td>399.92</td>\n",
       "      <td>399.92</td>\n",
       "      <td>399.56</td>\n",
       "      <td>-0.088998</td>\n",
       "      <td>20.0</td>\n",
       "      <td>39.776</td>\n",
       "      <td>7.312</td>\n",
       "      <td>2.599996</td>\n",
       "      <td>15.0</td>\n",
       "      <td>1143.474392</td>\n",
       "      <td>0.761</td>\n",
       "      <td>1.2</td>\n",
       "      <td>0.000000</td>\n",
       "      <td>7863.406449</td>\n",
       "    </tr>\n",
       "    <tr>\n",
       "      <th>09-28-22 11:44:06</th>\n",
       "      <td>281.66</td>\n",
       "      <td>399.92</td>\n",
       "      <td>399.92</td>\n",
       "      <td>399.92</td>\n",
       "      <td>399.92</td>\n",
       "      <td>-0.088998</td>\n",
       "      <td>20.0</td>\n",
       "      <td>39.776</td>\n",
       "      <td>7.312</td>\n",
       "      <td>2.599996</td>\n",
       "      <td>15.0</td>\n",
       "      <td>1143.474392</td>\n",
       "      <td>0.761</td>\n",
       "      <td>1.2</td>\n",
       "      <td>0.000000</td>\n",
       "      <td>7863.406449</td>\n",
       "    </tr>\n",
       "    <tr>\n",
       "      <th>09-28-22 11:44:26</th>\n",
       "      <td>281.66</td>\n",
       "      <td>399.92</td>\n",
       "      <td>399.92</td>\n",
       "      <td>399.92</td>\n",
       "      <td>399.92</td>\n",
       "      <td>-0.088998</td>\n",
       "      <td>20.0</td>\n",
       "      <td>39.776</td>\n",
       "      <td>7.312</td>\n",
       "      <td>2.599996</td>\n",
       "      <td>15.0</td>\n",
       "      <td>1143.474392</td>\n",
       "      <td>0.761</td>\n",
       "      <td>1.2</td>\n",
       "      <td>0.000000</td>\n",
       "      <td>7863.406449</td>\n",
       "    </tr>\n",
       "    <tr>\n",
       "      <th>09-28-22 11:44:46</th>\n",
       "      <td>281.66</td>\n",
       "      <td>399.92</td>\n",
       "      <td>399.92</td>\n",
       "      <td>399.92</td>\n",
       "      <td>399.92</td>\n",
       "      <td>-0.088998</td>\n",
       "      <td>20.0</td>\n",
       "      <td>39.776</td>\n",
       "      <td>7.312</td>\n",
       "      <td>2.599996</td>\n",
       "      <td>15.0</td>\n",
       "      <td>1143.474392</td>\n",
       "      <td>0.761</td>\n",
       "      <td>1.2</td>\n",
       "      <td>0.000000</td>\n",
       "      <td>7863.406449</td>\n",
       "    </tr>\n",
       "    <tr>\n",
       "      <th>09-28-22 11:45:06</th>\n",
       "      <td>281.84</td>\n",
       "      <td>399.92</td>\n",
       "      <td>399.92</td>\n",
       "      <td>399.92</td>\n",
       "      <td>399.74</td>\n",
       "      <td>-0.088998</td>\n",
       "      <td>20.0</td>\n",
       "      <td>39.776</td>\n",
       "      <td>7.312</td>\n",
       "      <td>2.599996</td>\n",
       "      <td>15.0</td>\n",
       "      <td>1143.474392</td>\n",
       "      <td>0.761</td>\n",
       "      <td>1.2</td>\n",
       "      <td>0.000000</td>\n",
       "      <td>7863.406449</td>\n",
       "    </tr>\n",
       "    <tr>\n",
       "      <th>...</th>\n",
       "      <td>...</td>\n",
       "      <td>...</td>\n",
       "      <td>...</td>\n",
       "      <td>...</td>\n",
       "      <td>...</td>\n",
       "      <td>...</td>\n",
       "      <td>...</td>\n",
       "      <td>...</td>\n",
       "      <td>...</td>\n",
       "      <td>...</td>\n",
       "      <td>...</td>\n",
       "      <td>...</td>\n",
       "      <td>...</td>\n",
       "      <td>...</td>\n",
       "      <td>...</td>\n",
       "      <td>...</td>\n",
       "    </tr>\n",
       "    <tr>\n",
       "      <th>10-07-22 9:58:29</th>\n",
       "      <td>499.46</td>\n",
       "      <td>499.82</td>\n",
       "      <td>509.72</td>\n",
       "      <td>519.98</td>\n",
       "      <td>509.72</td>\n",
       "      <td>76.522035</td>\n",
       "      <td>6.5</td>\n",
       "      <td>22.968</td>\n",
       "      <td>5.464</td>\n",
       "      <td>1.900000</td>\n",
       "      <td>25.0</td>\n",
       "      <td>9817.246837</td>\n",
       "      <td>1.715</td>\n",
       "      <td>1.5</td>\n",
       "      <td>0.193772</td>\n",
       "      <td>9820.351187</td>\n",
       "    </tr>\n",
       "    <tr>\n",
       "      <th>10-07-22 9:58:49</th>\n",
       "      <td>500.18</td>\n",
       "      <td>499.82</td>\n",
       "      <td>509.72</td>\n",
       "      <td>519.98</td>\n",
       "      <td>509.72</td>\n",
       "      <td>76.433038</td>\n",
       "      <td>6.5</td>\n",
       "      <td>22.968</td>\n",
       "      <td>5.464</td>\n",
       "      <td>1.900000</td>\n",
       "      <td>25.0</td>\n",
       "      <td>9823.455537</td>\n",
       "      <td>1.714</td>\n",
       "      <td>1.5</td>\n",
       "      <td>0.194157</td>\n",
       "      <td>9823.455537</td>\n",
       "    </tr>\n",
       "    <tr>\n",
       "      <th>10-07-22 9:59:09</th>\n",
       "      <td>500.18</td>\n",
       "      <td>499.82</td>\n",
       "      <td>509.90</td>\n",
       "      <td>519.98</td>\n",
       "      <td>510.08</td>\n",
       "      <td>76.433038</td>\n",
       "      <td>6.5</td>\n",
       "      <td>22.968</td>\n",
       "      <td>5.464</td>\n",
       "      <td>1.900000</td>\n",
       "      <td>25.0</td>\n",
       "      <td>9823.455537</td>\n",
       "      <td>1.714</td>\n",
       "      <td>1.5</td>\n",
       "      <td>0.194157</td>\n",
       "      <td>9823.455537</td>\n",
       "    </tr>\n",
       "    <tr>\n",
       "      <th>10-07-22 9:59:29</th>\n",
       "      <td>500.18</td>\n",
       "      <td>499.82</td>\n",
       "      <td>509.90</td>\n",
       "      <td>519.98</td>\n",
       "      <td>510.08</td>\n",
       "      <td>76.433038</td>\n",
       "      <td>6.5</td>\n",
       "      <td>22.968</td>\n",
       "      <td>5.448</td>\n",
       "      <td>1.900000</td>\n",
       "      <td>25.0</td>\n",
       "      <td>9823.455537</td>\n",
       "      <td>1.714</td>\n",
       "      <td>1.5</td>\n",
       "      <td>0.194157</td>\n",
       "      <td>9823.455537</td>\n",
       "    </tr>\n",
       "    <tr>\n",
       "      <th>10-07-22 9:59:49</th>\n",
       "      <td>500.00</td>\n",
       "      <td>500.00</td>\n",
       "      <td>509.90</td>\n",
       "      <td>519.98</td>\n",
       "      <td>510.08</td>\n",
       "      <td>76.505853</td>\n",
       "      <td>6.5</td>\n",
       "      <td>22.968</td>\n",
       "      <td>5.448</td>\n",
       "      <td>1.900000</td>\n",
       "      <td>25.0</td>\n",
       "      <td>9938.113412</td>\n",
       "      <td>1.715</td>\n",
       "      <td>1.5</td>\n",
       "      <td>0.194543</td>\n",
       "      <td>9942.755431</td>\n",
       "    </tr>\n",
       "  </tbody>\n",
       "</table>\n",
       "<p>19773 rows × 16 columns</p>\n",
       "</div>"
      ],
      "text/plain": [
       "CAPAB_NAME         Barrel Temp Zone 1  Barrel Temp Zone 2  Barrel Temp Zone 3  \\\n",
       "TIME_STAMP                                                                      \n",
       "09-28-22 11:43:46              281.66              399.92              399.92   \n",
       "09-28-22 11:44:06              281.66              399.92              399.92   \n",
       "09-28-22 11:44:26              281.66              399.92              399.92   \n",
       "09-28-22 11:44:46              281.66              399.92              399.92   \n",
       "09-28-22 11:45:06              281.84              399.92              399.92   \n",
       "...                               ...                 ...                 ...   \n",
       "10-07-22 9:58:29               499.46              499.82              509.72   \n",
       "10-07-22 9:58:49               500.18              499.82              509.72   \n",
       "10-07-22 9:59:09               500.18              499.82              509.90   \n",
       "10-07-22 9:59:29               500.18              499.82              509.90   \n",
       "10-07-22 9:59:49               500.00              500.00              509.90   \n",
       "\n",
       "CAPAB_NAME         Barrel Temp Zone 4  Barrel Temp Zone 5  \\\n",
       "TIME_STAMP                                                  \n",
       "09-28-22 11:43:46              399.92              399.56   \n",
       "09-28-22 11:44:06              399.92              399.92   \n",
       "09-28-22 11:44:26              399.92              399.92   \n",
       "09-28-22 11:44:46              399.92              399.92   \n",
       "09-28-22 11:45:06              399.92              399.74   \n",
       "...                               ...                 ...   \n",
       "10-07-22 9:58:29               519.98              509.72   \n",
       "10-07-22 9:58:49               519.98              509.72   \n",
       "10-07-22 9:59:09               519.98              510.08   \n",
       "10-07-22 9:59:29               519.98              510.08   \n",
       "10-07-22 9:59:49               519.98              510.08   \n",
       "\n",
       "CAPAB_NAME         Clamp Tonnage After Hold  Cooling Time  Cycle Time  \\\n",
       "TIME_STAMP                                                              \n",
       "09-28-22 11:43:46                 -0.088998          20.0      39.776   \n",
       "09-28-22 11:44:06                 -0.088998          20.0      39.776   \n",
       "09-28-22 11:44:26                 -0.088998          20.0      39.776   \n",
       "09-28-22 11:44:46                 -0.088998          20.0      39.776   \n",
       "09-28-22 11:45:06                 -0.088998          20.0      39.776   \n",
       "...                                     ...           ...         ...   \n",
       "10-07-22 9:58:29                  76.522035           6.5      22.968   \n",
       "10-07-22 9:58:49                  76.433038           6.5      22.968   \n",
       "10-07-22 9:59:09                  76.433038           6.5      22.968   \n",
       "10-07-22 9:59:29                  76.433038           6.5      22.968   \n",
       "10-07-22 9:59:49                  76.505853           6.5      22.968   \n",
       "\n",
       "CAPAB_NAME         Dose Time  Ejector Ejection Position  \\\n",
       "TIME_STAMP                                                \n",
       "09-28-22 11:43:46      7.312                   2.599996   \n",
       "09-28-22 11:44:06      7.312                   2.599996   \n",
       "09-28-22 11:44:26      7.312                   2.599996   \n",
       "09-28-22 11:44:46      7.312                   2.599996   \n",
       "09-28-22 11:45:06      7.312                   2.599996   \n",
       "...                      ...                        ...   \n",
       "10-07-22 9:58:29       5.464                   1.900000   \n",
       "10-07-22 9:58:49       5.464                   1.900000   \n",
       "10-07-22 9:59:09       5.464                   1.900000   \n",
       "10-07-22 9:59:29       5.448                   1.900000   \n",
       "10-07-22 9:59:49       5.448                   1.900000   \n",
       "\n",
       "CAPAB_NAME         Ejector Ejection Speed  Filling Peak Pressure  \\\n",
       "TIME_STAMP                                                         \n",
       "09-28-22 11:43:46                    15.0            1143.474392   \n",
       "09-28-22 11:44:06                    15.0            1143.474392   \n",
       "09-28-22 11:44:26                    15.0            1143.474392   \n",
       "09-28-22 11:44:46                    15.0            1143.474392   \n",
       "09-28-22 11:45:06                    15.0            1143.474392   \n",
       "...                                   ...                    ...   \n",
       "10-07-22 9:58:29                     25.0            9817.246837   \n",
       "10-07-22 9:58:49                     25.0            9823.455537   \n",
       "10-07-22 9:59:09                     25.0            9823.455537   \n",
       "10-07-22 9:59:29                     25.0            9823.455537   \n",
       "10-07-22 9:59:49                     25.0            9938.113412   \n",
       "\n",
       "CAPAB_NAME         Filling Time  Injection Speed  Min Cushion Position  \\\n",
       "TIME_STAMP                                                               \n",
       "09-28-22 11:43:46         0.761              1.2              0.000000   \n",
       "09-28-22 11:44:06         0.761              1.2              0.000000   \n",
       "09-28-22 11:44:26         0.761              1.2              0.000000   \n",
       "09-28-22 11:44:46         0.761              1.2              0.000000   \n",
       "09-28-22 11:45:06         0.761              1.2              0.000000   \n",
       "...                         ...              ...                   ...   \n",
       "10-07-22 9:58:29          1.715              1.5              0.193772   \n",
       "10-07-22 9:58:49          1.714              1.5              0.194157   \n",
       "10-07-22 9:59:09          1.714              1.5              0.194157   \n",
       "10-07-22 9:59:29          1.714              1.5              0.194157   \n",
       "10-07-22 9:59:49          1.715              1.5              0.194543   \n",
       "\n",
       "CAPAB_NAME         Pack Pressure  \n",
       "TIME_STAMP                        \n",
       "09-28-22 11:43:46    7863.406449  \n",
       "09-28-22 11:44:06    7863.406449  \n",
       "09-28-22 11:44:26    7863.406449  \n",
       "09-28-22 11:44:46    7863.406449  \n",
       "09-28-22 11:45:06    7863.406449  \n",
       "...                          ...  \n",
       "10-07-22 9:58:29     9820.351187  \n",
       "10-07-22 9:58:49     9823.455537  \n",
       "10-07-22 9:59:09     9823.455537  \n",
       "10-07-22 9:59:29     9823.455537  \n",
       "10-07-22 9:59:49     9942.755431  \n",
       "\n",
       "[19773 rows x 16 columns]"
      ]
     },
     "execution_count": 17,
     "metadata": {},
     "output_type": "execute_result"
    }
   ],
   "source": [
    "X_set = df_combined.drop(['Flag'], axis=1)\n",
    "X_set"
   ]
  },
  {
   "cell_type": "code",
   "execution_count": 18,
   "metadata": {},
   "outputs": [],
   "source": [
    "from sklearn.model_selection import train_test_split\n",
    "\n",
    "X_train, X_test, y_train, y_test = train_test_split(X_set,Y_set, test_size=0.2, stratify=Y_set,random_state=42)"
   ]
  },
  {
   "cell_type": "markdown",
   "metadata": {},
   "source": [
    "#### Check Stratified Proportions"
   ]
  },
  {
   "cell_type": "code",
   "execution_count": 19,
   "metadata": {},
   "outputs": [
    {
     "data": {
      "text/plain": [
       "0    0.533404\n",
       "1    0.466596\n",
       "Name: Flag, dtype: float64"
      ]
     },
     "execution_count": 19,
     "metadata": {},
     "output_type": "execute_result"
    }
   ],
   "source": [
    "real_proportion = df_combined['Flag'].value_counts() / df_combined['Flag'].size\n",
    "real_proportion"
   ]
  },
  {
   "cell_type": "code",
   "execution_count": 20,
   "metadata": {},
   "outputs": [
    {
     "data": {
      "text/plain": [
       "0    0.53338\n",
       "1    0.46662\n",
       "Name: Flag, dtype: float64"
      ]
     },
     "execution_count": 20,
     "metadata": {},
     "output_type": "execute_result"
    }
   ],
   "source": [
    "train_proportion = y_train.value_counts() / y_train.size\n",
    "train_proportion"
   ]
  },
  {
   "cell_type": "code",
   "execution_count": 21,
   "metadata": {},
   "outputs": [
    {
     "data": {
      "text/plain": [
       "0    0.533502\n",
       "1    0.466498\n",
       "Name: Flag, dtype: float64"
      ]
     },
     "execution_count": 21,
     "metadata": {},
     "output_type": "execute_result"
    }
   ],
   "source": [
    "test_proportion = y_test.value_counts() / y_test.size\n",
    "test_proportion"
   ]
  },
  {
   "cell_type": "markdown",
   "metadata": {},
   "source": [
    "Proportions in all test and training sets are equal - the stratified splitter did its job!"
   ]
  },
  {
   "cell_type": "markdown",
   "metadata": {},
   "source": [
    "### Classification Models"
   ]
  },
  {
   "cell_type": "markdown",
   "metadata": {},
   "source": [
    "#### Simple Logistic Regression"
   ]
  },
  {
   "cell_type": "code",
   "execution_count": 33,
   "metadata": {},
   "outputs": [],
   "source": [
    "from sklearn.linear_model import LogisticRegression\n",
    "model1 = LogisticRegression(max_iter=1000)"
   ]
  },
  {
   "cell_type": "code",
   "execution_count": 34,
   "metadata": {},
   "outputs": [
    {
     "data": {
      "text/html": [
       "<style>#sk-container-id-2 {color: black;background-color: white;}#sk-container-id-2 pre{padding: 0;}#sk-container-id-2 div.sk-toggleable {background-color: white;}#sk-container-id-2 label.sk-toggleable__label {cursor: pointer;display: block;width: 100%;margin-bottom: 0;padding: 0.3em;box-sizing: border-box;text-align: center;}#sk-container-id-2 label.sk-toggleable__label-arrow:before {content: \"▸\";float: left;margin-right: 0.25em;color: #696969;}#sk-container-id-2 label.sk-toggleable__label-arrow:hover:before {color: black;}#sk-container-id-2 div.sk-estimator:hover label.sk-toggleable__label-arrow:before {color: black;}#sk-container-id-2 div.sk-toggleable__content {max-height: 0;max-width: 0;overflow: hidden;text-align: left;background-color: #f0f8ff;}#sk-container-id-2 div.sk-toggleable__content pre {margin: 0.2em;color: black;border-radius: 0.25em;background-color: #f0f8ff;}#sk-container-id-2 input.sk-toggleable__control:checked~div.sk-toggleable__content {max-height: 200px;max-width: 100%;overflow: auto;}#sk-container-id-2 input.sk-toggleable__control:checked~label.sk-toggleable__label-arrow:before {content: \"▾\";}#sk-container-id-2 div.sk-estimator input.sk-toggleable__control:checked~label.sk-toggleable__label {background-color: #d4ebff;}#sk-container-id-2 div.sk-label input.sk-toggleable__control:checked~label.sk-toggleable__label {background-color: #d4ebff;}#sk-container-id-2 input.sk-hidden--visually {border: 0;clip: rect(1px 1px 1px 1px);clip: rect(1px, 1px, 1px, 1px);height: 1px;margin: -1px;overflow: hidden;padding: 0;position: absolute;width: 1px;}#sk-container-id-2 div.sk-estimator {font-family: monospace;background-color: #f0f8ff;border: 1px dotted black;border-radius: 0.25em;box-sizing: border-box;margin-bottom: 0.5em;}#sk-container-id-2 div.sk-estimator:hover {background-color: #d4ebff;}#sk-container-id-2 div.sk-parallel-item::after {content: \"\";width: 100%;border-bottom: 1px solid gray;flex-grow: 1;}#sk-container-id-2 div.sk-label:hover label.sk-toggleable__label {background-color: #d4ebff;}#sk-container-id-2 div.sk-serial::before {content: \"\";position: absolute;border-left: 1px solid gray;box-sizing: border-box;top: 0;bottom: 0;left: 50%;z-index: 0;}#sk-container-id-2 div.sk-serial {display: flex;flex-direction: column;align-items: center;background-color: white;padding-right: 0.2em;padding-left: 0.2em;position: relative;}#sk-container-id-2 div.sk-item {position: relative;z-index: 1;}#sk-container-id-2 div.sk-parallel {display: flex;align-items: stretch;justify-content: center;background-color: white;position: relative;}#sk-container-id-2 div.sk-item::before, #sk-container-id-2 div.sk-parallel-item::before {content: \"\";position: absolute;border-left: 1px solid gray;box-sizing: border-box;top: 0;bottom: 0;left: 50%;z-index: -1;}#sk-container-id-2 div.sk-parallel-item {display: flex;flex-direction: column;z-index: 1;position: relative;background-color: white;}#sk-container-id-2 div.sk-parallel-item:first-child::after {align-self: flex-end;width: 50%;}#sk-container-id-2 div.sk-parallel-item:last-child::after {align-self: flex-start;width: 50%;}#sk-container-id-2 div.sk-parallel-item:only-child::after {width: 0;}#sk-container-id-2 div.sk-dashed-wrapped {border: 1px dashed gray;margin: 0 0.4em 0.5em 0.4em;box-sizing: border-box;padding-bottom: 0.4em;background-color: white;}#sk-container-id-2 div.sk-label label {font-family: monospace;font-weight: bold;display: inline-block;line-height: 1.2em;}#sk-container-id-2 div.sk-label-container {text-align: center;}#sk-container-id-2 div.sk-container {/* jupyter's `normalize.less` sets `[hidden] { display: none; }` but bootstrap.min.css set `[hidden] { display: none !important; }` so we also need the `!important` here to be able to override the default hidden behavior on the sphinx rendered scikit-learn.org. See: https://github.com/scikit-learn/scikit-learn/issues/21755 */display: inline-block !important;position: relative;}#sk-container-id-2 div.sk-text-repr-fallback {display: none;}</style><div id=\"sk-container-id-2\" class=\"sk-top-container\"><div class=\"sk-text-repr-fallback\"><pre>LogisticRegression(max_iter=1000)</pre><b>In a Jupyter environment, please rerun this cell to show the HTML representation or trust the notebook. <br />On GitHub, the HTML representation is unable to render, please try loading this page with nbviewer.org.</b></div><div class=\"sk-container\" hidden><div class=\"sk-item\"><div class=\"sk-estimator sk-toggleable\"><input class=\"sk-toggleable__control sk-hidden--visually\" id=\"sk-estimator-id-2\" type=\"checkbox\" checked><label for=\"sk-estimator-id-2\" class=\"sk-toggleable__label sk-toggleable__label-arrow\">LogisticRegression</label><div class=\"sk-toggleable__content\"><pre>LogisticRegression(max_iter=1000)</pre></div></div></div></div></div>"
      ],
      "text/plain": [
       "LogisticRegression(max_iter=1000)"
      ]
     },
     "execution_count": 34,
     "metadata": {},
     "output_type": "execute_result"
    }
   ],
   "source": [
    "model1.fit(X_train, y_train)"
   ]
  },
  {
   "cell_type": "code",
   "execution_count": 35,
   "metadata": {},
   "outputs": [],
   "source": [
    "y_predicted = model1.predict(X_test)"
   ]
  },
  {
   "cell_type": "code",
   "execution_count": 36,
   "metadata": {},
   "outputs": [
    {
     "data": {
      "text/plain": [
       "0.870290771175727"
      ]
     },
     "execution_count": 36,
     "metadata": {},
     "output_type": "execute_result"
    }
   ],
   "source": [
    "model1.score(X_test, y_test)"
   ]
  },
  {
   "cell_type": "markdown",
   "metadata": {},
   "source": [
    "##### Confusion Matrix for Logistic Regression"
   ]
  },
  {
   "cell_type": "code",
   "execution_count": 37,
   "metadata": {},
   "outputs": [
    {
     "data": {
      "text/plain": [
       "array([[1952,  158],\n",
       "       [ 355, 1490]])"
      ]
     },
     "execution_count": 37,
     "metadata": {},
     "output_type": "execute_result"
    }
   ],
   "source": [
    "from sklearn.metrics import confusion_matrix\n",
    "\n",
    "confusion_matrix(y_test, y_predicted)"
   ]
  },
  {
   "cell_type": "code",
   "execution_count": 49,
   "metadata": {},
   "outputs": [
    {
     "data": {
      "text/plain": [
       "array([0.49355247, 0.37673831, 0.0897598 , 0.03994943])"
      ]
     },
     "execution_count": 49,
     "metadata": {},
     "output_type": "execute_result"
    }
   ],
   "source": [
    "# Checking proportions\n",
    "\n",
    "import numpy\n",
    "\n",
    "total = (1952 + 158 + 355 + 1490)\n",
    "T_Neg = 1952 / total\n",
    "T_Pos = 1490 / total\n",
    "F_Neg = 355 / total\n",
    "F_Pos = 158 / total\n",
    "\n",
    "A = numpy.array([T_Neg, T_Pos, F_Neg, F_Pos])\n",
    "A"
   ]
  },
  {
   "cell_type": "markdown",
   "metadata": {},
   "source": [
    "##### Precision and Recall for Logistic Regression"
   ]
  },
  {
   "cell_type": "code",
   "execution_count": 39,
   "metadata": {},
   "outputs": [
    {
     "data": {
      "text/plain": [
       "0.904126213592233"
      ]
     },
     "execution_count": 39,
     "metadata": {},
     "output_type": "execute_result"
    }
   ],
   "source": [
    "from sklearn.metrics import precision_score, recall_score\n",
    "\n",
    "precision_score(y_test, y_predicted)"
   ]
  },
  {
   "cell_type": "code",
   "execution_count": 41,
   "metadata": {},
   "outputs": [
    {
     "data": {
      "text/plain": [
       "0.8075880758807588"
      ]
     },
     "execution_count": 41,
     "metadata": {},
     "output_type": "execute_result"
    }
   ],
   "source": [
    "recall_score(y_test, y_predicted)"
   ]
  },
  {
   "cell_type": "markdown",
   "metadata": {},
   "source": [
    "##### Cross Validation for Simple Logistic Regression"
   ]
  },
  {
   "cell_type": "code",
   "execution_count": 47,
   "metadata": {},
   "outputs": [],
   "source": [
    "from sklearn.model_selection import cross_val_score\n",
    "LR_score = cross_val_score(model1, X_train, y_train, cv=10)\n",
    "tree_rmse_scores_LR = np.sqrt(LR_score)"
   ]
  },
  {
   "cell_type": "code",
   "execution_count": 48,
   "metadata": {},
   "outputs": [
    {
     "name": "stdout",
     "output_type": "stream",
     "text": [
      "Score: [0.93228374 0.91067555 0.94105678 0.89315419 0.9113694  0.9336388\n",
      " 0.92102839 0.90859083 0.91546555 0.93223935]\n",
      "Mean: 0.9199502581754949\n",
      "Standard deviation: 0.014014244725350183\n"
     ]
    }
   ],
   "source": [
    "def display_scores(LR_score):\n",
    "    print(\"Score:\", LR_score)\n",
    "    print(\"Mean:\", LR_score.mean())\n",
    "    print(\"Standard deviation:\", LR_score.std())\n",
    "display_scores(tree_rmse_scores_LR)"
   ]
  },
  {
   "cell_type": "markdown",
   "metadata": {},
   "source": [
    "#### SGD Classifier"
   ]
  },
  {
   "cell_type": "code",
   "execution_count": 62,
   "metadata": {},
   "outputs": [
    {
     "data": {
      "text/html": [
       "<style>#sk-container-id-4 {color: black;background-color: white;}#sk-container-id-4 pre{padding: 0;}#sk-container-id-4 div.sk-toggleable {background-color: white;}#sk-container-id-4 label.sk-toggleable__label {cursor: pointer;display: block;width: 100%;margin-bottom: 0;padding: 0.3em;box-sizing: border-box;text-align: center;}#sk-container-id-4 label.sk-toggleable__label-arrow:before {content: \"▸\";float: left;margin-right: 0.25em;color: #696969;}#sk-container-id-4 label.sk-toggleable__label-arrow:hover:before {color: black;}#sk-container-id-4 div.sk-estimator:hover label.sk-toggleable__label-arrow:before {color: black;}#sk-container-id-4 div.sk-toggleable__content {max-height: 0;max-width: 0;overflow: hidden;text-align: left;background-color: #f0f8ff;}#sk-container-id-4 div.sk-toggleable__content pre {margin: 0.2em;color: black;border-radius: 0.25em;background-color: #f0f8ff;}#sk-container-id-4 input.sk-toggleable__control:checked~div.sk-toggleable__content {max-height: 200px;max-width: 100%;overflow: auto;}#sk-container-id-4 input.sk-toggleable__control:checked~label.sk-toggleable__label-arrow:before {content: \"▾\";}#sk-container-id-4 div.sk-estimator input.sk-toggleable__control:checked~label.sk-toggleable__label {background-color: #d4ebff;}#sk-container-id-4 div.sk-label input.sk-toggleable__control:checked~label.sk-toggleable__label {background-color: #d4ebff;}#sk-container-id-4 input.sk-hidden--visually {border: 0;clip: rect(1px 1px 1px 1px);clip: rect(1px, 1px, 1px, 1px);height: 1px;margin: -1px;overflow: hidden;padding: 0;position: absolute;width: 1px;}#sk-container-id-4 div.sk-estimator {font-family: monospace;background-color: #f0f8ff;border: 1px dotted black;border-radius: 0.25em;box-sizing: border-box;margin-bottom: 0.5em;}#sk-container-id-4 div.sk-estimator:hover {background-color: #d4ebff;}#sk-container-id-4 div.sk-parallel-item::after {content: \"\";width: 100%;border-bottom: 1px solid gray;flex-grow: 1;}#sk-container-id-4 div.sk-label:hover label.sk-toggleable__label {background-color: #d4ebff;}#sk-container-id-4 div.sk-serial::before {content: \"\";position: absolute;border-left: 1px solid gray;box-sizing: border-box;top: 0;bottom: 0;left: 50%;z-index: 0;}#sk-container-id-4 div.sk-serial {display: flex;flex-direction: column;align-items: center;background-color: white;padding-right: 0.2em;padding-left: 0.2em;position: relative;}#sk-container-id-4 div.sk-item {position: relative;z-index: 1;}#sk-container-id-4 div.sk-parallel {display: flex;align-items: stretch;justify-content: center;background-color: white;position: relative;}#sk-container-id-4 div.sk-item::before, #sk-container-id-4 div.sk-parallel-item::before {content: \"\";position: absolute;border-left: 1px solid gray;box-sizing: border-box;top: 0;bottom: 0;left: 50%;z-index: -1;}#sk-container-id-4 div.sk-parallel-item {display: flex;flex-direction: column;z-index: 1;position: relative;background-color: white;}#sk-container-id-4 div.sk-parallel-item:first-child::after {align-self: flex-end;width: 50%;}#sk-container-id-4 div.sk-parallel-item:last-child::after {align-self: flex-start;width: 50%;}#sk-container-id-4 div.sk-parallel-item:only-child::after {width: 0;}#sk-container-id-4 div.sk-dashed-wrapped {border: 1px dashed gray;margin: 0 0.4em 0.5em 0.4em;box-sizing: border-box;padding-bottom: 0.4em;background-color: white;}#sk-container-id-4 div.sk-label label {font-family: monospace;font-weight: bold;display: inline-block;line-height: 1.2em;}#sk-container-id-4 div.sk-label-container {text-align: center;}#sk-container-id-4 div.sk-container {/* jupyter's `normalize.less` sets `[hidden] { display: none; }` but bootstrap.min.css set `[hidden] { display: none !important; }` so we also need the `!important` here to be able to override the default hidden behavior on the sphinx rendered scikit-learn.org. See: https://github.com/scikit-learn/scikit-learn/issues/21755 */display: inline-block !important;position: relative;}#sk-container-id-4 div.sk-text-repr-fallback {display: none;}</style><div id=\"sk-container-id-4\" class=\"sk-top-container\"><div class=\"sk-text-repr-fallback\"><pre>SGDClassifier(random_state=42)</pre><b>In a Jupyter environment, please rerun this cell to show the HTML representation or trust the notebook. <br />On GitHub, the HTML representation is unable to render, please try loading this page with nbviewer.org.</b></div><div class=\"sk-container\" hidden><div class=\"sk-item\"><div class=\"sk-estimator sk-toggleable\"><input class=\"sk-toggleable__control sk-hidden--visually\" id=\"sk-estimator-id-4\" type=\"checkbox\" checked><label for=\"sk-estimator-id-4\" class=\"sk-toggleable__label sk-toggleable__label-arrow\">SGDClassifier</label><div class=\"sk-toggleable__content\"><pre>SGDClassifier(random_state=42)</pre></div></div></div></div></div>"
      ],
      "text/plain": [
       "SGDClassifier(random_state=42)"
      ]
     },
     "execution_count": 62,
     "metadata": {},
     "output_type": "execute_result"
    }
   ],
   "source": [
    "from sklearn.linear_model import SGDClassifier\n",
    "\n",
    "sgd_clf = SGDClassifier(max_iter=1000, tol=1e-3, random_state=42)\n",
    "sgd_clf.fit(X_train, y_train)"
   ]
  },
  {
   "cell_type": "code",
   "execution_count": 63,
   "metadata": {},
   "outputs": [
    {
     "data": {
      "text/plain": [
       "0.7352718078381795"
      ]
     },
     "execution_count": 63,
     "metadata": {},
     "output_type": "execute_result"
    }
   ],
   "source": [
    "y_predicted_sgd = sgd_clf.predict(X_test)\n",
    "sgd_clf.score(X_test, y_test)"
   ]
  },
  {
   "cell_type": "markdown",
   "metadata": {},
   "source": [
    "##### Confusion Matrix for SGD Classifier"
   ]
  },
  {
   "cell_type": "code",
   "execution_count": 53,
   "metadata": {},
   "outputs": [
    {
     "data": {
      "text/plain": [
       "array([[1583,  527],\n",
       "       [ 520, 1325]])"
      ]
     },
     "execution_count": 53,
     "metadata": {},
     "output_type": "execute_result"
    }
   ],
   "source": [
    "confusion_matrix(y_test, y_predicted_sgd)"
   ]
  },
  {
   "cell_type": "markdown",
   "metadata": {},
   "source": [
    "##### Precision and Recall for SGD Classifier"
   ]
  },
  {
   "cell_type": "code",
   "execution_count": 54,
   "metadata": {},
   "outputs": [
    {
     "data": {
      "text/plain": [
       "0.7154427645788337"
      ]
     },
     "execution_count": 54,
     "metadata": {},
     "output_type": "execute_result"
    }
   ],
   "source": [
    "precision_score(y_test, y_predicted_sgd)"
   ]
  },
  {
   "cell_type": "code",
   "execution_count": 55,
   "metadata": {},
   "outputs": [
    {
     "data": {
      "text/plain": [
       "0.7181571815718157"
      ]
     },
     "execution_count": 55,
     "metadata": {},
     "output_type": "execute_result"
    }
   ],
   "source": [
    "recall_score(y_test, y_predicted_sgd)"
   ]
  },
  {
   "cell_type": "markdown",
   "metadata": {},
   "source": [
    "##### Cross Validation for SGD Classifier"
   ]
  },
  {
   "cell_type": "code",
   "execution_count": 60,
   "metadata": {},
   "outputs": [],
   "source": [
    "SGD_score = cross_val_score(sgd_clf, X_train, y_train, cv=10)\n",
    "tree_rmse_scores_SGD = np.sqrt(SGD_score)"
   ]
  },
  {
   "cell_type": "code",
   "execution_count": 61,
   "metadata": {},
   "outputs": [
    {
     "name": "stdout",
     "output_type": "stream",
     "text": [
      "Score: [0.86255141 0.85519163 0.847022   0.78706355 0.88676175 0.85222992\n",
      " 0.76631022 0.78344114 0.77271628 0.79808436]\n",
      "Mean: 0.8211372255197091\n",
      "Standard deviation: 0.041571896134176584\n"
     ]
    }
   ],
   "source": [
    "def display_SGD_scores(SGD_score):\n",
    "    print(\"Score:\", SGD_score)\n",
    "    print(\"Mean:\", SGD_score.mean())\n",
    "    print(\"Standard deviation:\", SGD_score.std())\n",
    "display_scores(tree_rmse_scores_SGD)"
   ]
  },
  {
   "cell_type": "markdown",
   "metadata": {},
   "source": [
    "##### SGD Precision Recall Tradeoff and ROC"
   ]
  },
  {
   "cell_type": "code",
   "execution_count": 73,
   "metadata": {},
   "outputs": [],
   "source": [
    "from sklearn.model_selection import cross_val_predict\n",
    "sgd_scores = cross_val_predict(sgd_clf, X_train, y_train, cv=10, method=\"decision_function\")\n"
   ]
  },
  {
   "cell_type": "code",
   "execution_count": 74,
   "metadata": {},
   "outputs": [],
   "source": [
    "from sklearn.metrics import precision_recall_curve\n",
    "\n",
    "precisions, recalls, thresholds = precision_recall_curve(y_train, sgd_scores)\n"
   ]
  },
  {
   "cell_type": "code",
   "execution_count": 75,
   "metadata": {},
   "outputs": [
    {
     "data": {
      "image/png": "[encoded data removed]",
      "text/plain": [
       "<Figure size 800x400 with 1 Axes>"
      ]
     },
     "metadata": {},
     "output_type": "display_data"
    }
   ],
   "source": [
    "\n",
    "def plot_precision_recall_vs_threshold(precisions, recalls, thresholds):\n",
    "    plt.plot(thresholds, precisions[:-1], \"b--\", label=\"Precision\", linewidth=2)\n",
    "    plt.plot(thresholds, recalls[:-1], \"g-\", label=\"Recall\", linewidth=2)\n",
    "    plt.legend(loc=\"center right\", fontsize=16) \n",
    "    plt.xlabel(\"Threshold\", fontsize=16)        \n",
    "    plt.grid(True)                              \n",
    "    plt.axis([-50000, 50000, 0, 1])             \n",
    "\n",
    "\n",
    "\n",
    "recall_90_precision = recalls[np.argmax(precisions >= 0.90)]\n",
    "threshold_90_precision = thresholds[np.argmax(precisions >= 0.90)]\n",
    "\n",
    "\n",
    "plt.figure(figsize=(8, 4))                                                                 \n",
    "plot_precision_recall_vs_threshold(precisions, recalls, thresholds)\n",
    "plt.plot([threshold_90_precision, threshold_90_precision], [0., 0.9], \"r:\")                 \n",
    "plt.plot([-50000, threshold_90_precision], [0.9, 0.9], \"r:\")                                \n",
    "plt.plot([-50000, threshold_90_precision], [recall_90_precision, recall_90_precision], \"r:\")\n",
    "plt.plot([threshold_90_precision], [0.9], \"ro\")                                             \n",
    "plt.plot([threshold_90_precision], [recall_90_precision], \"ro\")                            \n",
    "plt.show()\n"
   ]
  },
  {
   "cell_type": "code",
   "execution_count": 77,
   "metadata": {},
   "outputs": [],
   "source": [
    "from sklearn.metrics import roc_curve\n",
    "\n",
    "fpr, tpr, thresholds = roc_curve(y_train, sgd_scores)"
   ]
  },
  {
   "cell_type": "code",
   "execution_count": 78,
   "metadata": {},
   "outputs": [
    {
     "data": {
      "image/png": "[encoded data removed]",
      "text/plain": [
       "<Figure size 1200x800 with 1 Axes>"
      ]
     },
     "metadata": {},
     "output_type": "display_data"
    }
   ],
   "source": [
    "def plot_roc_curve(fpr, tpr, label=None):\n",
    "    plt.plot(fpr, tpr, linewidth=2, label=label)\n",
    "    plt.plot([0, 1], [0, 1], 'k--') # dashed diagonal\n",
    "    plt.axis([0, 1, 0, 1])                                    \n",
    "    plt.xlabel('False Positive Rate (Fall-Out)', fontsize=16) \n",
    "    plt.ylabel('True Positive Rate (Recall)', fontsize=16)    \n",
    "    plt.grid(True)                                           \n",
    "\n",
    "plt.figure(figsize=(12, 8))                                    \n",
    "plot_roc_curve(fpr, tpr)\n",
    "fpr_90 = fpr[np.argmax(tpr >= recall_90_precision)]          \n",
    "plt.plot([fpr_90, fpr_90], [0., recall_90_precision], \"r:\")  \n",
    "plt.plot([0.0, fpr_90], [recall_90_precision, recall_90_precision], \"r:\")  \n",
    "plt.plot([fpr_90], [recall_90_precision], \"ro\")               \n",
    "plt.show()\n"
   ]
  },
  {
   "cell_type": "markdown",
   "metadata": {},
   "source": [
    "Compare the SGD Classifier and Logistic Regression"
   ]
  },
  {
   "cell_type": "code",
   "execution_count": 79,
   "metadata": {},
   "outputs": [
    {
     "data": {
      "image/png": "[encoded data removed]",
      "text/plain": [
       "<Figure size 640x480 with 1 Axes>"
      ]
     },
     "metadata": {},
     "output_type": "display_data"
    }
   ],
   "source": [
    "y_probas_regression = cross_val_predict(model1, X_train, y_train, cv=10, method=\"predict_proba\")\n",
    "y_scores_regression = y_probas_regression[:, 1]\n",
    "fpr_regression, tpr_regression, thresholds_forest = roc_curve(y_train, y_scores_regression)\n",
    "plt.plot(fpr, tpr, \"b:\", label =\"SGD\")\n",
    "plot_roc_curve(fpr_regression, tpr_regression, \"Regression\")\n",
    "plt.legend(loc=\"lower right\")\n",
    "plt.show()"
   ]
  },
  {
   "cell_type": "markdown",
   "metadata": {},
   "source": [
    "Logistic Regression is clearly superior with greater AUC"
   ]
  },
  {
   "cell_type": "markdown",
   "metadata": {},
   "source": [
    "#### Linear Support Vector Machine (Soft Margins)"
   ]
  },
  {
   "cell_type": "code",
   "execution_count": 83,
   "metadata": {},
   "outputs": [],
   "source": [
    "from sklearn import datasets\n",
    "from sklearn.pipeline import Pipeline\n",
    "from sklearn.preprocessing import StandardScaler\n",
    "from sklearn.svm import LinearSVC\n",
    "\n",
    "scaler = StandardScaler()"
   ]
  },
  {
   "cell_type": "code",
   "execution_count": 92,
   "metadata": {},
   "outputs": [
    {
     "data": {
      "text/html": [
       "<style>#sk-container-id-8 {color: black;background-color: white;}#sk-container-id-8 pre{padding: 0;}#sk-container-id-8 div.sk-toggleable {background-color: white;}#sk-container-id-8 label.sk-toggleable__label {cursor: pointer;display: block;width: 100%;margin-bottom: 0;padding: 0.3em;box-sizing: border-box;text-align: center;}#sk-container-id-8 label.sk-toggleable__label-arrow:before {content: \"▸\";float: left;margin-right: 0.25em;color: #696969;}#sk-container-id-8 label.sk-toggleable__label-arrow:hover:before {color: black;}#sk-container-id-8 div.sk-estimator:hover label.sk-toggleable__label-arrow:before {color: black;}#sk-container-id-8 div.sk-toggleable__content {max-height: 0;max-width: 0;overflow: hidden;text-align: left;background-color: #f0f8ff;}#sk-container-id-8 div.sk-toggleable__content pre {margin: 0.2em;color: black;border-radius: 0.25em;background-color: #f0f8ff;}#sk-container-id-8 input.sk-toggleable__control:checked~div.sk-toggleable__content {max-height: 200px;max-width: 100%;overflow: auto;}#sk-container-id-8 input.sk-toggleable__control:checked~label.sk-toggleable__label-arrow:before {content: \"▾\";}#sk-container-id-8 div.sk-estimator input.sk-toggleable__control:checked~label.sk-toggleable__label {background-color: #d4ebff;}#sk-container-id-8 div.sk-label input.sk-toggleable__control:checked~label.sk-toggleable__label {background-color: #d4ebff;}#sk-container-id-8 input.sk-hidden--visually {border: 0;clip: rect(1px 1px 1px 1px);clip: rect(1px, 1px, 1px, 1px);height: 1px;margin: -1px;overflow: hidden;padding: 0;position: absolute;width: 1px;}#sk-container-id-8 div.sk-estimator {font-family: monospace;background-color: #f0f8ff;border: 1px dotted black;border-radius: 0.25em;box-sizing: border-box;margin-bottom: 0.5em;}#sk-container-id-8 div.sk-estimator:hover {background-color: #d4ebff;}#sk-container-id-8 div.sk-parallel-item::after {content: \"\";width: 100%;border-bottom: 1px solid gray;flex-grow: 1;}#sk-container-id-8 div.sk-label:hover label.sk-toggleable__label {background-color: #d4ebff;}#sk-container-id-8 div.sk-serial::before {content: \"\";position: absolute;border-left: 1px solid gray;box-sizing: border-box;top: 0;bottom: 0;left: 50%;z-index: 0;}#sk-container-id-8 div.sk-serial {display: flex;flex-direction: column;align-items: center;background-color: white;padding-right: 0.2em;padding-left: 0.2em;position: relative;}#sk-container-id-8 div.sk-item {position: relative;z-index: 1;}#sk-container-id-8 div.sk-parallel {display: flex;align-items: stretch;justify-content: center;background-color: white;position: relative;}#sk-container-id-8 div.sk-item::before, #sk-container-id-8 div.sk-parallel-item::before {content: \"\";position: absolute;border-left: 1px solid gray;box-sizing: border-box;top: 0;bottom: 0;left: 50%;z-index: -1;}#sk-container-id-8 div.sk-parallel-item {display: flex;flex-direction: column;z-index: 1;position: relative;background-color: white;}#sk-container-id-8 div.sk-parallel-item:first-child::after {align-self: flex-end;width: 50%;}#sk-container-id-8 div.sk-parallel-item:last-child::after {align-self: flex-start;width: 50%;}#sk-container-id-8 div.sk-parallel-item:only-child::after {width: 0;}#sk-container-id-8 div.sk-dashed-wrapped {border: 1px dashed gray;margin: 0 0.4em 0.5em 0.4em;box-sizing: border-box;padding-bottom: 0.4em;background-color: white;}#sk-container-id-8 div.sk-label label {font-family: monospace;font-weight: bold;display: inline-block;line-height: 1.2em;}#sk-container-id-8 div.sk-label-container {text-align: center;}#sk-container-id-8 div.sk-container {/* jupyter's `normalize.less` sets `[hidden] { display: none; }` but bootstrap.min.css set `[hidden] { display: none !important; }` so we also need the `!important` here to be able to override the default hidden behavior on the sphinx rendered scikit-learn.org. See: https://github.com/scikit-learn/scikit-learn/issues/21755 */display: inline-block !important;position: relative;}#sk-container-id-8 div.sk-text-repr-fallback {display: none;}</style><div id=\"sk-container-id-8\" class=\"sk-top-container\"><div class=\"sk-text-repr-fallback\"><pre>Pipeline(steps=[(&#x27;scaler&#x27;, StandardScaler()),\n",
       "                (&#x27;linear_svc&#x27;, LinearSVC(C=1, dual=False, max_iter=10000))])</pre><b>In a Jupyter environment, please rerun this cell to show the HTML representation or trust the notebook. <br />On GitHub, the HTML representation is unable to render, please try loading this page with nbviewer.org.</b></div><div class=\"sk-container\" hidden><div class=\"sk-item sk-dashed-wrapped\"><div class=\"sk-label-container\"><div class=\"sk-label sk-toggleable\"><input class=\"sk-toggleable__control sk-hidden--visually\" id=\"sk-estimator-id-14\" type=\"checkbox\" ><label for=\"sk-estimator-id-14\" class=\"sk-toggleable__label sk-toggleable__label-arrow\">Pipeline</label><div class=\"sk-toggleable__content\"><pre>Pipeline(steps=[(&#x27;scaler&#x27;, StandardScaler()),\n",
       "                (&#x27;linear_svc&#x27;, LinearSVC(C=1, dual=False, max_iter=10000))])</pre></div></div></div><div class=\"sk-serial\"><div class=\"sk-item\"><div class=\"sk-estimator sk-toggleable\"><input class=\"sk-toggleable__control sk-hidden--visually\" id=\"sk-estimator-id-15\" type=\"checkbox\" ><label for=\"sk-estimator-id-15\" class=\"sk-toggleable__label sk-toggleable__label-arrow\">StandardScaler</label><div class=\"sk-toggleable__content\"><pre>StandardScaler()</pre></div></div></div><div class=\"sk-item\"><div class=\"sk-estimator sk-toggleable\"><input class=\"sk-toggleable__control sk-hidden--visually\" id=\"sk-estimator-id-16\" type=\"checkbox\" ><label for=\"sk-estimator-id-16\" class=\"sk-toggleable__label sk-toggleable__label-arrow\">LinearSVC</label><div class=\"sk-toggleable__content\"><pre>LinearSVC(C=1, dual=False, max_iter=10000)</pre></div></div></div></div></div></div></div>"
      ],
      "text/plain": [
       "Pipeline(steps=[('scaler', StandardScaler()),\n",
       "                ('linear_svc', LinearSVC(C=1, dual=False, max_iter=10000))])"
      ]
     },
     "execution_count": 92,
     "metadata": {},
     "output_type": "execute_result"
    }
   ],
   "source": [
    "svm_clf = Pipeline([\n",
    "    (\"scaler\", StandardScaler()),\n",
    "    (\"linear_svc\", LinearSVC(C=1,max_iter=10000,dual=False)),\n",
    "    ])\n",
    "svm_clf.fit(X_train,y_train)"
   ]
  },
  {
   "cell_type": "code",
   "execution_count": 93,
   "metadata": {},
   "outputs": [
    {
     "data": {
      "text/plain": [
       "0.9719342604298357"
      ]
     },
     "execution_count": 93,
     "metadata": {},
     "output_type": "execute_result"
    }
   ],
   "source": [
    "y_predicted_svm = svm_clf.predict(X_test)\n",
    "svm_clf.score(X_test, y_test)"
   ]
  },
  {
   "cell_type": "markdown",
   "metadata": {},
   "source": [
    "##### Confusion Matrix for Linear SVM"
   ]
  },
  {
   "cell_type": "code",
   "execution_count": 94,
   "metadata": {},
   "outputs": [
    {
     "data": {
      "text/plain": [
       "array([[2109,    1],\n",
       "       [ 110, 1735]])"
      ]
     },
     "execution_count": 94,
     "metadata": {},
     "output_type": "execute_result"
    }
   ],
   "source": [
    "confusion_matrix(y_test, y_predicted_svm)"
   ]
  },
  {
   "cell_type": "markdown",
   "metadata": {},
   "source": [
    "##### Precision and Recall for Linear SVM"
   ]
  },
  {
   "cell_type": "code",
   "execution_count": 95,
   "metadata": {},
   "outputs": [
    {
     "data": {
      "text/plain": [
       "0.9994239631336406"
      ]
     },
     "execution_count": 95,
     "metadata": {},
     "output_type": "execute_result"
    }
   ],
   "source": [
    "precision_score(y_test, y_predicted_svm)"
   ]
  },
  {
   "cell_type": "code",
   "execution_count": 96,
   "metadata": {},
   "outputs": [
    {
     "data": {
      "text/plain": [
       "0.940379403794038"
      ]
     },
     "execution_count": 96,
     "metadata": {},
     "output_type": "execute_result"
    }
   ],
   "source": [
    "recall_score(y_test, y_predicted_svm)"
   ]
  },
  {
   "cell_type": "markdown",
   "metadata": {},
   "source": [
    "##### Cross Validation for Linear SVM"
   ]
  },
  {
   "cell_type": "code",
   "execution_count": 97,
   "metadata": {},
   "outputs": [],
   "source": [
    "SVM_score = cross_val_score(svm_clf, X_train, y_train, cv=10)\n",
    "tree_rmse_scores_SVM = np.sqrt(SVM_score)"
   ]
  },
  {
   "cell_type": "code",
   "execution_count": 98,
   "metadata": {},
   "outputs": [
    {
     "name": "stdout",
     "output_type": "stream",
     "text": [
      "Score: [0.98374912 0.98791689 0.98246317 0.9814976  0.98599549 0.98567489\n",
      " 0.98567489 0.98855652 0.9879092  0.98886911]\n",
      "Mean: 0.9858306876627394\n",
      "Standard deviation: 0.0024466099678813026\n"
     ]
    }
   ],
   "source": [
    "def display_SVM_scores(SVM_score):\n",
    "    print(\"Score:\", SVM_score)\n",
    "    print(\"Mean:\", SVM_score.mean())\n",
    "    print(\"Standard deviation:\", SVM_score.std())\n",
    "display_scores(tree_rmse_scores_SVM)"
   ]
  },
  {
   "cell_type": "markdown",
   "metadata": {},
   "source": [
    "#### Polynomial Kernel SVM"
   ]
  },
  {
   "cell_type": "code",
   "execution_count": 100,
   "metadata": {},
   "outputs": [
    {
     "data": {
      "text/html": [
       "<style>#sk-container-id-9 {color: black;background-color: white;}#sk-container-id-9 pre{padding: 0;}#sk-container-id-9 div.sk-toggleable {background-color: white;}#sk-container-id-9 label.sk-toggleable__label {cursor: pointer;display: block;width: 100%;margin-bottom: 0;padding: 0.3em;box-sizing: border-box;text-align: center;}#sk-container-id-9 label.sk-toggleable__label-arrow:before {content: \"▸\";float: left;margin-right: 0.25em;color: #696969;}#sk-container-id-9 label.sk-toggleable__label-arrow:hover:before {color: black;}#sk-container-id-9 div.sk-estimator:hover label.sk-toggleable__label-arrow:before {color: black;}#sk-container-id-9 div.sk-toggleable__content {max-height: 0;max-width: 0;overflow: hidden;text-align: left;background-color: #f0f8ff;}#sk-container-id-9 div.sk-toggleable__content pre {margin: 0.2em;color: black;border-radius: 0.25em;background-color: #f0f8ff;}#sk-container-id-9 input.sk-toggleable__control:checked~div.sk-toggleable__content {max-height: 200px;max-width: 100%;overflow: auto;}#sk-container-id-9 input.sk-toggleable__control:checked~label.sk-toggleable__label-arrow:before {content: \"▾\";}#sk-container-id-9 div.sk-estimator input.sk-toggleable__control:checked~label.sk-toggleable__label {background-color: #d4ebff;}#sk-container-id-9 div.sk-label input.sk-toggleable__control:checked~label.sk-toggleable__label {background-color: #d4ebff;}#sk-container-id-9 input.sk-hidden--visually {border: 0;clip: rect(1px 1px 1px 1px);clip: rect(1px, 1px, 1px, 1px);height: 1px;margin: -1px;overflow: hidden;padding: 0;position: absolute;width: 1px;}#sk-container-id-9 div.sk-estimator {font-family: monospace;background-color: #f0f8ff;border: 1px dotted black;border-radius: 0.25em;box-sizing: border-box;margin-bottom: 0.5em;}#sk-container-id-9 div.sk-estimator:hover {background-color: #d4ebff;}#sk-container-id-9 div.sk-parallel-item::after {content: \"\";width: 100%;border-bottom: 1px solid gray;flex-grow: 1;}#sk-container-id-9 div.sk-label:hover label.sk-toggleable__label {background-color: #d4ebff;}#sk-container-id-9 div.sk-serial::before {content: \"\";position: absolute;border-left: 1px solid gray;box-sizing: border-box;top: 0;bottom: 0;left: 50%;z-index: 0;}#sk-container-id-9 div.sk-serial {display: flex;flex-direction: column;align-items: center;background-color: white;padding-right: 0.2em;padding-left: 0.2em;position: relative;}#sk-container-id-9 div.sk-item {position: relative;z-index: 1;}#sk-container-id-9 div.sk-parallel {display: flex;align-items: stretch;justify-content: center;background-color: white;position: relative;}#sk-container-id-9 div.sk-item::before, #sk-container-id-9 div.sk-parallel-item::before {content: \"\";position: absolute;border-left: 1px solid gray;box-sizing: border-box;top: 0;bottom: 0;left: 50%;z-index: -1;}#sk-container-id-9 div.sk-parallel-item {display: flex;flex-direction: column;z-index: 1;position: relative;background-color: white;}#sk-container-id-9 div.sk-parallel-item:first-child::after {align-self: flex-end;width: 50%;}#sk-container-id-9 div.sk-parallel-item:last-child::after {align-self: flex-start;width: 50%;}#sk-container-id-9 div.sk-parallel-item:only-child::after {width: 0;}#sk-container-id-9 div.sk-dashed-wrapped {border: 1px dashed gray;margin: 0 0.4em 0.5em 0.4em;box-sizing: border-box;padding-bottom: 0.4em;background-color: white;}#sk-container-id-9 div.sk-label label {font-family: monospace;font-weight: bold;display: inline-block;line-height: 1.2em;}#sk-container-id-9 div.sk-label-container {text-align: center;}#sk-container-id-9 div.sk-container {/* jupyter's `normalize.less` sets `[hidden] { display: none; }` but bootstrap.min.css set `[hidden] { display: none !important; }` so we also need the `!important` here to be able to override the default hidden behavior on the sphinx rendered scikit-learn.org. See: https://github.com/scikit-learn/scikit-learn/issues/21755 */display: inline-block !important;position: relative;}#sk-container-id-9 div.sk-text-repr-fallback {display: none;}</style><div id=\"sk-container-id-9\" class=\"sk-top-container\"><div class=\"sk-text-repr-fallback\"><pre>Pipeline(steps=[(&#x27;scaler&#x27;, StandardScaler()),\n",
       "                (&#x27;svm_clf&#x27;, SVC(C=5, coef0=1, kernel=&#x27;poly&#x27;))])</pre><b>In a Jupyter environment, please rerun this cell to show the HTML representation or trust the notebook. <br />On GitHub, the HTML representation is unable to render, please try loading this page with nbviewer.org.</b></div><div class=\"sk-container\" hidden><div class=\"sk-item sk-dashed-wrapped\"><div class=\"sk-label-container\"><div class=\"sk-label sk-toggleable\"><input class=\"sk-toggleable__control sk-hidden--visually\" id=\"sk-estimator-id-17\" type=\"checkbox\" ><label for=\"sk-estimator-id-17\" class=\"sk-toggleable__label sk-toggleable__label-arrow\">Pipeline</label><div class=\"sk-toggleable__content\"><pre>Pipeline(steps=[(&#x27;scaler&#x27;, StandardScaler()),\n",
       "                (&#x27;svm_clf&#x27;, SVC(C=5, coef0=1, kernel=&#x27;poly&#x27;))])</pre></div></div></div><div class=\"sk-serial\"><div class=\"sk-item\"><div class=\"sk-estimator sk-toggleable\"><input class=\"sk-toggleable__control sk-hidden--visually\" id=\"sk-estimator-id-18\" type=\"checkbox\" ><label for=\"sk-estimator-id-18\" class=\"sk-toggleable__label sk-toggleable__label-arrow\">StandardScaler</label><div class=\"sk-toggleable__content\"><pre>StandardScaler()</pre></div></div></div><div class=\"sk-item\"><div class=\"sk-estimator sk-toggleable\"><input class=\"sk-toggleable__control sk-hidden--visually\" id=\"sk-estimator-id-19\" type=\"checkbox\" ><label for=\"sk-estimator-id-19\" class=\"sk-toggleable__label sk-toggleable__label-arrow\">SVC</label><div class=\"sk-toggleable__content\"><pre>SVC(C=5, coef0=1, kernel=&#x27;poly&#x27;)</pre></div></div></div></div></div></div></div>"
      ],
      "text/plain": [
       "Pipeline(steps=[('scaler', StandardScaler()),\n",
       "                ('svm_clf', SVC(C=5, coef0=1, kernel='poly'))])"
      ]
     },
     "execution_count": 100,
     "metadata": {},
     "output_type": "execute_result"
    }
   ],
   "source": [
    "from sklearn.svm import SVC\n",
    "poly_kernel_svm_clf = Pipeline([\n",
    "    (\"scaler\", StandardScaler()),\n",
    "    (\"svm_clf\", SVC(kernel=\"poly\", degree=3, coef0=1,C=5))\n",
    "])\n",
    "\n",
    "poly_kernel_svm_clf.fit(X_train, y_train)"
   ]
  },
  {
   "cell_type": "code",
   "execution_count": 101,
   "metadata": {},
   "outputs": [
    {
     "data": {
      "text/plain": [
       "0.9951959544879899"
      ]
     },
     "execution_count": 101,
     "metadata": {},
     "output_type": "execute_result"
    }
   ],
   "source": [
    "y_predicted_svm_poly = poly_kernel_svm_clf.predict(X_test)\n",
    "poly_kernel_svm_clf.score(X_test, y_test)"
   ]
  },
  {
   "cell_type": "markdown",
   "metadata": {},
   "source": [
    "##### Confusion Matrix for Polynomial Kernel SVM"
   ]
  },
  {
   "cell_type": "code",
   "execution_count": 102,
   "metadata": {},
   "outputs": [
    {
     "data": {
      "text/plain": [
       "array([[2109,    1],\n",
       "       [  18, 1827]])"
      ]
     },
     "execution_count": 102,
     "metadata": {},
     "output_type": "execute_result"
    }
   ],
   "source": [
    "confusion_matrix(y_test, y_predicted_svm_poly)"
   ]
  },
  {
   "cell_type": "markdown",
   "metadata": {},
   "source": [
    "##### Precision and Recall for Polynomial Kernel SVM"
   ]
  },
  {
   "cell_type": "code",
   "execution_count": 103,
   "metadata": {},
   "outputs": [
    {
     "data": {
      "text/plain": [
       "0.99945295404814"
      ]
     },
     "execution_count": 103,
     "metadata": {},
     "output_type": "execute_result"
    }
   ],
   "source": [
    "precision_score(y_test, y_predicted_svm_poly)"
   ]
  },
  {
   "cell_type": "code",
   "execution_count": 104,
   "metadata": {},
   "outputs": [
    {
     "data": {
      "text/plain": [
       "0.9902439024390244"
      ]
     },
     "execution_count": 104,
     "metadata": {},
     "output_type": "execute_result"
    }
   ],
   "source": [
    "recall_score(y_test, y_predicted_svm_poly)"
   ]
  },
  {
   "cell_type": "markdown",
   "metadata": {},
   "source": [
    "##### Cross Validation for Polynomial Kernel SVM"
   ]
  },
  {
   "cell_type": "code",
   "execution_count": 105,
   "metadata": {},
   "outputs": [],
   "source": [
    "SVM_poly_score = cross_val_score(poly_kernel_svm_clf, X_train, y_train, cv=10)\n",
    "tree_rmse_scores_SVM_poly = np.sqrt(SVM_poly_score)"
   ]
  },
  {
   "cell_type": "code",
   "execution_count": 106,
   "metadata": {},
   "outputs": [
    {
     "name": "stdout",
     "output_type": "stream",
     "text": [
      "Score: [0.99841847 0.99810186 0.99810186 0.99873498 0.99746835 0.99873498\n",
      " 0.99715144 0.99683443 0.99810066 0.99841747]\n",
      "Mean: 0.9980064514650966\n",
      "Standard deviation: 0.0006181828130041399\n"
     ]
    }
   ],
   "source": [
    "def display_SVM_poly_scores(SVM_poly_score):\n",
    "    print(\"Score:\", SVM_poly_score)\n",
    "    print(\"Mean:\", SVM_poly_score.mean())\n",
    "    print(\"Standard deviation:\", SVM_poly_score.std())\n",
    "display_scores(tree_rmse_scores_SVM_poly)"
   ]
  },
  {
   "cell_type": "markdown",
   "metadata": {},
   "source": [
    "#### Decision Tree "
   ]
  },
  {
   "cell_type": "code",
   "execution_count": 109,
   "metadata": {},
   "outputs": [
    {
     "data": {
      "text/html": [
       "<style>#sk-container-id-11 {color: black;background-color: white;}#sk-container-id-11 pre{padding: 0;}#sk-container-id-11 div.sk-toggleable {background-color: white;}#sk-container-id-11 label.sk-toggleable__label {cursor: pointer;display: block;width: 100%;margin-bottom: 0;padding: 0.3em;box-sizing: border-box;text-align: center;}#sk-container-id-11 label.sk-toggleable__label-arrow:before {content: \"▸\";float: left;margin-right: 0.25em;color: #696969;}#sk-container-id-11 label.sk-toggleable__label-arrow:hover:before {color: black;}#sk-container-id-11 div.sk-estimator:hover label.sk-toggleable__label-arrow:before {color: black;}#sk-container-id-11 div.sk-toggleable__content {max-height: 0;max-width: 0;overflow: hidden;text-align: left;background-color: #f0f8ff;}#sk-container-id-11 div.sk-toggleable__content pre {margin: 0.2em;color: black;border-radius: 0.25em;background-color: #f0f8ff;}#sk-container-id-11 input.sk-toggleable__control:checked~div.sk-toggleable__content {max-height: 200px;max-width: 100%;overflow: auto;}#sk-container-id-11 input.sk-toggleable__control:checked~label.sk-toggleable__label-arrow:before {content: \"▾\";}#sk-container-id-11 div.sk-estimator input.sk-toggleable__control:checked~label.sk-toggleable__label {background-color: #d4ebff;}#sk-container-id-11 div.sk-label input.sk-toggleable__control:checked~label.sk-toggleable__label {background-color: #d4ebff;}#sk-container-id-11 input.sk-hidden--visually {border: 0;clip: rect(1px 1px 1px 1px);clip: rect(1px, 1px, 1px, 1px);height: 1px;margin: -1px;overflow: hidden;padding: 0;position: absolute;width: 1px;}#sk-container-id-11 div.sk-estimator {font-family: monospace;background-color: #f0f8ff;border: 1px dotted black;border-radius: 0.25em;box-sizing: border-box;margin-bottom: 0.5em;}#sk-container-id-11 div.sk-estimator:hover {background-color: #d4ebff;}#sk-container-id-11 div.sk-parallel-item::after {content: \"\";width: 100%;border-bottom: 1px solid gray;flex-grow: 1;}#sk-container-id-11 div.sk-label:hover label.sk-toggleable__label {background-color: #d4ebff;}#sk-container-id-11 div.sk-serial::before {content: \"\";position: absolute;border-left: 1px solid gray;box-sizing: border-box;top: 0;bottom: 0;left: 50%;z-index: 0;}#sk-container-id-11 div.sk-serial {display: flex;flex-direction: column;align-items: center;background-color: white;padding-right: 0.2em;padding-left: 0.2em;position: relative;}#sk-container-id-11 div.sk-item {position: relative;z-index: 1;}#sk-container-id-11 div.sk-parallel {display: flex;align-items: stretch;justify-content: center;background-color: white;position: relative;}#sk-container-id-11 div.sk-item::before, #sk-container-id-11 div.sk-parallel-item::before {content: \"\";position: absolute;border-left: 1px solid gray;box-sizing: border-box;top: 0;bottom: 0;left: 50%;z-index: -1;}#sk-container-id-11 div.sk-parallel-item {display: flex;flex-direction: column;z-index: 1;position: relative;background-color: white;}#sk-container-id-11 div.sk-parallel-item:first-child::after {align-self: flex-end;width: 50%;}#sk-container-id-11 div.sk-parallel-item:last-child::after {align-self: flex-start;width: 50%;}#sk-container-id-11 div.sk-parallel-item:only-child::after {width: 0;}#sk-container-id-11 div.sk-dashed-wrapped {border: 1px dashed gray;margin: 0 0.4em 0.5em 0.4em;box-sizing: border-box;padding-bottom: 0.4em;background-color: white;}#sk-container-id-11 div.sk-label label {font-family: monospace;font-weight: bold;display: inline-block;line-height: 1.2em;}#sk-container-id-11 div.sk-label-container {text-align: center;}#sk-container-id-11 div.sk-container {/* jupyter's `normalize.less` sets `[hidden] { display: none; }` but bootstrap.min.css set `[hidden] { display: none !important; }` so we also need the `!important` here to be able to override the default hidden behavior on the sphinx rendered scikit-learn.org. See: https://github.com/scikit-learn/scikit-learn/issues/21755 */display: inline-block !important;position: relative;}#sk-container-id-11 div.sk-text-repr-fallback {display: none;}</style><div id=\"sk-container-id-11\" class=\"sk-top-container\"><div class=\"sk-text-repr-fallback\"><pre>DecisionTreeClassifier(max_depth=2)</pre><b>In a Jupyter environment, please rerun this cell to show the HTML representation or trust the notebook. <br />On GitHub, the HTML representation is unable to render, please try loading this page with nbviewer.org.</b></div><div class=\"sk-container\" hidden><div class=\"sk-item\"><div class=\"sk-estimator sk-toggleable\"><input class=\"sk-toggleable__control sk-hidden--visually\" id=\"sk-estimator-id-21\" type=\"checkbox\" checked><label for=\"sk-estimator-id-21\" class=\"sk-toggleable__label sk-toggleable__label-arrow\">DecisionTreeClassifier</label><div class=\"sk-toggleable__content\"><pre>DecisionTreeClassifier(max_depth=2)</pre></div></div></div></div></div>"
      ],
      "text/plain": [
       "DecisionTreeClassifier(max_depth=2)"
      ]
     },
     "execution_count": 109,
     "metadata": {},
     "output_type": "execute_result"
    }
   ],
   "source": [
    "from sklearn.tree import DecisionTreeClassifier\n",
    "\n",
    "tree_clf = DecisionTreeClassifier(max_depth=2)\n",
    "tree_clf.fit(X_train, y_train)"
   ]
  },
  {
   "cell_type": "code",
   "execution_count": 111,
   "metadata": {},
   "outputs": [
    {
     "data": {
      "text/plain": [
       "0.9762326169405815"
      ]
     },
     "execution_count": 111,
     "metadata": {},
     "output_type": "execute_result"
    }
   ],
   "source": [
    "y_predicted_tree = tree_clf.predict(X_test)\n",
    "tree_clf.score(X_test, y_test)"
   ]
  },
  {
   "cell_type": "markdown",
   "metadata": {},
   "source": [
    "##### Confusion Matrix for Decision Tree"
   ]
  },
  {
   "cell_type": "code",
   "execution_count": 112,
   "metadata": {},
   "outputs": [
    {
     "data": {
      "text/plain": [
       "array([[2105,    5],\n",
       "       [  89, 1756]])"
      ]
     },
     "execution_count": 112,
     "metadata": {},
     "output_type": "execute_result"
    }
   ],
   "source": [
    "confusion_matrix(y_test, y_predicted_tree)"
   ]
  },
  {
   "cell_type": "markdown",
   "metadata": {},
   "source": [
    "##### Precision and Recall for Decision Tree"
   ]
  },
  {
   "cell_type": "code",
   "execution_count": 113,
   "metadata": {},
   "outputs": [
    {
     "data": {
      "text/plain": [
       "0.997160704145372"
      ]
     },
     "execution_count": 113,
     "metadata": {},
     "output_type": "execute_result"
    }
   ],
   "source": [
    "precision_score(y_test, y_predicted_tree)"
   ]
  },
  {
   "cell_type": "code",
   "execution_count": 114,
   "metadata": {},
   "outputs": [
    {
     "data": {
      "text/plain": [
       "0.9517615176151761"
      ]
     },
     "execution_count": 114,
     "metadata": {},
     "output_type": "execute_result"
    }
   ],
   "source": [
    "recall_score(y_test, y_predicted_tree)"
   ]
  },
  {
   "cell_type": "markdown",
   "metadata": {},
   "source": [
    "##### Cross Validation for Decision Tree"
   ]
  },
  {
   "cell_type": "code",
   "execution_count": 115,
   "metadata": {},
   "outputs": [],
   "source": [
    "decision_tree_score = cross_val_score(tree_clf, X_train, y_train, cv=10)\n",
    "tree_rmse_scores_decision_tree = np.sqrt(decision_tree_score)"
   ]
  },
  {
   "cell_type": "code",
   "execution_count": 116,
   "metadata": {},
   "outputs": [
    {
     "name": "stdout",
     "output_type": "stream",
     "text": [
      "Score: [0.98887618 0.98887618 0.98855652 0.98695665 0.98631598 0.98919574\n",
      " 0.98471248 0.99047295 0.99014754 0.99174327]\n",
      "Mean: 0.9885853504250204\n",
      "Standard deviation: 0.001982935787195823\n"
     ]
    }
   ],
   "source": [
    "def display_DTree_scores(decision_tree_score):\n",
    "    print(\"Score:\", decision_tree_score)\n",
    "    print(\"Mean:\", decision_tree_score.mean())\n",
    "    print(\"Standard deviation:\", decision_tree_score.std())\n",
    "display_scores(tree_rmse_scores_decision_tree)"
   ]
  },
  {
   "cell_type": "markdown",
   "metadata": {},
   "source": [
    "#### Random Forest"
   ]
  },
  {
   "cell_type": "code",
   "execution_count": 117,
   "metadata": {},
   "outputs": [],
   "source": [
    "from sklearn.ensemble import RandomForestClassifier"
   ]
  },
  {
   "cell_type": "code",
   "execution_count": 119,
   "metadata": {},
   "outputs": [
    {
     "data": {
      "text/html": [
       "<style>#sk-container-id-13 {color: black;background-color: white;}#sk-container-id-13 pre{padding: 0;}#sk-container-id-13 div.sk-toggleable {background-color: white;}#sk-container-id-13 label.sk-toggleable__label {cursor: pointer;display: block;width: 100%;margin-bottom: 0;padding: 0.3em;box-sizing: border-box;text-align: center;}#sk-container-id-13 label.sk-toggleable__label-arrow:before {content: \"▸\";float: left;margin-right: 0.25em;color: #696969;}#sk-container-id-13 label.sk-toggleable__label-arrow:hover:before {color: black;}#sk-container-id-13 div.sk-estimator:hover label.sk-toggleable__label-arrow:before {color: black;}#sk-container-id-13 div.sk-toggleable__content {max-height: 0;max-width: 0;overflow: hidden;text-align: left;background-color: #f0f8ff;}#sk-container-id-13 div.sk-toggleable__content pre {margin: 0.2em;color: black;border-radius: 0.25em;background-color: #f0f8ff;}#sk-container-id-13 input.sk-toggleable__control:checked~div.sk-toggleable__content {max-height: 200px;max-width: 100%;overflow: auto;}#sk-container-id-13 input.sk-toggleable__control:checked~label.sk-toggleable__label-arrow:before {content: \"▾\";}#sk-container-id-13 div.sk-estimator input.sk-toggleable__control:checked~label.sk-toggleable__label {background-color: #d4ebff;}#sk-container-id-13 div.sk-label input.sk-toggleable__control:checked~label.sk-toggleable__label {background-color: #d4ebff;}#sk-container-id-13 input.sk-hidden--visually {border: 0;clip: rect(1px 1px 1px 1px);clip: rect(1px, 1px, 1px, 1px);height: 1px;margin: -1px;overflow: hidden;padding: 0;position: absolute;width: 1px;}#sk-container-id-13 div.sk-estimator {font-family: monospace;background-color: #f0f8ff;border: 1px dotted black;border-radius: 0.25em;box-sizing: border-box;margin-bottom: 0.5em;}#sk-container-id-13 div.sk-estimator:hover {background-color: #d4ebff;}#sk-container-id-13 div.sk-parallel-item::after {content: \"\";width: 100%;border-bottom: 1px solid gray;flex-grow: 1;}#sk-container-id-13 div.sk-label:hover label.sk-toggleable__label {background-color: #d4ebff;}#sk-container-id-13 div.sk-serial::before {content: \"\";position: absolute;border-left: 1px solid gray;box-sizing: border-box;top: 0;bottom: 0;left: 50%;z-index: 0;}#sk-container-id-13 div.sk-serial {display: flex;flex-direction: column;align-items: center;background-color: white;padding-right: 0.2em;padding-left: 0.2em;position: relative;}#sk-container-id-13 div.sk-item {position: relative;z-index: 1;}#sk-container-id-13 div.sk-parallel {display: flex;align-items: stretch;justify-content: center;background-color: white;position: relative;}#sk-container-id-13 div.sk-item::before, #sk-container-id-13 div.sk-parallel-item::before {content: \"\";position: absolute;border-left: 1px solid gray;box-sizing: border-box;top: 0;bottom: 0;left: 50%;z-index: -1;}#sk-container-id-13 div.sk-parallel-item {display: flex;flex-direction: column;z-index: 1;position: relative;background-color: white;}#sk-container-id-13 div.sk-parallel-item:first-child::after {align-self: flex-end;width: 50%;}#sk-container-id-13 div.sk-parallel-item:last-child::after {align-self: flex-start;width: 50%;}#sk-container-id-13 div.sk-parallel-item:only-child::after {width: 0;}#sk-container-id-13 div.sk-dashed-wrapped {border: 1px dashed gray;margin: 0 0.4em 0.5em 0.4em;box-sizing: border-box;padding-bottom: 0.4em;background-color: white;}#sk-container-id-13 div.sk-label label {font-family: monospace;font-weight: bold;display: inline-block;line-height: 1.2em;}#sk-container-id-13 div.sk-label-container {text-align: center;}#sk-container-id-13 div.sk-container {/* jupyter's `normalize.less` sets `[hidden] { display: none; }` but bootstrap.min.css set `[hidden] { display: none !important; }` so we also need the `!important` here to be able to override the default hidden behavior on the sphinx rendered scikit-learn.org. See: https://github.com/scikit-learn/scikit-learn/issues/21755 */display: inline-block !important;position: relative;}#sk-container-id-13 div.sk-text-repr-fallback {display: none;}</style><div id=\"sk-container-id-13\" class=\"sk-top-container\"><div class=\"sk-text-repr-fallback\"><pre>RandomForestClassifier(n_estimators=500, random_state=42)</pre><b>In a Jupyter environment, please rerun this cell to show the HTML representation or trust the notebook. <br />On GitHub, the HTML representation is unable to render, please try loading this page with nbviewer.org.</b></div><div class=\"sk-container\" hidden><div class=\"sk-item\"><div class=\"sk-estimator sk-toggleable\"><input class=\"sk-toggleable__control sk-hidden--visually\" id=\"sk-estimator-id-23\" type=\"checkbox\" checked><label for=\"sk-estimator-id-23\" class=\"sk-toggleable__label sk-toggleable__label-arrow\">RandomForestClassifier</label><div class=\"sk-toggleable__content\"><pre>RandomForestClassifier(n_estimators=500, random_state=42)</pre></div></div></div></div></div>"
      ],
      "text/plain": [
       "RandomForestClassifier(n_estimators=500, random_state=42)"
      ]
     },
     "execution_count": 119,
     "metadata": {},
     "output_type": "execute_result"
    }
   ],
   "source": [
    "rnd_clf = RandomForestClassifier(n_estimators=500, random_state=42)\n",
    "rnd_clf.fit(X_train, y_train)"
   ]
  },
  {
   "cell_type": "code",
   "execution_count": 120,
   "metadata": {},
   "outputs": [
    {
     "data": {
      "text/plain": [
       "1.0"
      ]
     },
     "execution_count": 120,
     "metadata": {},
     "output_type": "execute_result"
    }
   ],
   "source": [
    "y_predicted_rnd = rnd_clf.predict(X_test)\n",
    "rnd_clf.score(X_test, y_test)"
   ]
  },
  {
   "cell_type": "markdown",
   "metadata": {},
   "source": [
    "##### Confusion Matrix for Random Forest"
   ]
  },
  {
   "cell_type": "code",
   "execution_count": 121,
   "metadata": {},
   "outputs": [
    {
     "data": {
      "text/plain": [
       "array([[2110,    0],\n",
       "       [   0, 1845]])"
      ]
     },
     "execution_count": 121,
     "metadata": {},
     "output_type": "execute_result"
    }
   ],
   "source": [
    "confusion_matrix(y_test, y_predicted_rnd)"
   ]
  },
  {
   "cell_type": "markdown",
   "metadata": {},
   "source": [
    "##### Cross_Validadtion on Random Foreset"
   ]
  },
  {
   "cell_type": "code",
   "execution_count": 122,
   "metadata": {},
   "outputs": [],
   "source": [
    "rnd_forest_score = cross_val_score(rnd_clf, X_train, y_train, cv=10)\n",
    "tree_rmse_scores_rnd = np.sqrt(rnd_forest_score)"
   ]
  },
  {
   "cell_type": "code",
   "execution_count": 123,
   "metadata": {},
   "outputs": [
    {
     "name": "stdout",
     "output_type": "stream",
     "text": [
      "Score: [1.         1.         1.         1.         1.         1.\n",
      " 0.99905138 1.         1.         1.        ]\n",
      "Mean: 0.99990513831857\n",
      "Standard deviation: 0.0002845850442901754\n"
     ]
    }
   ],
   "source": [
    "def display_rnd_scores(rnd_forest_score):\n",
    "    print(\"Score:\", rnd_forest_score)\n",
    "    print(\"Mean:\", rnd_forest_score.mean())\n",
    "    print(\"Standard deviation:\", rnd_forest_score.std())\n",
    "display_scores(tree_rmse_scores_rnd)"
   ]
  },
  {
   "cell_type": "markdown",
   "metadata": {},
   "source": [
    "##### ROC For Random Forest"
   ]
  },
  {
   "cell_type": "code",
   "execution_count": 124,
   "metadata": {},
   "outputs": [],
   "source": [
    "y_probas_rnd = cross_val_predict(rnd_clf, X_train, y_train, cv=10, method=\"predict_proba\")\n",
    "scores_rnd = y_probas_rnd[:, 1] \n",
    "fpr_rnd, tpr_rnd, thresholds_forest = roc_curve(y_train, scores_rnd)"
   ]
  },
  {
   "cell_type": "code",
   "execution_count": 125,
   "metadata": {},
   "outputs": [
    {
     "data": {
      "image/png": "[encoded data removed]",
      "text/plain": [
       "<Figure size 640x480 with 1 Axes>"
      ]
     },
     "metadata": {},
     "output_type": "display_data"
    }
   ],
   "source": [
    "plt.plot(fpr, tpr, \"b:\", label =\"SGD\")\n",
    "plot_roc_curve(fpr_regression, tpr_regression, \"Regression\")\n",
    "plot_roc_curve(fpr_rnd, tpr_rnd, \"Random Forest\")\n",
    "plt.legend(loc=\"lower right\")\n",
    "plt.show()"
   ]
  },
  {
   "cell_type": "markdown",
   "metadata": {},
   "source": [
    "Clearly the Random Forest Outperforms the other algorithms"
   ]
  },
  {
   "cell_type": "markdown",
   "metadata": {},
   "source": [
    "#### Voting Classifier"
   ]
  },
  {
   "cell_type": "code",
   "execution_count": 129,
   "metadata": {},
   "outputs": [],
   "source": [
    "from sklearn.ensemble import VotingClassifier\n",
    "log_clf = LogisticRegression(max_iter=10000)"
   ]
  },
  {
   "cell_type": "code",
   "execution_count": 130,
   "metadata": {},
   "outputs": [
    {
     "data": {
      "text/html": [
       "<style>#sk-container-id-16 {color: black;background-color: white;}#sk-container-id-16 pre{padding: 0;}#sk-container-id-16 div.sk-toggleable {background-color: white;}#sk-container-id-16 label.sk-toggleable__label {cursor: pointer;display: block;width: 100%;margin-bottom: 0;padding: 0.3em;box-sizing: border-box;text-align: center;}#sk-container-id-16 label.sk-toggleable__label-arrow:before {content: \"▸\";float: left;margin-right: 0.25em;color: #696969;}#sk-container-id-16 label.sk-toggleable__label-arrow:hover:before {color: black;}#sk-container-id-16 div.sk-estimator:hover label.sk-toggleable__label-arrow:before {color: black;}#sk-container-id-16 div.sk-toggleable__content {max-height: 0;max-width: 0;overflow: hidden;text-align: left;background-color: #f0f8ff;}#sk-container-id-16 div.sk-toggleable__content pre {margin: 0.2em;color: black;border-radius: 0.25em;background-color: #f0f8ff;}#sk-container-id-16 input.sk-toggleable__control:checked~div.sk-toggleable__content {max-height: 200px;max-width: 100%;overflow: auto;}#sk-container-id-16 input.sk-toggleable__control:checked~label.sk-toggleable__label-arrow:before {content: \"▾\";}#sk-container-id-16 div.sk-estimator input.sk-toggleable__control:checked~label.sk-toggleable__label {background-color: #d4ebff;}#sk-container-id-16 div.sk-label input.sk-toggleable__control:checked~label.sk-toggleable__label {background-color: #d4ebff;}#sk-container-id-16 input.sk-hidden--visually {border: 0;clip: rect(1px 1px 1px 1px);clip: rect(1px, 1px, 1px, 1px);height: 1px;margin: -1px;overflow: hidden;padding: 0;position: absolute;width: 1px;}#sk-container-id-16 div.sk-estimator {font-family: monospace;background-color: #f0f8ff;border: 1px dotted black;border-radius: 0.25em;box-sizing: border-box;margin-bottom: 0.5em;}#sk-container-id-16 div.sk-estimator:hover {background-color: #d4ebff;}#sk-container-id-16 div.sk-parallel-item::after {content: \"\";width: 100%;border-bottom: 1px solid gray;flex-grow: 1;}#sk-container-id-16 div.sk-label:hover label.sk-toggleable__label {background-color: #d4ebff;}#sk-container-id-16 div.sk-serial::before {content: \"\";position: absolute;border-left: 1px solid gray;box-sizing: border-box;top: 0;bottom: 0;left: 50%;z-index: 0;}#sk-container-id-16 div.sk-serial {display: flex;flex-direction: column;align-items: center;background-color: white;padding-right: 0.2em;padding-left: 0.2em;position: relative;}#sk-container-id-16 div.sk-item {position: relative;z-index: 1;}#sk-container-id-16 div.sk-parallel {display: flex;align-items: stretch;justify-content: center;background-color: white;position: relative;}#sk-container-id-16 div.sk-item::before, #sk-container-id-16 div.sk-parallel-item::before {content: \"\";position: absolute;border-left: 1px solid gray;box-sizing: border-box;top: 0;bottom: 0;left: 50%;z-index: -1;}#sk-container-id-16 div.sk-parallel-item {display: flex;flex-direction: column;z-index: 1;position: relative;background-color: white;}#sk-container-id-16 div.sk-parallel-item:first-child::after {align-self: flex-end;width: 50%;}#sk-container-id-16 div.sk-parallel-item:last-child::after {align-self: flex-start;width: 50%;}#sk-container-id-16 div.sk-parallel-item:only-child::after {width: 0;}#sk-container-id-16 div.sk-dashed-wrapped {border: 1px dashed gray;margin: 0 0.4em 0.5em 0.4em;box-sizing: border-box;padding-bottom: 0.4em;background-color: white;}#sk-container-id-16 div.sk-label label {font-family: monospace;font-weight: bold;display: inline-block;line-height: 1.2em;}#sk-container-id-16 div.sk-label-container {text-align: center;}#sk-container-id-16 div.sk-container {/* jupyter's `normalize.less` sets `[hidden] { display: none; }` but bootstrap.min.css set `[hidden] { display: none !important; }` so we also need the `!important` here to be able to override the default hidden behavior on the sphinx rendered scikit-learn.org. See: https://github.com/scikit-learn/scikit-learn/issues/21755 */display: inline-block !important;position: relative;}#sk-container-id-16 div.sk-text-repr-fallback {display: none;}</style><div id=\"sk-container-id-16\" class=\"sk-top-container\"><div class=\"sk-text-repr-fallback\"><pre>VotingClassifier(estimators=[(&#x27;lr&#x27;, LogisticRegression(max_iter=10000)),\n",
       "                             (&#x27;rf&#x27;,\n",
       "                              RandomForestClassifier(n_estimators=500,\n",
       "                                                     random_state=42)),\n",
       "                             (&#x27;svc&#x27;,\n",
       "                              Pipeline(steps=[(&#x27;scaler&#x27;, StandardScaler()),\n",
       "                                              (&#x27;linear_svc&#x27;,\n",
       "                                               LinearSVC(C=1, dual=False,\n",
       "                                                         max_iter=10000))])),\n",
       "                             (&#x27;psvc&#x27;,\n",
       "                              Pipeline(steps=[(&#x27;scaler&#x27;, StandardScaler()),\n",
       "                                              (&#x27;svm_clf&#x27;,\n",
       "                                               SVC(C=5, coef0=1,\n",
       "                                                   kernel=&#x27;poly&#x27;))])),\n",
       "                             (&#x27;sgd&#x27;, SGDClassifier(random_state=42)),\n",
       "                             (&#x27;dt&#x27;, DecisionTreeClassifier(max_depth=2))])</pre><b>In a Jupyter environment, please rerun this cell to show the HTML representation or trust the notebook. <br />On GitHub, the HTML representation is unable to render, please try loading this page with nbviewer.org.</b></div><div class=\"sk-container\" hidden><div class=\"sk-item sk-dashed-wrapped\"><div class=\"sk-label-container\"><div class=\"sk-label sk-toggleable\"><input class=\"sk-toggleable__control sk-hidden--visually\" id=\"sk-estimator-id-38\" type=\"checkbox\" ><label for=\"sk-estimator-id-38\" class=\"sk-toggleable__label sk-toggleable__label-arrow\">VotingClassifier</label><div class=\"sk-toggleable__content\"><pre>VotingClassifier(estimators=[(&#x27;lr&#x27;, LogisticRegression(max_iter=10000)),\n",
       "                             (&#x27;rf&#x27;,\n",
       "                              RandomForestClassifier(n_estimators=500,\n",
       "                                                     random_state=42)),\n",
       "                             (&#x27;svc&#x27;,\n",
       "                              Pipeline(steps=[(&#x27;scaler&#x27;, StandardScaler()),\n",
       "                                              (&#x27;linear_svc&#x27;,\n",
       "                                               LinearSVC(C=1, dual=False,\n",
       "                                                         max_iter=10000))])),\n",
       "                             (&#x27;psvc&#x27;,\n",
       "                              Pipeline(steps=[(&#x27;scaler&#x27;, StandardScaler()),\n",
       "                                              (&#x27;svm_clf&#x27;,\n",
       "                                               SVC(C=5, coef0=1,\n",
       "                                                   kernel=&#x27;poly&#x27;))])),\n",
       "                             (&#x27;sgd&#x27;, SGDClassifier(random_state=42)),\n",
       "                             (&#x27;dt&#x27;, DecisionTreeClassifier(max_depth=2))])</pre></div></div></div><div class=\"sk-parallel\"><div class=\"sk-parallel-item\"><div class=\"sk-item\"><div class=\"sk-label-container\"><div class=\"sk-label sk-toggleable\"><label>lr</label></div></div><div class=\"sk-serial\"><div class=\"sk-item\"><div class=\"sk-estimator sk-toggleable\"><input class=\"sk-toggleable__control sk-hidden--visually\" id=\"sk-estimator-id-39\" type=\"checkbox\" ><label for=\"sk-estimator-id-39\" class=\"sk-toggleable__label sk-toggleable__label-arrow\">LogisticRegression</label><div class=\"sk-toggleable__content\"><pre>LogisticRegression(max_iter=10000)</pre></div></div></div></div></div></div><div class=\"sk-parallel-item\"><div class=\"sk-item\"><div class=\"sk-label-container\"><div class=\"sk-label sk-toggleable\"><label>rf</label></div></div><div class=\"sk-serial\"><div class=\"sk-item\"><div class=\"sk-estimator sk-toggleable\"><input class=\"sk-toggleable__control sk-hidden--visually\" id=\"sk-estimator-id-40\" type=\"checkbox\" ><label for=\"sk-estimator-id-40\" class=\"sk-toggleable__label sk-toggleable__label-arrow\">RandomForestClassifier</label><div class=\"sk-toggleable__content\"><pre>RandomForestClassifier(n_estimators=500, random_state=42)</pre></div></div></div></div></div></div><div class=\"sk-parallel-item\"><div class=\"sk-item\"><div class=\"sk-label-container\"><div class=\"sk-label sk-toggleable\"><label>svc</label></div></div><div class=\"sk-serial\"><div class=\"sk-item\"><div class=\"sk-serial\"><div class=\"sk-item\"><div class=\"sk-estimator sk-toggleable\"><input class=\"sk-toggleable__control sk-hidden--visually\" id=\"sk-estimator-id-41\" type=\"checkbox\" ><label for=\"sk-estimator-id-41\" class=\"sk-toggleable__label sk-toggleable__label-arrow\">StandardScaler</label><div class=\"sk-toggleable__content\"><pre>StandardScaler()</pre></div></div></div><div class=\"sk-item\"><div class=\"sk-estimator sk-toggleable\"><input class=\"sk-toggleable__control sk-hidden--visually\" id=\"sk-estimator-id-42\" type=\"checkbox\" ><label for=\"sk-estimator-id-42\" class=\"sk-toggleable__label sk-toggleable__label-arrow\">LinearSVC</label><div class=\"sk-toggleable__content\"><pre>LinearSVC(C=1, dual=False, max_iter=10000)</pre></div></div></div></div></div></div></div></div><div class=\"sk-parallel-item\"><div class=\"sk-item\"><div class=\"sk-label-container\"><div class=\"sk-label sk-toggleable\"><label>psvc</label></div></div><div class=\"sk-serial\"><div class=\"sk-item\"><div class=\"sk-serial\"><div class=\"sk-item\"><div class=\"sk-estimator sk-toggleable\"><input class=\"sk-toggleable__control sk-hidden--visually\" id=\"sk-estimator-id-43\" type=\"checkbox\" ><label for=\"sk-estimator-id-43\" class=\"sk-toggleable__label sk-toggleable__label-arrow\">StandardScaler</label><div class=\"sk-toggleable__content\"><pre>StandardScaler()</pre></div></div></div><div class=\"sk-item\"><div class=\"sk-estimator sk-toggleable\"><input class=\"sk-toggleable__control sk-hidden--visually\" id=\"sk-estimator-id-44\" type=\"checkbox\" ><label for=\"sk-estimator-id-44\" class=\"sk-toggleable__label sk-toggleable__label-arrow\">SVC</label><div class=\"sk-toggleable__content\"><pre>SVC(C=5, coef0=1, kernel=&#x27;poly&#x27;)</pre></div></div></div></div></div></div></div></div><div class=\"sk-parallel-item\"><div class=\"sk-item\"><div class=\"sk-label-container\"><div class=\"sk-label sk-toggleable\"><label>sgd</label></div></div><div class=\"sk-serial\"><div class=\"sk-item\"><div class=\"sk-estimator sk-toggleable\"><input class=\"sk-toggleable__control sk-hidden--visually\" id=\"sk-estimator-id-45\" type=\"checkbox\" ><label for=\"sk-estimator-id-45\" class=\"sk-toggleable__label sk-toggleable__label-arrow\">SGDClassifier</label><div class=\"sk-toggleable__content\"><pre>SGDClassifier(random_state=42)</pre></div></div></div></div></div></div><div class=\"sk-parallel-item\"><div class=\"sk-item\"><div class=\"sk-label-container\"><div class=\"sk-label sk-toggleable\"><label>dt</label></div></div><div class=\"sk-serial\"><div class=\"sk-item\"><div class=\"sk-estimator sk-toggleable\"><input class=\"sk-toggleable__control sk-hidden--visually\" id=\"sk-estimator-id-46\" type=\"checkbox\" ><label for=\"sk-estimator-id-46\" class=\"sk-toggleable__label sk-toggleable__label-arrow\">DecisionTreeClassifier</label><div class=\"sk-toggleable__content\"><pre>DecisionTreeClassifier(max_depth=2)</pre></div></div></div></div></div></div></div></div></div></div>"
      ],
      "text/plain": [
       "VotingClassifier(estimators=[('lr', LogisticRegression(max_iter=10000)),\n",
       "                             ('rf',\n",
       "                              RandomForestClassifier(n_estimators=500,\n",
       "                                                     random_state=42)),\n",
       "                             ('svc',\n",
       "                              Pipeline(steps=[('scaler', StandardScaler()),\n",
       "                                              ('linear_svc',\n",
       "                                               LinearSVC(C=1, dual=False,\n",
       "                                                         max_iter=10000))])),\n",
       "                             ('psvc',\n",
       "                              Pipeline(steps=[('scaler', StandardScaler()),\n",
       "                                              ('svm_clf',\n",
       "                                               SVC(C=5, coef0=1,\n",
       "                                                   kernel='poly'))])),\n",
       "                             ('sgd', SGDClassifier(random_state=42)),\n",
       "                             ('dt', DecisionTreeClassifier(max_depth=2))])"
      ]
     },
     "execution_count": 130,
     "metadata": {},
     "output_type": "execute_result"
    }
   ],
   "source": [
    "voting_clf = VotingClassifier(\n",
    "    estimators = [('lr', log_clf), ('rf', rnd_clf), ('svc', svm_clf), ('psvc', poly_kernel_svm_clf), ('sgd', sgd_clf), ('dt', tree_clf)],\n",
    "    voting='hard')\n",
    "voting_clf.fit(X_train, y_train)"
   ]
  },
  {
   "cell_type": "code",
   "execution_count": 131,
   "metadata": {},
   "outputs": [
    {
     "name": "stdout",
     "output_type": "stream",
     "text": [
      "LogisticRegression 0.870290771175727\n",
      "RandomForestClassifier 1.0\n",
      "Pipeline 0.9719342604298357\n",
      "Pipeline 0.9951959544879899\n",
      "SGDClassifier 0.7352718078381795\n",
      "DecisionTreeClassifier 0.9762326169405815\n",
      "VotingClassifier 0.9716814159292035\n"
     ]
    }
   ],
   "source": [
    "from sklearn.metrics import accuracy_score\n",
    "for clf in (log_clf, rnd_clf, svm_clf, poly_kernel_svm_clf, sgd_clf, tree_clf, voting_clf):\n",
    "    clf.fit(X_train, y_train)\n",
    "    y_pred = clf.predict(X_test)\n",
    "    print(clf.__class__.__name__, accuracy_score(y_test, y_pred))"
   ]
  },
  {
   "cell_type": "markdown",
   "metadata": {},
   "source": [
    "Looks like the Voting Classifier isn't as good as Random Forest"
   ]
  },
  {
   "cell_type": "markdown",
   "metadata": {},
   "source": [
    "### Tuning Hyperparameters for Random Forest Tree"
   ]
  },
  {
   "cell_type": "code",
   "execution_count": 132,
   "metadata": {},
   "outputs": [
    {
     "name": "stdout",
     "output_type": "stream",
     "text": [
      "{'bootstrap': True, 'ccp_alpha': 0.0, 'class_weight': None, 'criterion': 'gini', 'max_depth': None, 'max_features': 'sqrt', 'max_leaf_nodes': None, 'max_samples': None, 'min_impurity_decrease': 0.0, 'min_samples_leaf': 1, 'min_samples_split': 2, 'min_weight_fraction_leaf': 0.0, 'n_estimators': 500, 'n_jobs': None, 'oob_score': False, 'random_state': 42, 'verbose': 0, 'warm_start': False}\n"
     ]
    }
   ],
   "source": [
    "print(rnd_clf.get_params())"
   ]
  },
  {
   "cell_type": "code",
   "execution_count": 133,
   "metadata": {},
   "outputs": [
    {
     "name": "stdout",
     "output_type": "stream",
     "text": [
      "{'n_estimators': [200, 400, 600, 800, 1000, 1200, 1400, 1600, 1800, 2000], 'max_features': ['auto', 'sqrt'], 'max_depth': [10, 20, 30, 40, 50, 60, 70, 80, 90, 100, 110, None], 'min_samples_split': [2, 5, 10], 'min_samples_leaf': [1, 2, 4], 'bootstrap': [True, False]}\n"
     ]
    }
   ],
   "source": [
    "from sklearn.model_selection import RandomizedSearchCV\n",
    "# Number of trees in random forest\n",
    "n_estimators = [int(x) for x in np.linspace(start = 200, stop = 2000, num = 10)]\n",
    "# Number of features to consider at every split\n",
    "max_features = ['auto', 'sqrt']\n",
    "# Maximum number of levels in tree\n",
    "max_depth = [int(x) for x in np.linspace(10, 110, num = 11)]\n",
    "max_depth.append(None)\n",
    "# Minimum number of samples required to split a node\n",
    "min_samples_split = [2, 5, 10]\n",
    "# Minimum number of samples required at each leaf node\n",
    "min_samples_leaf = [1, 2, 4]\n",
    "# Method of selecting samples for training each tree\n",
    "bootstrap = [True, False]\n",
    "# Create the random grid\n",
    "random_grid = {'n_estimators': n_estimators,\n",
    "               'max_features': max_features,\n",
    "               'max_depth': max_depth,\n",
    "               'min_samples_split': min_samples_split,\n",
    "               'min_samples_leaf': min_samples_leaf,\n",
    "               'bootstrap': bootstrap}\n",
    "print(random_grid)"
   ]
  },
  {
   "cell_type": "code",
   "execution_count": 141,
   "metadata": {},
   "outputs": [
    {
     "name": "stderr",
     "output_type": "stream",
     "text": [
      "/opt/homebrew/lib/python3.10/site-packages/sklearn/ensemble/_forest.py:427: FutureWarning: `max_features='auto'` has been deprecated in 1.1 and will be removed in 1.3. To keep the past behaviour, explicitly set `max_features='sqrt'` or remove this parameter as it is also the default value for RandomForestClassifiers and ExtraTreesClassifiers.\n",
      "  warn(\n",
      "/opt/homebrew/lib/python3.10/site-packages/sklearn/ensemble/_forest.py:427: FutureWarning: `max_features='auto'` has been deprecated in 1.1 and will be removed in 1.3. To keep the past behaviour, explicitly set `max_features='sqrt'` or remove this parameter as it is also the default value for RandomForestClassifiers and ExtraTreesClassifiers.\n",
      "  warn(\n",
      "/opt/homebrew/lib/python3.10/site-packages/sklearn/ensemble/_forest.py:427: FutureWarning: `max_features='auto'` has been deprecated in 1.1 and will be removed in 1.3. To keep the past behaviour, explicitly set `max_features='sqrt'` or remove this parameter as it is also the default value for RandomForestClassifiers and ExtraTreesClassifiers.\n",
      "  warn(\n",
      "/opt/homebrew/lib/python3.10/site-packages/sklearn/ensemble/_forest.py:427: FutureWarning: `max_features='auto'` has been deprecated in 1.1 and will be removed in 1.3. To keep the past behaviour, explicitly set `max_features='sqrt'` or remove this parameter as it is also the default value for RandomForestClassifiers and ExtraTreesClassifiers.\n",
      "  warn(\n",
      "/opt/homebrew/lib/python3.10/site-packages/sklearn/ensemble/_forest.py:427: FutureWarning: `max_features='auto'` has been deprecated in 1.1 and will be removed in 1.3. To keep the past behaviour, explicitly set `max_features='sqrt'` or remove this parameter as it is also the default value for RandomForestClassifiers and ExtraTreesClassifiers.\n",
      "  warn(\n",
      "/opt/homebrew/lib/python3.10/site-packages/sklearn/ensemble/_forest.py:427: FutureWarning: `max_features='auto'` has been deprecated in 1.1 and will be removed in 1.3. To keep the past behaviour, explicitly set `max_features='sqrt'` or remove this parameter as it is also the default value for RandomForestClassifiers and ExtraTreesClassifiers.\n",
      "  warn(\n",
      "/opt/homebrew/lib/python3.10/site-packages/sklearn/ensemble/_forest.py:427: FutureWarning: `max_features='auto'` has been deprecated in 1.1 and will be removed in 1.3. To keep the past behaviour, explicitly set `max_features='sqrt'` or remove this parameter as it is also the default value for RandomForestClassifiers and ExtraTreesClassifiers.\n",
      "  warn(\n",
      "/opt/homebrew/lib/python3.10/site-packages/sklearn/ensemble/_forest.py:427: FutureWarning: `max_features='auto'` has been deprecated in 1.1 and will be removed in 1.3. To keep the past behaviour, explicitly set `max_features='sqrt'` or remove this parameter as it is also the default value for RandomForestClassifiers and ExtraTreesClassifiers.\n",
      "  warn(\n",
      "/opt/homebrew/lib/python3.10/site-packages/sklearn/ensemble/_forest.py:427: FutureWarning: `max_features='auto'` has been deprecated in 1.1 and will be removed in 1.3. To keep the past behaviour, explicitly set `max_features='sqrt'` or remove this parameter as it is also the default value for RandomForestClassifiers and ExtraTreesClassifiers.\n",
      "  warn(\n",
      "/opt/homebrew/lib/python3.10/site-packages/sklearn/ensemble/_forest.py:427: FutureWarning: `max_features='auto'` has been deprecated in 1.1 and will be removed in 1.3. To keep the past behaviour, explicitly set `max_features='sqrt'` or remove this parameter as it is also the default value for RandomForestClassifiers and ExtraTreesClassifiers.\n",
      "  warn(\n",
      "/opt/homebrew/lib/python3.10/site-packages/sklearn/ensemble/_forest.py:427: FutureWarning: `max_features='auto'` has been deprecated in 1.1 and will be removed in 1.3. To keep the past behaviour, explicitly set `max_features='sqrt'` or remove this parameter as it is also the default value for RandomForestClassifiers and ExtraTreesClassifiers.\n",
      "  warn(\n",
      "/opt/homebrew/lib/python3.10/site-packages/sklearn/ensemble/_forest.py:427: FutureWarning: `max_features='auto'` has been deprecated in 1.1 and will be removed in 1.3. To keep the past behaviour, explicitly set `max_features='sqrt'` or remove this parameter as it is also the default value for RandomForestClassifiers and ExtraTreesClassifiers.\n",
      "  warn(\n",
      "/opt/homebrew/lib/python3.10/site-packages/sklearn/ensemble/_forest.py:427: FutureWarning: `max_features='auto'` has been deprecated in 1.1 and will be removed in 1.3. To keep the past behaviour, explicitly set `max_features='sqrt'` or remove this parameter as it is also the default value for RandomForestClassifiers and ExtraTreesClassifiers.\n",
      "  warn(\n",
      "/opt/homebrew/lib/python3.10/site-packages/sklearn/ensemble/_forest.py:427: FutureWarning: `max_features='auto'` has been deprecated in 1.1 and will be removed in 1.3. To keep the past behaviour, explicitly set `max_features='sqrt'` or remove this parameter as it is also the default value for RandomForestClassifiers and ExtraTreesClassifiers.\n",
      "  warn(\n",
      "/opt/homebrew/lib/python3.10/site-packages/sklearn/ensemble/_forest.py:427: FutureWarning: `max_features='auto'` has been deprecated in 1.1 and will be removed in 1.3. To keep the past behaviour, explicitly set `max_features='sqrt'` or remove this parameter as it is also the default value for RandomForestClassifiers and ExtraTreesClassifiers.\n",
      "  warn(\n",
      "/opt/homebrew/lib/python3.10/site-packages/sklearn/ensemble/_forest.py:427: FutureWarning: `max_features='auto'` has been deprecated in 1.1 and will be removed in 1.3. To keep the past behaviour, explicitly set `max_features='sqrt'` or remove this parameter as it is also the default value for RandomForestClassifiers and ExtraTreesClassifiers.\n",
      "  warn(\n",
      "/opt/homebrew/lib/python3.10/site-packages/sklearn/ensemble/_forest.py:427: FutureWarning: `max_features='auto'` has been deprecated in 1.1 and will be removed in 1.3. To keep the past behaviour, explicitly set `max_features='sqrt'` or remove this parameter as it is also the default value for RandomForestClassifiers and ExtraTreesClassifiers.\n",
      "  warn(\n",
      "/opt/homebrew/lib/python3.10/site-packages/sklearn/ensemble/_forest.py:427: FutureWarning: `max_features='auto'` has been deprecated in 1.1 and will be removed in 1.3. To keep the past behaviour, explicitly set `max_features='sqrt'` or remove this parameter as it is also the default value for RandomForestClassifiers and ExtraTreesClassifiers.\n",
      "  warn(\n",
      "/opt/homebrew/lib/python3.10/site-packages/sklearn/ensemble/_forest.py:427: FutureWarning: `max_features='auto'` has been deprecated in 1.1 and will be removed in 1.3. To keep the past behaviour, explicitly set `max_features='sqrt'` or remove this parameter as it is also the default value for RandomForestClassifiers and ExtraTreesClassifiers.\n",
      "  warn(\n",
      "/opt/homebrew/lib/python3.10/site-packages/sklearn/ensemble/_forest.py:427: FutureWarning: `max_features='auto'` has been deprecated in 1.1 and will be removed in 1.3. To keep the past behaviour, explicitly set `max_features='sqrt'` or remove this parameter as it is also the default value for RandomForestClassifiers and ExtraTreesClassifiers.\n",
      "  warn(\n",
      "/opt/homebrew/lib/python3.10/site-packages/sklearn/ensemble/_forest.py:427: FutureWarning: `max_features='auto'` has been deprecated in 1.1 and will be removed in 1.3. To keep the past behaviour, explicitly set `max_features='sqrt'` or remove this parameter as it is also the default value for RandomForestClassifiers and ExtraTreesClassifiers.\n",
      "  warn(\n",
      "/opt/homebrew/lib/python3.10/site-packages/sklearn/ensemble/_forest.py:427: FutureWarning: `max_features='auto'` has been deprecated in 1.1 and will be removed in 1.3. To keep the past behaviour, explicitly set `max_features='sqrt'` or remove this parameter as it is also the default value for RandomForestClassifiers and ExtraTreesClassifiers.\n",
      "  warn(\n",
      "/opt/homebrew/lib/python3.10/site-packages/sklearn/ensemble/_forest.py:427: FutureWarning: `max_features='auto'` has been deprecated in 1.1 and will be removed in 1.3. To keep the past behaviour, explicitly set `max_features='sqrt'` or remove this parameter as it is also the default value for RandomForestClassifiers and ExtraTreesClassifiers.\n",
      "  warn(\n",
      "/opt/homebrew/lib/python3.10/site-packages/sklearn/ensemble/_forest.py:427: FutureWarning: `max_features='auto'` has been deprecated in 1.1 and will be removed in 1.3. To keep the past behaviour, explicitly set `max_features='sqrt'` or remove this parameter as it is also the default value for RandomForestClassifiers and ExtraTreesClassifiers.\n",
      "  warn(\n",
      "/opt/homebrew/lib/python3.10/site-packages/sklearn/ensemble/_forest.py:427: FutureWarning: `max_features='auto'` has been deprecated in 1.1 and will be removed in 1.3. To keep the past behaviour, explicitly set `max_features='sqrt'` or remove this parameter as it is also the default value for RandomForestClassifiers and ExtraTreesClassifiers.\n",
      "  warn(\n"
     ]
    }
   ],
   "source": [
    "adj_rnd_clf = RandomForestClassifier(random_state=42, max_features = 'sqrt')\n",
    "rf_random_search = RandomizedSearchCV( adj_rnd_clf, random_grid, n_iter = 10, cv=5, scoring='neg_mean_squared_error',return_train_score=True, random_state=42)\n",
    "# Fit the random search model\n",
    "rf_random_search.fit(X_train, y_train)\n",
    "import warnings\n",
    "warnings.filterwarnings(\"ignore\")"
   ]
  },
  {
   "cell_type": "code",
   "execution_count": 142,
   "metadata": {},
   "outputs": [
    {
     "data": {
      "text/html": [
       "<style>#sk-container-id-17 {color: black;background-color: white;}#sk-container-id-17 pre{padding: 0;}#sk-container-id-17 div.sk-toggleable {background-color: white;}#sk-container-id-17 label.sk-toggleable__label {cursor: pointer;display: block;width: 100%;margin-bottom: 0;padding: 0.3em;box-sizing: border-box;text-align: center;}#sk-container-id-17 label.sk-toggleable__label-arrow:before {content: \"▸\";float: left;margin-right: 0.25em;color: #696969;}#sk-container-id-17 label.sk-toggleable__label-arrow:hover:before {color: black;}#sk-container-id-17 div.sk-estimator:hover label.sk-toggleable__label-arrow:before {color: black;}#sk-container-id-17 div.sk-toggleable__content {max-height: 0;max-width: 0;overflow: hidden;text-align: left;background-color: #f0f8ff;}#sk-container-id-17 div.sk-toggleable__content pre {margin: 0.2em;color: black;border-radius: 0.25em;background-color: #f0f8ff;}#sk-container-id-17 input.sk-toggleable__control:checked~div.sk-toggleable__content {max-height: 200px;max-width: 100%;overflow: auto;}#sk-container-id-17 input.sk-toggleable__control:checked~label.sk-toggleable__label-arrow:before {content: \"▾\";}#sk-container-id-17 div.sk-estimator input.sk-toggleable__control:checked~label.sk-toggleable__label {background-color: #d4ebff;}#sk-container-id-17 div.sk-label input.sk-toggleable__control:checked~label.sk-toggleable__label {background-color: #d4ebff;}#sk-container-id-17 input.sk-hidden--visually {border: 0;clip: rect(1px 1px 1px 1px);clip: rect(1px, 1px, 1px, 1px);height: 1px;margin: -1px;overflow: hidden;padding: 0;position: absolute;width: 1px;}#sk-container-id-17 div.sk-estimator {font-family: monospace;background-color: #f0f8ff;border: 1px dotted black;border-radius: 0.25em;box-sizing: border-box;margin-bottom: 0.5em;}#sk-container-id-17 div.sk-estimator:hover {background-color: #d4ebff;}#sk-container-id-17 div.sk-parallel-item::after {content: \"\";width: 100%;border-bottom: 1px solid gray;flex-grow: 1;}#sk-container-id-17 div.sk-label:hover label.sk-toggleable__label {background-color: #d4ebff;}#sk-container-id-17 div.sk-serial::before {content: \"\";position: absolute;border-left: 1px solid gray;box-sizing: border-box;top: 0;bottom: 0;left: 50%;z-index: 0;}#sk-container-id-17 div.sk-serial {display: flex;flex-direction: column;align-items: center;background-color: white;padding-right: 0.2em;padding-left: 0.2em;position: relative;}#sk-container-id-17 div.sk-item {position: relative;z-index: 1;}#sk-container-id-17 div.sk-parallel {display: flex;align-items: stretch;justify-content: center;background-color: white;position: relative;}#sk-container-id-17 div.sk-item::before, #sk-container-id-17 div.sk-parallel-item::before {content: \"\";position: absolute;border-left: 1px solid gray;box-sizing: border-box;top: 0;bottom: 0;left: 50%;z-index: -1;}#sk-container-id-17 div.sk-parallel-item {display: flex;flex-direction: column;z-index: 1;position: relative;background-color: white;}#sk-container-id-17 div.sk-parallel-item:first-child::after {align-self: flex-end;width: 50%;}#sk-container-id-17 div.sk-parallel-item:last-child::after {align-self: flex-start;width: 50%;}#sk-container-id-17 div.sk-parallel-item:only-child::after {width: 0;}#sk-container-id-17 div.sk-dashed-wrapped {border: 1px dashed gray;margin: 0 0.4em 0.5em 0.4em;box-sizing: border-box;padding-bottom: 0.4em;background-color: white;}#sk-container-id-17 div.sk-label label {font-family: monospace;font-weight: bold;display: inline-block;line-height: 1.2em;}#sk-container-id-17 div.sk-label-container {text-align: center;}#sk-container-id-17 div.sk-container {/* jupyter's `normalize.less` sets `[hidden] { display: none; }` but bootstrap.min.css set `[hidden] { display: none !important; }` so we also need the `!important` here to be able to override the default hidden behavior on the sphinx rendered scikit-learn.org. See: https://github.com/scikit-learn/scikit-learn/issues/21755 */display: inline-block !important;position: relative;}#sk-container-id-17 div.sk-text-repr-fallback {display: none;}</style><div id=\"sk-container-id-17\" class=\"sk-top-container\"><div class=\"sk-text-repr-fallback\"><pre>RandomForestClassifier(max_depth=30, min_samples_split=5, n_estimators=1400,\n",
       "                       random_state=42)</pre><b>In a Jupyter environment, please rerun this cell to show the HTML representation or trust the notebook. <br />On GitHub, the HTML representation is unable to render, please try loading this page with nbviewer.org.</b></div><div class=\"sk-container\" hidden><div class=\"sk-item\"><div class=\"sk-estimator sk-toggleable\"><input class=\"sk-toggleable__control sk-hidden--visually\" id=\"sk-estimator-id-47\" type=\"checkbox\" checked><label for=\"sk-estimator-id-47\" class=\"sk-toggleable__label sk-toggleable__label-arrow\">RandomForestClassifier</label><div class=\"sk-toggleable__content\"><pre>RandomForestClassifier(max_depth=30, min_samples_split=5, n_estimators=1400,\n",
       "                       random_state=42)</pre></div></div></div></div></div>"
      ],
      "text/plain": [
       "RandomForestClassifier(max_depth=30, min_samples_split=5, n_estimators=1400,\n",
       "                       random_state=42)"
      ]
     },
     "execution_count": 142,
     "metadata": {},
     "output_type": "execute_result"
    }
   ],
   "source": [
    "rf_random_search.best_estimator_"
   ]
  },
  {
   "cell_type": "code",
   "execution_count": 143,
   "metadata": {},
   "outputs": [
    {
     "data": {
      "text/plain": [
       "array([0.0037876 , 0.00269842, 0.00140609, 0.00268266, 0.00631463,\n",
       "       0.12282372, 0.        , 0.04689957, 0.14054949, 0.        ,\n",
       "       0.00072704, 0.03482117, 0.35990533, 0.00044495, 0.22790715,\n",
       "       0.0490322 ])"
      ]
     },
     "execution_count": 143,
     "metadata": {},
     "output_type": "execute_result"
    }
   ],
   "source": [
    "feature_importances = rf_random_search.best_estimator_.feature_importances_\n",
    "feature_importances"
   ]
  },
  {
   "cell_type": "code",
   "execution_count": 145,
   "metadata": {},
   "outputs": [
    {
     "name": "stdout",
     "output_type": "stream",
     "text": [
      "0.3599053295688058 Filling Time\n",
      "0.22790715170543835 Min Cushion Position\n",
      "0.14054948517968877 Dose Time\n",
      "0.12282371532849085 Clamp Tonnage After Hold\n",
      "0.049032197632981285 Pack Pressure\n",
      "0.046899566771462696 Cycle Time\n",
      "0.03482116570219136 Filling Peak Pressure\n",
      "0.0063146301422194115 Barrel Temp Zone 5\n",
      "0.003787598923836004 Barrel Temp Zone 1\n",
      "0.0026984190672428537 Barrel Temp Zone 2\n",
      "0.002682656574959897 Barrel Temp Zone 4\n",
      "0.001406091016687946 Barrel Temp Zone 3\n",
      "0.0007270422708277988 Ejector Ejection Speed\n",
      "0.00044495011516694315 Injection Speed\n",
      "0.0 Ejector Ejection Position\n",
      "0.0 Cooling Time\n"
     ]
    }
   ],
   "source": [
    "for name, score in sorted(zip(rf_random_search.best_estimator_.feature_importances_, X_train,), reverse=True):\n",
    "    print(name, score)"
   ]
  },
  {
   "cell_type": "code",
   "execution_count": 147,
   "metadata": {},
   "outputs": [],
   "source": [
    "final_model = rf_random_search.best_estimator_\n",
    "\n",
    "final_predictions = final_model.predict(X_test)"
   ]
  },
  {
   "cell_type": "code",
   "execution_count": 148,
   "metadata": {},
   "outputs": [
    {
     "data": {
      "text/plain": [
       "array([[2110,    0],\n",
       "       [   0, 1845]])"
      ]
     },
     "execution_count": 148,
     "metadata": {},
     "output_type": "execute_result"
    }
   ],
   "source": [
    "confusion_matrix(y_test, final_predictions)"
   ]
  },
  {
   "cell_type": "markdown",
   "metadata": {},
   "source": [
    "Seems like it works :)"
   ]
  },
  {
   "cell_type": "markdown",
   "metadata": {},
   "source": []
  }
 ],
 "metadata": {
  "kernelspec": {
   "display_name": "Python 3.10.6 64-bit",
   "language": "python",
   "name": "python3"
  },
  "language_info": {
   "codemirror_mode": {
    "name": "ipython",
    "version": 3
   },
   "file_extension": ".py",
   "mimetype": "text/x-python",
   "name": "python",
   "nbconvert_exporter": "python",
   "pygments_lexer": "ipython3",
   "version": "3.10.6"
  },
  "orig_nbformat": 4,
  "vscode": {
   "interpreter": {
    "hash": "b0fa6594d8f4cbf19f97940f81e996739fb7646882a419484c72d19e05852a7e"
   }
  }
 },
 "nbformat": 4,
 "nbformat_minor": 2
}
